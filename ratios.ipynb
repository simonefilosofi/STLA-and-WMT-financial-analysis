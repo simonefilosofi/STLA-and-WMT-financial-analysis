{
 "cells": [
  {
   "cell_type": "code",
   "execution_count": 10,
   "id": "95dbc8b3",
   "metadata": {},
   "outputs": [
    {
     "name": "stderr",
     "output_type": "stream",
     "text": [
      "<>:3: SyntaxWarning: invalid escape sequence '\\w'\n",
      "<>:4: SyntaxWarning: invalid escape sequence '\\s'\n",
      "<>:3: SyntaxWarning: invalid escape sequence '\\w'\n",
      "<>:4: SyntaxWarning: invalid escape sequence '\\s'\n",
      "C:\\Users\\Utente\\AppData\\Local\\Temp\\ipykernel_10768\\3285281460.py:3: SyntaxWarning: invalid escape sequence '\\w'\n",
      "  wmtBalanceSheet = pd.read_csv('Dataset\\wmt_balance_sheet.csv')\n",
      "C:\\Users\\Utente\\AppData\\Local\\Temp\\ipykernel_10768\\3285281460.py:4: SyntaxWarning: invalid escape sequence '\\s'\n",
      "  stlaBalanceSheet = pd.read_csv('Dataset\\stla_balance_sheet.csv')\n"
     ]
    }
   ],
   "source": [
    "import pandas as pd\n",
    "\n",
    "wmtBalanceSheet = pd.read_csv('Dataset\\wmt_balance_sheet.csv')\n",
    "stlaBalanceSheet = pd.read_csv('Dataset\\stla_balance_sheet.csv')"
   ]
  },
  {
   "cell_type": "code",
   "execution_count": 21,
   "id": "6aeda90a",
   "metadata": {},
   "outputs": [
    {
     "name": "stdout",
     "output_type": "stream",
     "text": [
      "Walmart Debt Ratio:  0.6254471423149032\n",
      "Walmart Debt to Equity Ratio:  1.6698501412602875\n",
      "Walmart Equity Ratio:  0.3745528576850968\n",
      "Stellantis Debt Ratio:  0.6044690207940966\n",
      "Stellantis Debt to Equity Ratio:  1.5282469707118067\n",
      "Stellantis Equity Ratio:  0.39553097920590347\n"
     ]
    }
   ],
   "source": [
    "wmtTotalLiabilities = 163131000000.0\n",
    "wmtTotalAssets = 260823000000.0\n",
    "wmtTotShareholderEquity = 97692000000.0\n",
    "\n",
    "stlaTotalLiabilities = 125492000000.0\n",
    "stlaTotalAssets = 207607000000.0\n",
    "stlaTotShareholderEquity = 82115000000.0\n",
    "\n",
    "wmtDebtRatio = wmtTotalLiabilities / wmtTotalAssets\n",
    "wmtDebtToEquity = wmtTotalLiabilities / wmtTotShareholderEquity\n",
    "wmtEquityRatio = wmtTotShareholderEquity / wmtTotalAssets\n",
    "\n",
    "stlaDebtRatio = stlaTotalLiabilities / stlaTotalAssets\n",
    "stlaDebtToEquity = stlaTotalLiabilities / stlaTotShareholderEquity\n",
    "stlaEquityRatio = stlaTotShareholderEquity / stlaTotalAssets\n",
    "\n",
    "print(\"Walmart Debt Ratio: \", wmtDebtRatio)\n",
    "print(\"Walmart Debt to Equity Ratio: \", wmtDebtToEquity)\n",
    "print(\"Walmart Equity Ratio: \", wmtEquityRatio)\n",
    "print(\"Stellantis Debt Ratio: \", stlaDebtRatio)\n",
    "print(\"Stellantis Debt to Equity Ratio: \", stlaDebtToEquity)\n",
    "print(\"Stellantis Equity Ratio: \", stlaEquityRatio)\n",
    "\n"
   ]
  }
 ],
 "metadata": {
  "kernelspec": {
   "display_name": "Python 3",
   "language": "python",
   "name": "python3"
  },
  "language_info": {
   "codemirror_mode": {
    "name": "ipython",
    "version": 3
   },
   "file_extension": ".py",
   "mimetype": "text/x-python",
   "name": "python",
   "nbconvert_exporter": "python",
   "pygments_lexer": "ipython3",
   "version": "3.12.10"
  }
 },
 "nbformat": 4,
 "nbformat_minor": 5
}
