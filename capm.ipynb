{
 "cells": [
  {
   "cell_type": "markdown",
   "id": "37f5babf",
   "metadata": {},
   "source": [
    "## Capital Asset Pricing Model (CAPM)\n",
    "\n",
    "The Capital Asset Pricing Model (CAPM) is a financial model that describes the relationship between the expected return of an asset and its risk, as measured by beta. The CAPM formula is given by:\n",
    "\n",
    "$$ E(R_i) = R_f + \\beta_i (E(R_m) - R_f) $$\n",
    "\n",
    "Where:\n",
    "- $E(R_i)$ is the expected return of the asset\n",
    "- $R_f$ is the risk-free rate\n",
    "- $\\beta_i$ is the beta of the asset, which measures its sensitivity to market movements\n",
    "- $E(R_m)$ is the expected return of the market\n",
    "- $E(R_m) - R_f$ is the market risk premium, which is the additional return expected from investing in the market over the risk-free rate\n",
    "\n"
   ]
  },
  {
   "cell_type": "code",
   "execution_count": 1,
   "id": "552fe4fc",
   "metadata": {},
   "outputs": [
    {
     "name": "stderr",
     "output_type": "stream",
     "text": [
      "<>:5: SyntaxWarning: invalid escape sequence '\\S'\n",
      "<>:6: SyntaxWarning: invalid escape sequence '\\W'\n",
      "<>:5: SyntaxWarning: invalid escape sequence '\\S'\n",
      "<>:6: SyntaxWarning: invalid escape sequence '\\W'\n",
      "C:\\Users\\miche\\AppData\\Local\\Temp\\ipykernel_37956\\808878057.py:5: SyntaxWarning: invalid escape sequence '\\S'\n",
      "  stellantis_df = pd.read_csv('Dataset\\Stellantis NV Stock Price History.csv')\n",
      "C:\\Users\\miche\\AppData\\Local\\Temp\\ipykernel_37956\\808878057.py:6: SyntaxWarning: invalid escape sequence '\\W'\n",
      "  walmart_df = pd.read_csv('Dataset\\Walmart Stock Price History.csv')\n"
     ]
    }
   ],
   "source": [
    "# Importing necessary libraries\n",
    "import pandas as pd\n",
    "\n",
    "# Reading the CSV files into DataFrames\n",
    "stellantis_df = pd.read_csv('Dataset\\Stellantis NV Stock Price History.csv')\n",
    "walmart_df = pd.read_csv('Dataset\\Walmart Stock Price History.csv')"
   ]
  },
  {
   "cell_type": "code",
   "execution_count": 6,
   "id": "bd0f117c",
   "metadata": {},
   "outputs": [
    {
     "name": "stdout",
     "output_type": "stream",
     "text": [
      "Expected Return of Walmart: -0.010706659237719386\n",
      "Expected Return of Stellantis: -0.0038028980872543516\n",
      "Standard Deviation of Walmart: 0.0597606893779738\n",
      "Standard Deviation of Stellantis: 0.11116471814984946\n",
      "Covariance between Walmart and Stellantis: 0.0008620665152134672\n",
      "Correlation between Walmart and Stellantis: 0.12976518984744573\n"
     ]
    }
   ],
   "source": [
    "walmart_df[\"Return\"] = walmart_df[\"Price\"].pct_change()\n",
    "stellantis_df[\"Return\"] = stellantis_df[\"Price\"].pct_change()\n",
    "\n",
    "walmart_expeced_return = walmart_df[\"Return\"].mean()\n",
    "stellantis_expeced_return = stellantis_df[\"Return\"].mean()\n",
    "\n",
    "walmart_std = walmart_df[\"Return\"].std()\n",
    "stellantis_std = stellantis_df[\"Return\"].std()\n",
    "\n",
    "# Calculating the covariance and correlation between the two stocks\n",
    "\n",
    "covariance = walmart_df[\"Return\"].cov(stellantis_df[\"Return\"])\n",
    "correlation = walmart_df[\"Return\"].corr(stellantis_df[\"Return\"])\n",
    "\n",
    "# Displaying the results\n",
    "print(f\"Expected Return of Walmart: {walmart_expeced_return}\")\n",
    "print(f\"Expected Return of Stellantis: {stellantis_expeced_return}\")\n",
    "print(f\"Standard Deviation of Walmart: {walmart_std}\")\n",
    "print(f\"Standard Deviation of Stellantis: {stellantis_std}\")\n",
    "print(f\"Covariance between Walmart and Stellantis: {covariance}\")\n",
    "print(f\"Correlation between Walmart and Stellantis: {correlation}\")\n",
    "\n",
    "\n"
   ]
  }
 ],
 "metadata": {
  "kernelspec": {
   "display_name": "Python 3",
   "language": "python",
   "name": "python3"
  },
  "language_info": {
   "codemirror_mode": {
    "name": "ipython",
    "version": 3
   },
   "file_extension": ".py",
   "mimetype": "text/x-python",
   "name": "python",
   "nbconvert_exporter": "python",
   "pygments_lexer": "ipython3",
   "version": "3.13.2"
  }
 },
 "nbformat": 4,
 "nbformat_minor": 5
}
