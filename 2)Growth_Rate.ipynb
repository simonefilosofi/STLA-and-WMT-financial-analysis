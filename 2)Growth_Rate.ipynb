{
 "cells": [
  {
   "cell_type": "markdown",
   "id": "f115c9f0",
   "metadata": {},
   "source": [
    "## Assessing the growth rate of the two companies\n",
    "\n",
    "In this notebook, we will analyze the growth rate of two companies, Company A and Company B, over a period of 5 years considering some metrics that can be computed from their balance sheets."
   ]
  },
  {
   "cell_type": "code",
   "execution_count": 1,
   "id": "44a3ecf1",
   "metadata": {},
   "outputs": [],
   "source": [
    "# Importing Libraries\n",
    "import pandas as pd"
   ]
  },
  {
   "cell_type": "code",
   "execution_count": 2,
   "id": "e6c11183",
   "metadata": {},
   "outputs": [
    {
     "name": "stderr",
     "output_type": "stream",
     "text": [
      "<>:2: SyntaxWarning: invalid escape sequence '\\w'\n",
      "<>:3: SyntaxWarning: invalid escape sequence '\\s'\n",
      "<>:2: SyntaxWarning: invalid escape sequence '\\w'\n",
      "<>:3: SyntaxWarning: invalid escape sequence '\\s'\n",
      "C:\\Users\\miche\\AppData\\Local\\Temp\\ipykernel_24104\\2364590694.py:2: SyntaxWarning: invalid escape sequence '\\w'\n",
      "  wmt_balance = pd.read_csv(\"Dataset\\wmt_balance_sheet.csv\")\n",
      "C:\\Users\\miche\\AppData\\Local\\Temp\\ipykernel_24104\\2364590694.py:3: SyntaxWarning: invalid escape sequence '\\s'\n",
      "  stla_balance = pd.read_csv(\"Dataset\\stla_balance_sheet.csv\")\n"
     ]
    }
   ],
   "source": [
    "# Importing the datasets\n",
    "wmt_balance = pd.read_csv(\"Dataset\\wmt_balance_sheet.csv\")\n",
    "stla_balance = pd.read_csv(\"Dataset\\stla_balance_sheet.csv\")\n",
    "\n",
    "# Putting everything in mln unit and setting the index to the first column\n",
    "wmt_balance.set_index(wmt_balance.columns[0], inplace=True)\n",
    "wmt_balance = wmt_balance / 1000000\n",
    "stla_balance.set_index(stla_balance.columns[0], inplace=True)\n",
    "stla_balance = stla_balance / 1000000"
   ]
  },
  {
   "cell_type": "code",
   "execution_count": 3,
   "id": "430d41c8",
   "metadata": {},
   "outputs": [
    {
     "name": "stdout",
     "output_type": "stream",
     "text": [
      "There are 66 rows in both dataframes:\n",
      "{'Current Liabilities', 'Total Capitalization', 'Total Liabilities Net Minority Interest', 'Total Tax Payable', 'Total Debt', 'Cash Cash Equivalents And Short Term Investments', 'Gains Losses Not Affecting Retained Earnings', 'Invested Capital', 'Other Properties', 'Current Capital Lease Obligation', 'Ordinary Shares Number', 'Receivables', 'Long Term Debt And Capital Lease Obligation', 'Accumulated Depreciation', 'Long Term Debt', 'Goodwill And Other Intangible Assets', 'Net PPE', 'Current Assets', 'Capital Lease Obligations', 'Total Non Current Assets', 'Other Equity Adjustments', 'Share Issued', 'Current Deferred Liabilities', 'Current Accrued Expenses', 'Goodwill', 'Properties', 'Prepaid Assets', 'Non Current Deferred Liabilities', 'Payables', 'Working Capital', 'Non Current Deferred Taxes Liabilities', 'Inventory', 'Total Equity Gross Minority Interest', 'Minority Interest', 'Cash And Cash Equivalents', 'Other Current Liabilities', 'Current Debt And Capital Lease Obligation', 'Pensionand Other Post Retirement Benefit Plans Current', 'Long Term Capital Lease Obligation', 'Other Current Assets', 'Accounts Receivable', 'Retained Earnings', 'Net Tangible Assets', 'Common Stock Equity', 'Current Debt', 'Tangible Book Value', 'Net Debt', 'Machinery Furniture Equipment', 'Buildings And Improvements', 'Foreign Currency Translation Adjustments', 'Common Stock', 'Other Current Borrowings', 'Payables And Accrued Expenses', 'Gross PPE', 'Current Deferred Revenue', 'Other Non Current Liabilities', 'Stockholders Equity', 'Accounts Payable', 'Land And Improvements', 'Unrealized Gain Loss', 'Total Non Current Liabilities Net Minority Interest', 'Construction In Progress', 'Total Assets', 'Other Non Current Assets', 'Capital Stock', 'Minimum Pension Liabilities'}\n",
      "There are 2 rows only in the Walmart dataframe:\n",
      "{'Income Tax Payable', 'Additional Paid In Capital'}\n",
      "There are 40 rows only in the Stellantis dataframe:\n",
      "{'Work In Process', 'Defined Pension Benefit', 'Gross Accounts Receivable', 'Investments In Other Ventures Under Equity Method', 'Non Current Deferred Taxes Assets', 'Treasury Stock', 'Investmentsin Associatesat Cost', 'Finished Goods', 'Restricted Cash', 'Hedging Assets Current', 'Other Payable', 'Assets Held For Sale Current', 'Long Term Provisions', 'Non Current Prepaid Assets', 'Available For Sale Securities', 'Non Current Accrued Expenses', 'Non Current Accounts Receivable', 'Other Receivables', 'Tradeand Other Payables Non Current', 'Long Term Equity Investment', 'Non Current Deferred Revenue', 'Taxes Receivable', 'Investments And Advances', 'Non Current Deferred Assets', 'Employee Benefits', 'Investmentsin Subsidiariesat Cost', 'Treasury Shares Number', 'Current Provisions', 'Other Short Term Investments', 'Derivative Product Liabilities', 'Financial Assets', 'Other Inventories', 'Allowance For Doubtful Accounts Receivable', 'Cash Financial', 'Investmentsin Joint Venturesat Cost', 'Held To Maturity Securities', 'Cash Equivalents', 'Financial Assets Designatedas Fair Value Through Profitor Loss Total', 'Investmentin Financial Assets', 'Other Intangible Assets'}\n"
     ]
    }
   ],
   "source": [
    "# Get the rows (index) of both dataframes\n",
    "wmt_rows = set(wmt_balance.index)\n",
    "stla_rows = set(stla_balance.index)\n",
    "\n",
    "# Find common rows\n",
    "common_rows = wmt_rows.intersection(stla_rows)\n",
    "\n",
    "# Find rows only in one of the dataframes\n",
    "wmt_only_rows = wmt_rows - stla_rows\n",
    "stla_only_rows = stla_rows - wmt_rows\n",
    "\n",
    "# Display the results\n",
    "print(f\"There are {len(common_rows)} rows in both dataframes:\")\n",
    "print(common_rows)\n",
    "\n",
    "print(f\"There are {len(wmt_only_rows)} rows only in the Walmart dataframe:\")\n",
    "print(wmt_only_rows)\n",
    "\n",
    "print(f\"There are {len(stla_only_rows)} rows only in the Stellantis dataframe:\")\n",
    "print(stla_only_rows)"
   ]
  },
  {
   "cell_type": "code",
   "execution_count": 4,
   "id": "03f5094f",
   "metadata": {},
   "outputs": [],
   "source": [
    "# Selecting the rows that contain the shareholder equity data\n",
    "Equity_rows = [\"Retained Earnings\",\"Common Stock\", \"Additional Paid In Capital\", \"Gains Losses Not Affecting Retained Earnings\", \"Stockholders Equity\", \"Minority Interest\", \"Total Equity Gross Minority Interest\"]\n",
    "\n",
    "# Selecting the rows that contain the asset data\n",
    "Asset_rows = [\"Cash And Cash Equivalents\", \"Receivables\", \"Inventory\", \"Other Current Assets\", \"Current Assets\", # Current Assets\n",
    "              \"Goodwill\", \"Other Non Current Assets\", # Non Current Assets\n",
    "              \"Construction In Progress\", \"Other Properties\", \"Machinery Furniture Equipment\", \"Buildings And Improvements\", \"Land And Improvements\", \"Gross PPE\", \"Accumulated Depreciation\", \"Net PPE\", # Property, Plant and Equipment\n",
    "              \"Total Non Current Assets\", \"Total Assets\"] # Total Assets\n",
    "\n",
    "# Create dataframes for equity and asset data, for stellantis and walmart. We first select the rows we want, then transpose the dataframe to have the years \n",
    "# as columns and the data as rows. This makes it easier to work with the data later on.\n",
    "\n",
    "# Walmart\n",
    "wmt_equity = wmt_balance.loc[Equity_rows]\n",
    "wmt_equity = wmt_equity.transpose()\n",
    "wmt_equity = wmt_equity[::-1] # Reverse the order of the rows to have the most recent year first\n",
    "wmt_assets = wmt_balance.loc[Asset_rows]\n",
    "wmt_assets = wmt_assets.transpose()\n",
    "wmt_assets = wmt_assets[::-1] # Reverse the order of the rows to have the most recent year first\n",
    "\n",
    "# Stellantis\n",
    "# stla_equity = stla_balance.loc[Equity_rows]\n",
    "# stla_equity = stla_equity.transpose()\n",
    "# stla_equity = stla_equity[::-1] # Reverse the order of the rows to have the most recent year first\n",
    "stla_assets = stla_balance.loc[Asset_rows]\n",
    "stla_assets = stla_assets.transpose()\n",
    "stla_assets = stla_assets[::-1] # Reverse the order of the rows to have the most recent year first\n",
    "\n",
    "\n",
    "\n",
    "\n",
    "\n",
    "\n"
   ]
  },
  {
   "cell_type": "code",
   "execution_count": 5,
   "id": "bb55795d",
   "metadata": {},
   "outputs": [
    {
     "name": "stdout",
     "output_type": "stream",
     "text": [
      "The average rate of increase in assets is 2.15%\n",
      "In 2023 the total assets have decreased by -0.68%\n",
      "In 2024 the total assets have decreased by 3.78%\n",
      "In 2025 the total assets have decreased by 3.34%\n",
      "The average rate of increase in assets is 6.56%\n",
      "In 2022 the total assets have increased by 8.38%\n",
      "In 2023 the total assets have increased by 8.58%\n",
      "In 2024 the total assets have increased by 2.71%\n",
      "The average rate of increase in retained earnings is 4.39%\n",
      "In 2023 the retained earnings have decreased by -4.34%\n",
      "In 2024 the retained earnings have increased by 8.03%\n",
      "In 2025 the retained earnings have increased by 9.46%\n"
     ]
    }
   ],
   "source": [
    "# Computing the ratios\n",
    "\n",
    "wmt_assets[\"Increase in Assets\"] = wmt_assets[\"Total Assets\"].pct_change()\n",
    "stla_assets[\"Increase in Assets\"] = stla_assets[\"Total Assets\"].pct_change()\n",
    "\n",
    "print(f\"The average rate of increase in assets is {wmt_assets['Increase in Assets'].mean() * 100:.2f}%\")\n",
    "for row in wmt_assets.index:\n",
    "    if wmt_assets.loc[row, 'Increase in Assets'] > 0:\n",
    "        print(f\"In {row[:4]} the total assets have decreased by {wmt_assets.loc[row, 'Increase in Assets'] * 100:.2f}%\")\n",
    "    elif wmt_assets.loc[row, 'Increase in Assets'] < 0:\n",
    "        print(f\"In {row[:4]} the total assets have decreased by {wmt_assets.loc[row, 'Increase in Assets'] * 100:.2f}%\")\n",
    "\n",
    "print(f\"The average rate of increase in assets is {stla_assets['Increase in Assets'].mean() * 100:.2f}%\")\n",
    "for row in stla_assets.index:\n",
    "    if stla_assets.loc[row, 'Increase in Assets'] > 0:\n",
    "        print(f\"In {row[:4]} the total assets have increased by {stla_assets.loc[row, 'Increase in Assets'] * 100:.2f}%\")\n",
    "    elif stla_assets.loc[row, 'Increase in Assets'] < 0:\n",
    "        print(f\"In {row[:4]} the total assets have decreased by {stla_assets.loc[row, 'Increase in Assets'] * 100:.2f}%\")\n",
    "\n",
    "wmt_equity[\"Increase in Retained Earnings\"] = wmt_equity[\"Retained Earnings\"].pct_change()\n",
    "print(f\"The average rate of increase in retained earnings is {wmt_equity['Increase in Retained Earnings'].mean() * 100:.2f}%\")  \n",
    "for row in wmt_equity.index:\n",
    "    if wmt_equity.loc[row, 'Increase in Retained Earnings'] > 0:\n",
    "        print(f\"In {row[:4]} the retained earnings have increased by {wmt_equity.loc[row, 'Increase in Retained Earnings'] * 100:.2f}%\")\n",
    "    elif wmt_equity.loc[row, 'Increase in Retained Earnings'] < 0:\n",
    "        print(f\"In {row[:4]} the retained earnings have decreased by {wmt_equity.loc[row, 'Increase in Retained Earnings'] * 100:.2f}%\")\n",
    "\n"
   ]
  },
  {
   "cell_type": "markdown",
   "id": "6489d473",
   "metadata": {},
   "source": [
    "## Income Statement"
   ]
  },
  {
   "cell_type": "code",
   "execution_count": null,
   "id": "eaf30e2b",
   "metadata": {},
   "outputs": [],
   "source": [
    "wmt_income"
   ]
  }
 ],
 "metadata": {
  "kernelspec": {
   "display_name": "Python 3",
   "language": "python",
   "name": "python3"
  },
  "language_info": {
   "codemirror_mode": {
    "name": "ipython",
    "version": 3
   },
   "file_extension": ".py",
   "mimetype": "text/x-python",
   "name": "python",
   "nbconvert_exporter": "python",
   "pygments_lexer": "ipython3",
   "version": "3.13.2"
  }
 },
 "nbformat": 4,
 "nbformat_minor": 5
}
