{
 "cells": [
  {
   "cell_type": "markdown",
   "id": "f115c9f0",
   "metadata": {},
   "source": [
    "## Assessing the growth rate of the two companies\n",
    "\n",
    "In this notebook, we will analyze the growth rate of two companies, Company A and Company B, over a period of 5 years considering some metrics that can be computed from their balance sheets."
   ]
  },
  {
   "cell_type": "code",
   "execution_count": 1,
   "id": "44a3ecf1",
   "metadata": {},
   "outputs": [],
   "source": [
    "# Importing Libraries\n",
    "\n",
    "import pandas as pd"
   ]
  },
  {
   "cell_type": "code",
   "execution_count": 2,
   "id": "e6c11183",
   "metadata": {},
   "outputs": [
    {
     "name": "stderr",
     "output_type": "stream",
     "text": [
      "<>:3: SyntaxWarning: invalid escape sequence '\\w'\n",
      "<>:3: SyntaxWarning: invalid escape sequence '\\w'\n",
      "C:\\Users\\miche\\AppData\\Local\\Temp\\ipykernel_18504\\756321780.py:3: SyntaxWarning: invalid escape sequence '\\w'\n",
      "  wmt_balance = pd.read_csv(\"Dataset\\wmt_balance_sheet.csv\")\n"
     ]
    }
   ],
   "source": [
    "# Importing the dataset\n",
    "\n",
    "wmt_balance = pd.read_csv(\"Dataset\\wmt_balance_sheet.csv\")"
   ]
  }
 ],
 "metadata": {
  "kernelspec": {
   "display_name": "Python 3",
   "language": "python",
   "name": "python3"
  },
  "language_info": {
   "codemirror_mode": {
    "name": "ipython",
    "version": 3
   },
   "file_extension": ".py",
   "mimetype": "text/x-python",
   "name": "python",
   "nbconvert_exporter": "python",
   "pygments_lexer": "ipython3",
   "version": "3.13.2"
  }
 },
 "nbformat": 4,
 "nbformat_minor": 5
}
