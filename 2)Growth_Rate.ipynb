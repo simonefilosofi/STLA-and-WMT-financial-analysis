{
 "cells": [
  {
   "cell_type": "markdown",
   "id": "f115c9f0",
   "metadata": {},
   "source": [
    "## Assessing the growth rate of the two companies\n",
    "\n",
    "In this notebook, we will analyze the growth rate of two companies, Company A and Company B, over a period of 5 years considering some metrics that can be computed from their balance sheets."
   ]
  },
  {
   "cell_type": "code",
   "execution_count": 1,
   "id": "44a3ecf1",
   "metadata": {},
   "outputs": [],
   "source": [
    "# Importing Libraries\n",
    "import pandas as pd"
   ]
  },
  {
   "cell_type": "code",
   "execution_count": 29,
   "id": "e6c11183",
   "metadata": {},
   "outputs": [
    {
     "name": "stderr",
     "output_type": "stream",
     "text": [
      "<>:2: SyntaxWarning: invalid escape sequence '\\w'\n",
      "<>:3: SyntaxWarning: invalid escape sequence '\\s'\n",
      "<>:4: SyntaxWarning: invalid escape sequence '\\w'\n",
      "<>:5: SyntaxWarning: invalid escape sequence '\\s'\n",
      "<>:2: SyntaxWarning: invalid escape sequence '\\w'\n",
      "<>:3: SyntaxWarning: invalid escape sequence '\\s'\n",
      "<>:4: SyntaxWarning: invalid escape sequence '\\w'\n",
      "<>:5: SyntaxWarning: invalid escape sequence '\\s'\n",
      "C:\\Users\\miche\\AppData\\Local\\Temp\\ipykernel_26036\\1202539726.py:2: SyntaxWarning: invalid escape sequence '\\w'\n",
      "  wmt_balance = pd.read_csv(\"Dataset\\wmt_balance_sheet.csv\")\n",
      "C:\\Users\\miche\\AppData\\Local\\Temp\\ipykernel_26036\\1202539726.py:3: SyntaxWarning: invalid escape sequence '\\s'\n",
      "  stla_balance = pd.read_csv(\"Dataset\\stla_balance_sheet.csv\")\n",
      "C:\\Users\\miche\\AppData\\Local\\Temp\\ipykernel_26036\\1202539726.py:4: SyntaxWarning: invalid escape sequence '\\w'\n",
      "  wmt_income = pd.read_csv(\"Dataset\\wmt_income_statement.csv\")\n",
      "C:\\Users\\miche\\AppData\\Local\\Temp\\ipykernel_26036\\1202539726.py:5: SyntaxWarning: invalid escape sequence '\\s'\n",
      "  stla_income = pd.read_csv(\"Dataset\\stla_income_statement.csv\")\n"
     ]
    }
   ],
   "source": [
    "# Importing the datasets\n",
    "wmt_balance = pd.read_csv(\"Dataset\\wmt_balance_sheet.csv\")\n",
    "stla_balance = pd.read_csv(\"Dataset\\stla_balance_sheet.csv\")\n",
    "wmt_income = pd.read_csv(\"Dataset\\wmt_income_statement.csv\")\n",
    "stla_income = pd.read_csv(\"Dataset\\stla_income_statement.csv\")\n",
    "\n",
    "# Putting everything in mln unit and setting the index to the first column\n",
    "wmt_balance.set_index(wmt_balance.columns[0], inplace=True)\n",
    "wmt_balance = wmt_balance / 10**6\n",
    "# Drop last column since it is useless\n",
    "wmt_balance.drop(wmt_balance.columns[-1], axis=1, inplace=True)\n",
    "\n",
    "# Setting the index to the first column\n",
    "wmt_income.set_index(wmt_income.columns[0], inplace=True)\n",
    "wmt_income = wmt_income / 10**6\n",
    "\n",
    "\n",
    "\n",
    "\n",
    "stla_balance.set_index(stla_balance.columns[0], inplace=True)\n",
    "stla_balance = stla_balance / 10**6\n",
    "# Drop last column since it is useless\n",
    "stla_balance.drop(stla_balance.columns[-1], axis=1, inplace=True)\n",
    "\n",
    "# Setting the index to the first column\n",
    "stla_income.set_index(stla_income.columns[0], inplace=True)\n",
    "stla_income = stla_income / 10**6\n",
    "\n"
   ]
  },
  {
   "cell_type": "code",
   "execution_count": 35,
   "id": "024030ec",
   "metadata": {},
   "outputs": [],
   "source": [
    "# Compute and store important metrics for Walmart\n",
    "wmt_metrics = pd.DataFrame(columns = wmt_balance.columns)\n",
    "\n",
    "\n",
    "wmt_metrics.loc[\"Market Cap\"] = wmt_balance.loc[\"Share Issued\"] * 98.16\n",
    "wmt_metrics.loc[\"Current Assets\"] = wmt_balance.loc[\"Current Assets\"]\n",
    "wmt_metrics.loc[\"Current Liabilities\"] = wmt_balance.loc[\"Current Liabilities\"]\n",
    "wmt_metrics.loc[\"Current Ratio\"] = wmt_balance.loc[\"Current Assets\"] / wmt_balance.loc[\"Current Liabilities\"]\n",
    "wmt_metrics.loc[\"Total Debt\"] = wmt_balance.loc[\"Total Debt\"]\n",
    "wmt_metrics.loc[\"Stockholders Equity\"] = wmt_balance.loc[\"Stockholders Equity\"]\n",
    "wmt_metrics.loc[\"Debt to Equity\"] = wmt_balance.loc[\"Total Debt\"] / wmt_balance.loc[\"Stockholders Equity\"]\n",
    "wmt_metrics.loc[\"Net Income\"] = wmt_income.loc[\"Net Income From Continuing Operation Net Minority Interest\"]\n",
    "wmt_metrics.loc[\"Diluted Average Shares\"] = wmt_income.loc[\"Diluted Average Shares\"]\n",
    "wmt_metrics.loc[\"Diluted EPS\"] = wmt_income.loc[\"Diluted EPS\"]\n",
    "wmt_metrics.loc[\"Basic Average Shares\"] = wmt_income.loc[\"Basic Average Shares\"]\n",
    "wmt_metrics.loc[\"Basic EPS\"] = wmt_income.loc[\"Basic EPS\"]\n",
    "wmt_metrics.loc[\"Total Revenue\"] = wmt_income.loc[\"Total Revenue\"]\n",
    "\n",
    "\n",
    "\n",
    "# Compute and store important metrics for Stellantis\n",
    "stla_metrics = pd.DataFrame(columns = stla_balance.columns)\n",
    "\n",
    "stla_metrics.loc[\"Market Cap\"] = stla_balance.loc[\"Share Issued\"] * 15.75\n",
    "stla_metrics.loc[\"Current Assets\"] = stla_balance.loc[\"Current Assets\"]\n",
    "stla_metrics.loc[\"Current Liabilities\"] = stla_balance.loc[\"Current Liabilities\"]\n",
    "stla_metrics.loc[\"Current Ratio\"] = stla_balance.loc[\"Current Assets\"] / stla_balance.loc[\"Current Liabilities\"]\n",
    "stla_metrics.loc[\"Total Debt\"] = stla_balance.loc[\"Total Debt\"]\n",
    "stla_metrics.loc[\"Stockholders Equity\"] = stla_balance.loc[\"Stockholders Equity\"]\n",
    "stla_metrics.loc[\"Debt to Equity\"] = stla_balance.loc[\"Total Debt\"] / stla_balance.loc[\"Stockholders Equity\"]\n",
    "stla_metrics.loc[\"Net Income\"] = stla_income.loc[\"Net Income From Continuing Operation Net Minority Interest\"]\n",
    "stla_metrics.loc[\"Diluted Average Shares\"] = stla_income.loc[\"Diluted Average Shares\"]\n",
    "stla_metrics.loc[\"Diluted EPS\"] = stla_income.loc[\"Diluted EPS\"]\n",
    "stla_metrics.loc[\"Basic Average Shares\"] = stla_income.loc[\"Basic Average Shares\"]\n",
    "stla_metrics.loc[\"Basic EPS\"] = stla_income.loc[\"Basic EPS\"]\n",
    "stla_metrics.loc[\"Total Revenue\"] = stla_income.loc[\"Total Revenue\"]\n",
    "\n",
    "# Save the metrics to CSV files\n",
    "wmt_metrics.to_csv(\"Outputs/wmt_metrics.csv\")\n",
    "stla_metrics.to_csv(\"Outputs/stla_metrics.csv\")\n",
    "    \n",
    "\n",
    "\n"
   ]
  }
 ],
 "metadata": {
  "kernelspec": {
   "display_name": "Python 3",
   "language": "python",
   "name": "python3"
  },
  "language_info": {
   "codemirror_mode": {
    "name": "ipython",
    "version": 3
   },
   "file_extension": ".py",
   "mimetype": "text/x-python",
   "name": "python",
   "nbconvert_exporter": "python",
   "pygments_lexer": "ipython3",
   "version": "3.13.2"
  }
 },
 "nbformat": 4,
 "nbformat_minor": 5
}
