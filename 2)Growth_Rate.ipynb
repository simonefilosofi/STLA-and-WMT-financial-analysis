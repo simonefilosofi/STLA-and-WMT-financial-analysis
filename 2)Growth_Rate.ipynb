{
 "cells": [
  {
   "cell_type": "markdown",
   "id": "f115c9f0",
   "metadata": {},
   "source": [
    "## Assessing the growth rate of the two companies\n",
    "\n",
    "In this notebook, we will analyze the growth rate of two companies, Company A and Company B, over a period of 5 years considering some metrics that can be computed from their balance sheets."
   ]
  },
  {
   "cell_type": "code",
   "execution_count": 66,
   "id": "44a3ecf1",
   "metadata": {},
   "outputs": [],
   "source": [
    "# Importing Libraries\n",
    "\n",
    "import pandas as pd"
   ]
  },
  {
   "cell_type": "code",
   "execution_count": 67,
   "id": "e6c11183",
   "metadata": {},
   "outputs": [
    {
     "name": "stderr",
     "output_type": "stream",
     "text": [
      "<>:3: SyntaxWarning: invalid escape sequence '\\w'\n",
      "<>:3: SyntaxWarning: invalid escape sequence '\\w'\n",
      "C:\\Users\\miche\\AppData\\Local\\Temp\\ipykernel_22240\\785167319.py:3: SyntaxWarning: invalid escape sequence '\\w'\n",
      "  wmt_balance = pd.read_csv(\"Dataset\\wmt_balance_sheet.csv\")\n"
     ]
    }
   ],
   "source": [
    "# Importing the dataset\n",
    "\n",
    "wmt_balance = pd.read_csv(\"Dataset\\wmt_balance_sheet.csv\")\n",
    "\n",
    "# Putting everything in mln unit and setting the index to the first column\n",
    "wmt_balance.set_index(wmt_balance.columns[0], inplace=True)\n",
    "wmt_balance = wmt_balance / 1000000"
   ]
  },
  {
   "cell_type": "code",
   "execution_count": null,
   "id": "03f5094f",
   "metadata": {},
   "outputs": [],
   "source": [
    "# Creating a new dataframe with only the rows that contain the shareholder equity data\n",
    "\n",
    "Equity_rows = [\"Retained Earnings\",\"Common Stock\", \"Additional Paid In Capital\", \"Gains Losses Not Affecting Retained Earnings\", \"Stockholders Equity\", \"Minority Interest\", \"Total Equity Gross Minority Interest\"]\n",
    "wmt_equity_df = wmt_balance.loc[Equity_rows]\n",
    "\n",
    "# Creating a new dataframe with only the rows that contain the asset data\n",
    "Asset_rows = [\"Cash And Cash Equivalents\", \"Receivables\", \"Inventory\", \"Other Current Assets\", \"Current Assets\", # Current Assets\n",
    "              \"Goodwill\", \"Other Non Current Assets\", # Non Current Assets\n",
    "              \"Construction In Progress\", \"Other Properties\", \"Machinery Furniture Equipment\", \"Buildings And Improvements\", \"Land And Improvements\", \"Gross PPE\", \"Accumulated Depreciation\", \"Net PPE\", # Property, Plant and Equipment\n",
    "              \"Total Non Current Assets\", \"Total Assets\"] # Total Assets\n",
    "wmt_asset_df = wmt_balance.loc[Asset_rows]\n",
    "\n",
    "\n",
    "Liability_rows = [\"Accounts Payable\", \"Income Tax Payable\"] # Issue in Identifying the rows for liabilities"
   ]
  },
  {
   "cell_type": "code",
   "execution_count": 69,
   "id": "bb55795d",
   "metadata": {},
   "outputs": [
    {
     "name": "stdout",
     "output_type": "stream",
     "text": [
      "The average rate of increase in assets is 2.15%\n",
      "In 2023 the total assets have decreased by -0.68%\n",
      "In 2024 the total assets have decreased by 3.78%\n",
      "In 2025 the total assets have decreased by 3.34%\n",
      "The average rate of increase in retained earnings is 4.39%\n",
      "In 2023 the retained earnings have decreased by -4.34%\n",
      "In 2024 the retained earnings have increased by 8.03%\n",
      "In 2025 the retained earnings have increased by 9.46%\n"
     ]
    }
   ],
   "source": [
    "# Computing the ratios\n",
    "\n",
    "wmt_asset_df = wmt_asset_df.T\n",
    "wmt_asset_df = wmt_asset_df[::-1]\n",
    "\n",
    "wmt_equity_df = wmt_equity_df.T\n",
    "wmt_equity_df = wmt_equity_df[::-1]\n",
    "\n",
    "wmt_asset_df[\"Increase in Assets\"] = wmt_asset_df[\"Total Assets\"].pct_change()\n",
    "\n",
    "print(f\"The average rate of increase in assets is {wmt_asset_df['Increase in Assets'].mean() * 100:.2f}%\")\n",
    "for row in wmt_asset_df.index:\n",
    "    if wmt_asset_df.loc[row, 'Increase in Assets'] > 0:\n",
    "        print(f\"In {row[:4]} the total assets have decreased by {wmt_asset_df.loc[row, 'Increase in Assets'] * 100:.2f}%\")\n",
    "    elif wmt_asset_df.loc[row, 'Increase in Assets'] < 0:\n",
    "        print(f\"In {row[:4]} the total assets have decreased by {wmt_asset_df.loc[row, 'Increase in Assets'] * 100:.2f}%\")\n",
    "\n",
    "wmt_equity_df[\"Increase in Retained Earnings\"] = wmt_equity_df[\"Retained Earnings\"].pct_change()\n",
    "print(f\"The average rate of increase in retained earnings is {wmt_equity_df['Increase in Retained Earnings'].mean() * 100:.2f}%\")  \n",
    "for row in wmt_equity_df.index:\n",
    "    if wmt_equity_df.loc[row, 'Increase in Retained Earnings'] > 0:\n",
    "        print(f\"In {row[:4]} the retained earnings have increased by {wmt_equity_df.loc[row, 'Increase in Retained Earnings'] * 100:.2f}%\")\n",
    "    elif wmt_equity_df.loc[row, 'Increase in Retained Earnings'] < 0:\n",
    "        print(f\"In {row[:4]} the retained earnings have decreased by {wmt_equity_df.loc[row, 'Increase in Retained Earnings'] * 100:.2f}%\")\n",
    "\n"
   ]
  }
 ],
 "metadata": {
  "kernelspec": {
   "display_name": "Python 3",
   "language": "python",
   "name": "python3"
  },
  "language_info": {
   "codemirror_mode": {
    "name": "ipython",
    "version": 3
   },
   "file_extension": ".py",
   "mimetype": "text/x-python",
   "name": "python",
   "nbconvert_exporter": "python",
   "pygments_lexer": "ipython3",
   "version": "3.13.2"
  }
 },
 "nbformat": 4,
 "nbformat_minor": 5
}
