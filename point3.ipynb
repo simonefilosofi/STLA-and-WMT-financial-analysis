{
 "cells": [
  {
   "cell_type": "code",
   "execution_count": 2,
   "metadata": {},
   "outputs": [],
   "source": [
    "# Walmart bond chosen: https://public.com/bonds/corporate/walmart-inc/wmt-3.625-12-15-2047-931142dw0?utm_source=chatgpt.com\n",
    "\n",
    "wmt_bond_price_y1 = 120.65  # 31/01/2021\n",
    "wmt_bond_price_y2 = 111.50  # 31/01/2022\n",
    "wmt_bond_price_y3 = 86.91  # 31/01/2023\n",
    "wmt_bond_price_y4 = 83.54  # 31/01/2024\n",
    "wmt_bond_price_y5 = 76.81  # 31/01/2025\n",
    "wmt_bond_price_current = 75.66 # 19/04/2025\n",
    "\n",
    "wmt_bond_coupon = 3.625  # 3.625%, also known as the yield to maturity.\n",
    "wmt_bond_maturity = 2047  # 15/12/2047\n",
    "wmt_bond_frequency = 2  # Semi-annual\n",
    "wmt_bond_face_value = 100  # $100\n",
    "\n",
    "wmt_bond_yield_to_worst = 5.25  # 5.25% Yield to Worst is used to represent the lowest potential yield an investor can expect from a bond assuming the issuer does not default. It accounts for any other provisions that may affect the bond's yield, including getting called, put, or converted.\n",
    "\n"
   ]
  },
  {
   "cell_type": "code",
   "execution_count": null,
   "metadata": {},
   "outputs": [],
   "source": []
  }
 ],
 "metadata": {
  "kernelspec": {
   "display_name": ".venv",
   "language": "python",
   "name": "python3"
  },
  "language_info": {
   "codemirror_mode": {
    "name": "ipython",
    "version": 3
   },
   "file_extension": ".py",
   "mimetype": "text/x-python",
   "name": "python",
   "nbconvert_exporter": "python",
   "pygments_lexer": "ipython3",
   "version": "3.13.2"
  }
 },
 "nbformat": 4,
 "nbformat_minor": 2
}
