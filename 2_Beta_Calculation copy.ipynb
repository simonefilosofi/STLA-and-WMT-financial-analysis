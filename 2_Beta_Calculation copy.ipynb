{
 "cells": [
  {
   "cell_type": "markdown",
   "metadata": {},
   "source": [
    "# Computing the betas"
   ]
  },
  {
   "cell_type": "markdown",
   "metadata": {},
   "source": [
    "In order to compute the beta for both Stellantis and Walmart we took S&P 500 as benchmark."
   ]
  },
  {
   "cell_type": "markdown",
   "metadata": {},
   "source": [
    "To compute the beta for each company over the past 5 years, we will:\n",
    "\n",
    "- Sort the data by date (in ascending order).\n",
    "\n",
    "- Convert prices to monthly returns.\n",
    "\n",
    "- Align returns by date across the 3 datasets.\n",
    "\n",
    "- Perform linear regression of company returns on S&P 500 returns to compute beta."
   ]
  },
  {
   "cell_type": "markdown",
   "metadata": {},
   "source": [
    "### **Run Linear Regressions**\n",
    "\n",
    "To estimate beta for each stock, we run an Ordinary Least Squares (OLS) regression of the stock's returns against the market returns (S&P 500). The regression equation is:\n",
    "\n",
    "$$ r_{stock} = \\alpha + \\Beta \\times r_{market} + \\epsilon $$\n",
    "\n",
    "\n",
    "Where:\n",
    "- $r_{stock}$ is the return of the stock (e.g., Walmart or Stellantis)  \n",
    "- $r_{market}$ is the return of the market (S&P 500)  \n",
    "- $\\beta$ represents the stock’s **systematic risk** (sensitivity to the market)  \n",
    "- $\\alpha$ is the intercept (often interpreted as abnormal return or \"alpha\")  \n",
    "- $\\epsilon$ is the error term  \n",
    "\n",
    "The **slope coefficient (β)** from this regression is the **beta of the stock**. It tells us how much the stock’s return changes in response to changes in the market return.\n",
    "\n"
   ]
  },
  {
   "cell_type": "code",
   "execution_count": 1,
   "metadata": {},
   "outputs": [],
   "source": [
    "# Import necessary libraries\n",
    "import pandas as pd\n",
    "import numpy as np\n",
    "from sklearn.linear_model import LinearRegression\n",
    "from matplotlib import pyplot as plt\n",
    "\n",
    "# Load the datasets\n",
    "walmart_df = pd.read_csv('Dataset/wmt_historical_data.csv')\n",
    "stellantis_df = pd.read_csv('Dataset/stla_historical_data.csv')\n",
    "sp500_df = pd.read_csv('Dataset/sp500_historical_data.csv')\n"
   ]
  },
  {
   "cell_type": "markdown",
   "metadata": {},
   "source": [
    "We clean the data to run the regression to compute the beta for Stellantis and Walmart."
   ]
  },
  {
   "cell_type": "code",
   "execution_count": 2,
   "metadata": {},
   "outputs": [
    {
     "name": "stdout",
     "output_type": "stream",
     "text": [
      "Initial DataFrame shape: (60, 8)\n",
      "Initial DataFrame shape: (60, 8)\n",
      "Initial DataFrame shape: (60, 8)\n",
      "\n",
      "DataFrames cleaned for Beta calculation (Date is a column).\n"
     ]
    }
   ],
   "source": [
    "\n",
    "def clean_dataframe_for_beta(df):\n",
    "    \"\"\"\n",
    "    Cleans the input DataFrame for Beta calculation.\n",
    "    - Converts 'Close' to numeric, 'Date' to datetime.\n",
    "    - Sorts by date.\n",
    "    - Calculates monthly 'Return'.\n",
    "    - KEEPS 'Date' as a column.\n",
    "    \"\"\"\n",
    "    print(f\"Initial DataFrame shape: {df.shape}\")\n",
    "    df['Close'] = df['Close'].astype(str).str.replace(',', '', regex=False)\n",
    "    df['Close'] = pd.to_numeric(df['Close'], errors='coerce')\n",
    "    df.dropna(subset=['Close'], inplace=True)\n",
    "\n",
    "    df['Date'] = pd.to_datetime(df['Date'].str[:-6], errors='coerce')\n",
    "    df.dropna(subset=['Date'], inplace=True)\n",
    "\n",
    "    df.sort_values('Date', inplace=True)\n",
    "    df['Return'] = df['Close'].pct_change()\n",
    "    # DO NOT set index here\n",
    "    return df\n",
    "\n",
    "# Run the revised cleaning\n",
    "walmart_df_beta = clean_dataframe_for_beta(walmart_df.copy()) \n",
    "stellantis_df_beta = clean_dataframe_for_beta(stellantis_df.copy())\n",
    "sp500_df_beta = clean_dataframe_for_beta(sp500_df.copy())\n",
    "\n",
    "print(\"\\nDataFrames cleaned for Beta calculation (Date is a column).\")\n",
    "\n",
    "# CELL 128 (Keep as is - It will now work)\n",
    "# Align the returns data by date using the _beta dataframes\n"
   ]
  },
  {
   "cell_type": "code",
   "execution_count": 3,
   "metadata": {},
   "outputs": [],
   "source": [
    "returns_df = pd.merge(walmart_df_beta[['Date', 'Return']],\n",
    "                      stellantis_df_beta[['Date', 'Return']],\n",
    "                      on='Date', suffixes=('_Walmart', '_Stellantis'))\n",
    "returns_df = pd.merge(returns_df,\n",
    "                      sp500_df_beta[['Date', 'Return']],\n",
    "                      on='Date')\n",
    "returns_df.rename(columns={'Return': 'SP500'}, inplace=True)\n",
    "returns_df.rename(columns={'Return_Walmart': 'Walmart'}, inplace=True)\n",
    "returns_df.rename(columns={'Return_Stellantis': 'Stellantis'}, inplace=True)\n",
    "returns_df.dropna(inplace=True)\n",
    "\n",
    "# Store the returns in a CSV file for further analysis\n",
    "returns_df.to_csv('Outputs/returns_data.csv', index=False)"
   ]
  },
  {
   "cell_type": "code",
   "execution_count": 4,
   "metadata": {},
   "outputs": [
    {
     "name": "stdout",
     "output_type": "stream",
     "text": [
      "\n",
      "--- Beta Calculation Results ---\n",
      "Walmart Beta: 0.6732082074521727\n",
      "Stellantis Beta: 1.5136297331477988\n"
     ]
    }
   ],
   "source": [
    "X = returns_df[['SP500']].values\n",
    "\n",
    "y_walmart = returns_df['Walmart'].values\n",
    "beta_walmart = LinearRegression().fit(X, y_walmart).coef_[0]\n",
    "\n",
    "y_stellantis = returns_df['Stellantis'].values\n",
    "beta_stellantis = LinearRegression().fit(X, y_stellantis).coef_[0]\n",
    "\n",
    "# Print the results\n",
    "print(\"\\n--- Beta Calculation Results ---\")\n",
    "print(\"Walmart Beta:\", beta_walmart)\n",
    "print(\"Stellantis Beta:\", beta_stellantis)\n",
    "\n",
    "# Store the betas in a file for CAPM calculations\n",
    "betas_df = pd.DataFrame({\n",
    "    'Company': ['Walmart', 'Stellantis'],\n",
    "    'Beta': [beta_walmart, beta_stellantis]\n",
    "})\n",
    "\n",
    "betas_df.to_csv('Outputs/beta_results.csv', index=False)\n"
   ]
  },
  {
   "cell_type": "markdown",
   "metadata": {},
   "source": [
    "Mathematically, beta is the slope of the best-fit line (the red line) in a regression of stock returns (y-axis) vs market returns (x-axis). Hence, it is useful to visualize the relationship between the two sets of returns. The slope of the line is the beta, and the intercept is the alpha. A beta of 1 indicates that the stock moves in line with the market, while a beta greater than 1 indicates that the stock is more volatile than the market, and a beta less than 1 indicates that it is less volatile."
   ]
  },
  {
   "cell_type": "code",
   "execution_count": null,
   "metadata": {},
   "outputs": [],
   "source": [
    "# Define risk-free rate (current 10-year Treasury yield as of April 2025)\n",
    "risk_free_rate = 0.0427\n",
    "\n",
    "# Calculate expected Return_SP500 return (historical average plus risk premium)\n",
    "market_risk_premium = 0.055  \n",
    "expected_Return_SP500_return = risk_free_rate + market_risk_premium\n",
    "\n",
    "\n",
    "# Visualize the stock returns vs Return_SP500 returns to see the beta relationship\n",
    "plt.figure(figsize=(12, 6))\n",
    "\n",
    "plt.subplot(1, 2, 1)\n",
    "plt.scatter(returns_df['Return_SP500'], returns_df['Return_Walmart'])\n",
    "plt.plot(np.unique(returns_df['Return_SP500']), \n",
    "         np.poly1d(np.polyfit(returns_df['Return_SP500'], returns_df['Return_Walmart'], 1))(np.unique(returns_df['Return_SP500'])), \n",
    "         color='red')\n",
    "plt.xlabel('Return_SP500 Returns')\n",
    "plt.ylabel('Walmart Returns')\n",
    "plt.title(f'Walmart Beta: {beta_walmart:.4f}')\n",
    "plt.grid(True)\n",
    "\n",
    "plt.subplot(1, 2, 2)\n",
    "plt.scatter(returns_df['Return_SP500'], returns_df['Return_Stellantis'])\n",
    "plt.plot(np.unique(returns_df['Return_SP500']), \n",
    "         np.poly1d(np.polyfit(returns_df['Return_SP500'], returns_df['Return_Stellantis'], 1))(np.unique(returns_df['Return_SP500'])), \n",
    "         color='red')\n",
    "plt.xlabel('Return_SP500 Returns')\n",
    "plt.ylabel('Stellantis Returns')\n",
    "plt.title(f'Stellantis Beta: {beta_stellantis:.4f}')\n",
    "plt.grid(True)\n",
    "\n",
    "plt.tight_layout()\n",
    "plt.savefig('stock_betas.png')\n",
    "plt.show()\n",
    "\n"
   ]
  },
  {
   "cell_type": "markdown",
   "metadata": {},
   "source": [
    "## 📉 Visual Interpretation of Beta: Walmart vs. Stellantis\n",
    "\n",
    "The scatter plots above illustrate the **relationship between individual stock returns and market returns**, with the red line representing the **line of best fit** — essentially the **beta coefficient**.\n",
    "\n",
    "### Walmart (Left Plot):\n",
    "- The **beta is 0.6933**, as shown by the moderate slope of the trendline.\n",
    "- This indicates **less sensitivity to market movements** — Walmart’s returns move **less than the market’s returns**.\n",
    "- The data points are relatively clustered around the trendline, suggesting **stable and predictable performance**, typical of a **defensive stock** in consumer staples.\n",
    "\n",
    "### Stellantis (Right Plot):\n",
    "- The **beta is 1.5000**, reflected by the steeper slope.\n",
    "- This shows **higher sensitivity to market changes** — when the market rises or falls, Stellantis tends to move **more aggressively in the same direction**.\n",
    "- The spread of data points around the line is wider, reflecting **greater volatility**, which aligns with Stellantis being in the **cyclical automotive industry**.\n",
    "\n",
    "### Summary:\n",
    "- The visual evidence reinforces the CAPM calculations: **Walmart** is lower-risk with more stable returns, while **Stellantis** offers higher expected returns but at the cost of increased risk and volatility.\n"
   ]
  },
  {
   "cell_type": "code",
   "execution_count": null,
   "metadata": {},
   "outputs": [],
   "source": [
    "# Additionally, we can calculate R-squared to measure how well the market explains the stock variations\n",
    "from scipy import stats\n",
    "\n",
    "# For Walmart\n",
    "slope, intercept, r_value, p_value, std_err = stats.linregress(returns_df['Return_SP500'], returns_df['Return_Walmart'])\n",
    "walmart_rsquared = r_value**2\n",
    "\n",
    "# For Stellantis\n",
    "slope, intercept, r_value, p_value, std_err = stats.linregress(returns_df['Return_SP500'], returns_df['Return_Stellantis'])\n",
    "stellantis_rsquared = r_value**2\n",
    "\n",
    "print(f\"\\nWalmart R-squared: {walmart_rsquared:.4f}\")\n",
    "print(f\"Stellantis R-squared: {stellantis_rsquared:.4f}\")\n"
   ]
  },
  {
   "cell_type": "markdown",
   "metadata": {},
   "source": [
    "## Risk Interpretation:\n",
    "### Walmart (β ≈ 0.72):\n",
    "\n",
    "- Less volatile than the market.\n",
    "\n",
    "- Considered a defensive stock. It tends to fluctuate less than the S&P 500.\n",
    "\n",
    "- Suitable for risk-averse investors.\n",
    "\n",
    "### Stellantis (β ≈ 1.42):\n",
    "\n",
    "- More volatile than the market.\n",
    "\n",
    "- Considered a cyclical stock. It tends to amplify market movements.\n",
    "\n",
    "- May offer higher returns, but also higher risk."
   ]
  },
  {
   "cell_type": "markdown",
   "metadata": {},
   "source": [
    "## S: the best efficient portfolio"
   ]
  },
  {
   "cell_type": "code",
   "execution_count": null,
   "metadata": {},
   "outputs": [],
   "source": [
    "# Define the risk-free rate (monthly) for Sharpe Ratio calculation\n",
    "risk_free_rate = 0.0427/12  \n",
    "\n",
    "# Calculate the Sharpe Ratio for each portfolio combination by subtracting the risk-free rate from the portfolio returns and dividing by the portfolio standard deviations\n",
    "portfolio_returns = np.array(portfolio_returns)\n",
    "portfolio_stds = np.array(portfolio_stds)\n",
    "\n",
    "sharpe_ratios = (portfolio_returns - risk_free_rate) / portfolio_stds\n",
    "\n",
    "# Find the index of the portfolio with the maximum Sharpe Ratio\n",
    "max_sharpe_idx = sharpe_ratios.argmax()\n",
    "optimal_risky_portfolio_return = portfolio_returns[max_sharpe_idx]\n",
    "optimal_risky_portfolio_std = portfolio_stds[max_sharpe_idx]\n",
    "\n",
    "cml_x = np.linspace(0, max(portfolio_stds), 100)\n",
    "cml_y = risk_free_rate + (optimal_risky_portfolio_return - risk_free_rate) / optimal_risky_portfolio_std * cml_x\n"
   ]
  },
  {
   "cell_type": "code",
   "execution_count": null,
   "metadata": {},
   "outputs": [],
   "source": [
    "# Plot the efficient frontier and the Capital Market Line (CML)\n",
    "\n",
    "plt.figure(figsize=(10, 6))\n",
    "plt.plot(portfolio_stds, portfolio_returns, label='Efficient Frontier')\n",
    "plt.plot(cml_x, cml_y, label='Capital Market Line (CML)', linestyle='--', color='green')\n",
    "plt.scatter(std_walmart, avg_return_walmart, color='red', label='Walmart', zorder=5)\n",
    "plt.scatter(std_stellantis, avg_return_stellantis, color='blue', label='Stellantis', zorder=5)\n",
    "plt.scatter(optimal_risky_portfolio_std, optimal_risky_portfolio_return, color='purple', label='Optimal Risky Portfolio', zorder=5)\n",
    "plt.scatter(0, risk_free_rate, color='orange', label='Risk-Free Rate (4.27% per year)', zorder=5)\n",
    "plt.title('Risk-Return Profile with Capital Market Line')\n",
    "plt.xlabel('Standard Deviation (Risk)')\n",
    "plt.ylabel('Expected Return')\n",
    "plt.legend()\n",
    "plt.grid(True)\n",
    "plt.show()"
   ]
  },
  {
   "cell_type": "markdown",
   "metadata": {},
   "source": [
    "## But what are the specifics of S?"
   ]
  },
  {
   "cell_type": "markdown",
   "metadata": {},
   "source": [
    "Below we found again S but using the statistics that refer to annual returns and not monthly."
   ]
  },
  {
   "cell_type": "code",
   "execution_count": null,
   "metadata": {},
   "outputs": [],
   "source": [
    "annual_return_walmart = returns_df['Return_Walmart'].mean() * 12\n",
    "annual_return_stellantis = returns_df['Return_Stellantis'].mean() * 12\n",
    "annual_std_walmart = returns_df['Return_Walmart'].std() * np.sqrt(12)\n",
    "annual_std_stellantis = returns_df['Return_Stellantis'].std() * np.sqrt(12)\n",
    "\n",
    "cov_matrix_annual = returns_df[['Return_Walmart', 'Return_Stellantis']].cov() * 12\n",
    "\n",
    "weights = np.linspace(0, 1, 101)\n",
    "portfolio_returns = []\n",
    "portfolio_stds = []\n",
    "weight_combinations = []\n",
    "\n",
    "for w in weights:\n",
    "    w_walmart = w\n",
    "    w_stellantis = 1 - w\n",
    "    port_return = w_walmart * annual_return_walmart + w_stellantis * annual_return_stellantis\n",
    "    port_variance = (\n",
    "        w_walmart**2 * annual_std_walmart**2 +\n",
    "        w_stellantis**2 * annual_std_stellantis**2 +\n",
    "        2 * w_walmart * w_stellantis * cov_matrix_annual.iloc[0, 1]\n",
    "    )\n",
    "    port_std = np.sqrt(port_variance)\n",
    "\n",
    "    portfolio_returns.append(port_return)\n",
    "    portfolio_stds.append(port_std)\n",
    "    weight_combinations.append((w_walmart, w_stellantis))\n",
    "\n",
    "risk_free_rate = 0.0427\n",
    "\n",
    "sharpe_ratios = (np.array(portfolio_returns) - risk_free_rate) / np.array(portfolio_stds)\n",
    "max_sharpe_idx = sharpe_ratios.argmax()\n",
    "\n",
    "optimal_return = portfolio_returns[max_sharpe_idx]\n",
    "optimal_std = portfolio_stds[max_sharpe_idx]\n",
    "optimal_weights = weight_combinations[max_sharpe_idx]\n",
    "\n",
    "print(\"Optimal Expected Return:\", optimal_return)\n",
    "print(\"Optimal Standard Deviation:\", optimal_std)\n",
    "print(\"Walmart Weight:\", optimal_weights[0])\n",
    "print(\"Stellantis Weight:\", optimal_weights[1])\n"
   ]
  }
 ],
 "metadata": {
  "kernelspec": {
   "display_name": "Python 3",
   "language": "python",
   "name": "python3"
  },
  "language_info": {
   "codemirror_mode": {
    "name": "ipython",
    "version": 3
   },
   "file_extension": ".py",
   "mimetype": "text/x-python",
   "name": "python",
   "nbconvert_exporter": "python",
   "pygments_lexer": "ipython3",
   "version": "3.13.2"
  }
 },
 "nbformat": 4,
 "nbformat_minor": 2
}
