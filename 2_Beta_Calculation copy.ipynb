{
 "cells": [
  {
   "cell_type": "markdown",
   "metadata": {},
   "source": [
    "# Computing the betas"
   ]
  },
  {
   "cell_type": "markdown",
   "metadata": {},
   "source": [
    "In order to compute the beta for both Stellantis and Walmart we took S&P 500 as benchmark."
   ]
  },
  {
   "cell_type": "markdown",
   "metadata": {},
   "source": [
    "To compute the beta for each company over the past 5 years, we will:\n",
    "\n",
    "- Sort the data by date (in ascending order).\n",
    "\n",
    "- Convert prices to monthly returns.\n",
    "\n",
    "- Align returns by date across the 3 datasets.\n",
    "\n",
    "- Perform linear regression of company returns on S&P 500 returns to compute beta."
   ]
  },
  {
   "cell_type": "markdown",
   "metadata": {},
   "source": [
    "### **Run Linear Regressions**\n",
    "\n",
    "To estimate beta for each stock, we run an Ordinary Least Squares (OLS) regression of the stock's returns against the market returns (S&P 500). The regression equation is:\n",
    "\n",
    "$$ r_{stock} = \\alpha + \\Beta \\times r_{market} + \\epsilon $$\n",
    "\n",
    "\n",
    "Where:\n",
    "- $r_{stock}$ is the return of the stock (e.g., Walmart or Stellantis)  \n",
    "- $r_{market}$ is the return of the market (S&P 500)  \n",
    "- $\\beta$ represents the stock’s **systematic risk** (sensitivity to the market)  \n",
    "- $\\alpha$ is the intercept (often interpreted as abnormal return or \"alpha\")  \n",
    "- $\\epsilon$ is the error term  \n",
    "\n",
    "The **slope coefficient (β)** from this regression is the **beta of the stock**. It tells us how much the stock’s return changes in response to changes in the market return.\n",
    "\n"
   ]
  },
  {
   "cell_type": "code",
   "execution_count": 2,
   "metadata": {},
   "outputs": [],
   "source": [
    "# Import necessary libraries\n",
    "import pandas as pd\n",
    "import numpy as np\n",
    "from sklearn.linear_model import LinearRegression\n",
    "from matplotlib import pyplot as plt\n",
    "\n",
    "# Load the datasets\n",
    "walmart_df = pd.read_csv('Dataset/wmt_historical_data.csv')\n",
    "stellantis_df = pd.read_csv('Dataset/stla_historical_data.csv')\n",
    "sp500_df = pd.read_csv('Dataset/sp500_historical_data.csv')\n"
   ]
  },
  {
   "cell_type": "markdown",
   "metadata": {},
   "source": [
    "We clean the data to run the regression to compute the beta for Stellantis and Walmart."
   ]
  },
  {
   "cell_type": "code",
   "execution_count": 3,
   "metadata": {},
   "outputs": [
    {
     "name": "stdout",
     "output_type": "stream",
     "text": [
      "Initial DataFrame shape: (60, 8)\n",
      "Initial DataFrame shape: (60, 8)\n",
      "Initial DataFrame shape: (60, 8)\n",
      "\n",
      "DataFrames cleaned for Beta calculation (Date is a column).\n"
     ]
    }
   ],
   "source": [
    "\n",
    "def clean_dataframe_for_beta(df):\n",
    "    \"\"\"\n",
    "    Cleans the input DataFrame for Beta calculation.\n",
    "    - Converts 'Close' to numeric, 'Date' to datetime.\n",
    "    - Sorts by date.\n",
    "    - Calculates monthly 'Return'.\n",
    "    - KEEPS 'Date' as a column.\n",
    "    \"\"\"\n",
    "    print(f\"Initial DataFrame shape: {df.shape}\")\n",
    "    df['Close'] = df['Close'].astype(str).str.replace(',', '', regex=False)\n",
    "    df['Close'] = pd.to_numeric(df['Close'], errors='coerce')\n",
    "    df.dropna(subset=['Close'], inplace=True)\n",
    "\n",
    "    df['Date'] = pd.to_datetime(df['Date'].str[:-6], errors='coerce')\n",
    "    df.dropna(subset=['Date'], inplace=True)\n",
    "\n",
    "    df.sort_values('Date', inplace=True)\n",
    "    df['Return'] = df['Close'].pct_change()\n",
    "    # DO NOT set index here\n",
    "    return df\n",
    "\n",
    "# Run the revised cleaning\n",
    "walmart_df_beta = clean_dataframe_for_beta(walmart_df.copy()) \n",
    "stellantis_df_beta = clean_dataframe_for_beta(stellantis_df.copy())\n",
    "sp500_df_beta = clean_dataframe_for_beta(sp500_df.copy())\n",
    "\n",
    "print(\"\\nDataFrames cleaned for Beta calculation (Date is a column).\")\n",
    "\n",
    "# CELL 128 (Keep as is - It will now work)\n",
    "# Align the returns data by date using the _beta dataframes\n"
   ]
  },
  {
   "cell_type": "code",
   "execution_count": 4,
   "metadata": {},
   "outputs": [],
   "source": [
    "returns_df = pd.merge(walmart_df_beta[['Date', 'Return']],\n",
    "                      stellantis_df_beta[['Date', 'Return']],\n",
    "                      on='Date', suffixes=('_Walmart', '_Stellantis'))\n",
    "returns_df = pd.merge(returns_df,\n",
    "                      sp500_df_beta[['Date', 'Return']],\n",
    "                      on='Date')\n",
    "returns_df.rename(columns={'Return': 'Return_SP500'}, inplace=True)\n",
    "returns_df.dropna(inplace=True)\n",
    "\n",
    "# Store the returns in a CSV file for further analysis\n",
    "returns_df.to_csv('Outputs/returns_data.csv', index=False)"
   ]
  },
  {
   "cell_type": "code",
   "execution_count": 5,
   "metadata": {},
   "outputs": [
    {
     "name": "stdout",
     "output_type": "stream",
     "text": [
      "\n",
      "--- Beta Calculation Results ---\n",
      "Walmart Beta: 0.6732082074521727\n",
      "Stellantis Beta: 1.5136297331477988\n"
     ]
    }
   ],
   "source": [
    "X = returns_df[['Return_SP500']].values\n",
    "\n",
    "y_walmart = returns_df['Return_Walmart'].values\n",
    "beta_walmart = LinearRegression().fit(X, y_walmart).coef_[0]\n",
    "\n",
    "y_stellantis = returns_df['Return_Stellantis'].values\n",
    "beta_stellantis = LinearRegression().fit(X, y_stellantis).coef_[0]\n",
    "\n",
    "# Print the results\n",
    "print(\"\\n--- Beta Calculation Results ---\")\n",
    "print(\"Walmart Beta:\", beta_walmart)\n",
    "print(\"Stellantis Beta:\", beta_stellantis)\n",
    "\n",
    "# Store the betas in a file for CAPM calculations\n",
    "betas_df = pd.DataFrame({\n",
    "    'Company': ['Walmart', 'Stellantis'],\n",
    "    'Beta': [beta_walmart, beta_stellantis]\n",
    "})\n",
    "\n",
    "betas_df.to_csv('Outputs/beta_results.csv', index=False)\n"
   ]
  },
  {
   "cell_type": "markdown",
   "metadata": {},
   "source": [
    "Mathematically, beta is the slope of the best-fit line (the red line) in a regression of stock returns (y-axis) vs market returns (x-axis). Hence, it is useful to visualize the relationship between the two sets of returns. The slope of the line is the beta, and the intercept is the alpha. A beta of 1 indicates that the stock moves in line with the market, while a beta greater than 1 indicates that the stock is more volatile than the market, and a beta less than 1 indicates that it is less volatile."
   ]
  },
  {
   "cell_type": "code",
   "execution_count": 9,
   "metadata": {},
   "outputs": [
    {
     "data": {
      "image/png": "[encoded data removed]",
      "text/plain": [
       "<Figure size 1200x600 with 2 Axes>"
      ]
     },
     "metadata": {},
     "output_type": "display_data"
    }
   ],
   "source": [
    "# Define risk-free rate (current 10-year Treasury yield as of April 2025)\n",
    "risk_free_rate = 0.0427\n",
    "\n",
    "# Calculate expected Return_SP500 return (historical average plus risk premium)\n",
    "market_risk_premium = 0.055  \n",
    "expected_Return_SP500_return = risk_free_rate + market_risk_premium\n",
    "\n",
    "\n",
    "# Visualize the stock returns vs Return_SP500 returns to see the beta relationship\n",
    "plt.figure(figsize=(12, 6))\n",
    "\n",
    "plt.subplot(1, 2, 1)\n",
    "plt.scatter(returns_df['Return_SP500'], returns_df['Return_Walmart'])\n",
    "plt.plot(np.unique(returns_df['Return_SP500']), \n",
    "         np.poly1d(np.polyfit(returns_df['Return_SP500'], returns_df['Return_Walmart'], 1))(np.unique(returns_df['Return_SP500'])), \n",
    "         color='red')\n",
    "plt.xlabel('Return_SP500 Returns')\n",
    "plt.ylabel('Walmart Returns')\n",
    "plt.title(f'Walmart Beta: {beta_walmart:.4f}')\n",
    "plt.grid(True)\n",
    "\n",
    "plt.subplot(1, 2, 2)\n",
    "plt.scatter(returns_df['Return_SP500'], returns_df['Return_Stellantis'])\n",
    "plt.plot(np.unique(returns_df['Return_SP500']), \n",
    "         np.poly1d(np.polyfit(returns_df['Return_SP500'], returns_df['Return_Stellantis'], 1))(np.unique(returns_df['Return_SP500'])), \n",
    "         color='red')\n",
    "plt.xlabel('Return_SP500 Returns')\n",
    "plt.ylabel('Stellantis Returns')\n",
    "plt.title(f'Stellantis Beta: {beta_stellantis:.4f}')\n",
    "plt.grid(True)\n",
    "\n",
    "plt.tight_layout()\n",
    "plt.savefig('stock_betas.png')\n",
    "plt.show()\n",
    "\n"
   ]
  },
  {
   "cell_type": "markdown",
   "metadata": {},
   "source": [
    "## 📉 Visual Interpretation of Beta: Walmart vs. Stellantis\n",
    "\n",
    "The scatter plots above illustrate the **relationship between individual stock returns and market returns**, with the red line representing the **line of best fit** — essentially the **beta coefficient**.\n",
    "\n",
    "### Walmart (Left Plot):\n",
    "- The **beta is 0.6933**, as shown by the moderate slope of the trendline.\n",
    "- This indicates **less sensitivity to market movements** — Walmart’s returns move **less than the market’s returns**.\n",
    "- The data points are relatively clustered around the trendline, suggesting **stable and predictable performance**, typical of a **defensive stock** in consumer staples.\n",
    "\n",
    "### Stellantis (Right Plot):\n",
    "- The **beta is 1.5000**, reflected by the steeper slope.\n",
    "- This shows **higher sensitivity to market changes** — when the market rises or falls, Stellantis tends to move **more aggressively in the same direction**.\n",
    "- The spread of data points around the line is wider, reflecting **greater volatility**, which aligns with Stellantis being in the **cyclical automotive industry**.\n",
    "\n",
    "### Summary:\n",
    "- The visual evidence reinforces the CAPM calculations: **Walmart** is lower-risk with more stable returns, while **Stellantis** offers higher expected returns but at the cost of increased risk and volatility.\n"
   ]
  },
  {
   "cell_type": "code",
   "execution_count": 10,
   "metadata": {},
   "outputs": [
    {
     "name": "stdout",
     "output_type": "stream",
     "text": [
      "\n",
      "Walmart R-squared: 0.2923\n",
      "Stellantis R-squared: 0.3437\n"
     ]
    }
   ],
   "source": [
    "# Additionally, we can calculate R-squared to measure how well the market explains the stock variations\n",
    "from scipy import stats\n",
    "\n",
    "# For Walmart\n",
    "slope, intercept, r_value, p_value, std_err = stats.linregress(returns_df['Return_SP500'], returns_df['Return_Walmart'])\n",
    "walmart_rsquared = r_value**2\n",
    "\n",
    "# For Stellantis\n",
    "slope, intercept, r_value, p_value, std_err = stats.linregress(returns_df['Return_SP500'], returns_df['Return_Stellantis'])\n",
    "stellantis_rsquared = r_value**2\n",
    "\n",
    "print(f\"\\nWalmart R-squared: {walmart_rsquared:.4f}\")\n",
    "print(f\"Stellantis R-squared: {stellantis_rsquared:.4f}\")\n"
   ]
  },
  {
   "cell_type": "markdown",
   "metadata": {},
   "source": [
    "## Risk Interpretation:\n",
    "### Walmart (β ≈ 0.72):\n",
    "\n",
    "- Less volatile than the market.\n",
    "\n",
    "- Considered a defensive stock. It tends to fluctuate less than the S&P 500.\n",
    "\n",
    "- Suitable for risk-averse investors.\n",
    "\n",
    "### Stellantis (β ≈ 1.42):\n",
    "\n",
    "- More volatile than the market.\n",
    "\n",
    "- Considered a cyclical stock. It tends to amplify market movements.\n",
    "\n",
    "- May offer higher returns, but also higher risk."
   ]
  },
  {
   "cell_type": "markdown",
   "metadata": {},
   "source": [
    "## S: the best efficient portfolio"
   ]
  },
  {
   "cell_type": "code",
   "execution_count": 8,
   "metadata": {},
   "outputs": [],
   "source": [
    "# Define the risk-free rate (monthly) for Sharpe Ratio calculation\n",
    "risk_free_rate = 0.0427/12  \n",
    "\n",
    "# Calculate the Sharpe Ratio for each portfolio combination by subtracting the risk-free rate from the portfolio returns and dividing by the portfolio standard deviations\n",
    "portfolio_returns = np.array(portfolio_returns)\n",
    "portfolio_stds = np.array(portfolio_stds)\n",
    "\n",
    "sharpe_ratios = (portfolio_returns - risk_free_rate) / portfolio_stds\n",
    "\n",
    "# Find the index of the portfolio with the maximum Sharpe Ratio\n",
    "max_sharpe_idx = sharpe_ratios.argmax()\n",
    "optimal_risky_portfolio_return = portfolio_returns[max_sharpe_idx]\n",
    "optimal_risky_portfolio_std = portfolio_stds[max_sharpe_idx]\n",
    "\n",
    "cml_x = np.linspace(0, max(portfolio_stds), 100)\n",
    "cml_y = risk_free_rate + (optimal_risky_portfolio_return - risk_free_rate) / optimal_risky_portfolio_std * cml_x\n"
   ]
  },
  {
   "cell_type": "code",
   "execution_count": 9,
   "metadata": {},
   "outputs": [
    {
     "data": {
      "image/png": "[encoded data removed]",
      "text/plain": [
       "<Figure size 1000x600 with 1 Axes>"
      ]
     },
     "metadata": {},
     "output_type": "display_data"
    }
   ],
   "source": [
    "# Plot the efficient frontier and the Capital Market Line (CML)\n",
    "\n",
    "plt.figure(figsize=(10, 6))\n",
    "plt.plot(portfolio_stds, portfolio_returns, label='Efficient Frontier')\n",
    "plt.plot(cml_x, cml_y, label='Capital Market Line (CML)', linestyle='--', color='green')\n",
    "plt.scatter(std_walmart, avg_return_walmart, color='red', label='Walmart', zorder=5)\n",
    "plt.scatter(std_stellantis, avg_return_stellantis, color='blue', label='Stellantis', zorder=5)\n",
    "plt.scatter(optimal_risky_portfolio_std, optimal_risky_portfolio_return, color='purple', label='Optimal Risky Portfolio', zorder=5)\n",
    "plt.scatter(0, risk_free_rate, color='orange', label='Risk-Free Rate (4.27% per year)', zorder=5)\n",
    "plt.title('Risk-Return Profile with Capital Market Line')\n",
    "plt.xlabel('Standard Deviation (Risk)')\n",
    "plt.ylabel('Expected Return')\n",
    "plt.legend()\n",
    "plt.grid(True)\n",
    "plt.show()"
   ]
  },
  {
   "cell_type": "markdown",
   "metadata": {},
   "source": [
    "## But what are the specifics of S?"
   ]
  },
  {
   "cell_type": "markdown",
   "metadata": {},
   "source": [
    "Below we found again S but using the statistics that refer to annual returns and not monthly."
   ]
  },
  {
   "cell_type": "code",
   "execution_count": 10,
   "metadata": {},
   "outputs": [
    {
     "name": "stdout",
     "output_type": "stream",
     "text": [
      "Optimal Expected Return: 0.20300379894966228\n",
      "Optimal Standard Deviation: 0.18707300856430564\n",
      "Walmart Weight: 0.86\n",
      "Stellantis Weight: 0.14\n"
     ]
    }
   ],
   "source": [
    "annual_return_walmart = returns_df['Return_Walmart'].mean() * 12\n",
    "annual_return_stellantis = returns_df['Return_Stellantis'].mean() * 12\n",
    "annual_std_walmart = returns_df['Return_Walmart'].std() * np.sqrt(12)\n",
    "annual_std_stellantis = returns_df['Return_Stellantis'].std() * np.sqrt(12)\n",
    "\n",
    "cov_matrix_annual = returns_df[['Return_Walmart', 'Return_Stellantis']].cov() * 12\n",
    "\n",
    "weights = np.linspace(0, 1, 101)\n",
    "portfolio_returns = []\n",
    "portfolio_stds = []\n",
    "weight_combinations = []\n",
    "\n",
    "for w in weights:\n",
    "    w_walmart = w\n",
    "    w_stellantis = 1 - w\n",
    "    port_return = w_walmart * annual_return_walmart + w_stellantis * annual_return_stellantis\n",
    "    port_variance = (\n",
    "        w_walmart**2 * annual_std_walmart**2 +\n",
    "        w_stellantis**2 * annual_std_stellantis**2 +\n",
    "        2 * w_walmart * w_stellantis * cov_matrix_annual.iloc[0, 1]\n",
    "    )\n",
    "    port_std = np.sqrt(port_variance)\n",
    "\n",
    "    portfolio_returns.append(port_return)\n",
    "    portfolio_stds.append(port_std)\n",
    "    weight_combinations.append((w_walmart, w_stellantis))\n",
    "\n",
    "risk_free_rate = 0.0427\n",
    "\n",
    "sharpe_ratios = (np.array(portfolio_returns) - risk_free_rate) / np.array(portfolio_stds)\n",
    "max_sharpe_idx = sharpe_ratios.argmax()\n",
    "\n",
    "optimal_return = portfolio_returns[max_sharpe_idx]\n",
    "optimal_std = portfolio_stds[max_sharpe_idx]\n",
    "optimal_weights = weight_combinations[max_sharpe_idx]\n",
    "\n",
    "print(\"Optimal Expected Return:\", optimal_return)\n",
    "print(\"Optimal Standard Deviation:\", optimal_std)\n",
    "print(\"Walmart Weight:\", optimal_weights[0])\n",
    "print(\"Stellantis Weight:\", optimal_weights[1])\n"
   ]
  },
  {
   "cell_type": "code",
   "execution_count": 11,
   "metadata": {},
   "outputs": [],
   "source": [
    "w_share_price = 98.61\n",
    "w_number_of_shares_outstanding = 8024000000.0\n",
    "w_equity_value = w_share_price * w_number_of_shares_outstanding\n",
    "\n",
    "w_total_liab_net_minority_int = 163131000000.00\n",
    "w_Total_Debt= 60114000000.0\n",
    "w_Net_Debt = 30030000000.0\n",
    "w_interest_expense = -2728000000.0\n",
    "\n",
    "s_share_price = 13.05\n",
    "s_number_of_shares_outstanding = 2896073567.0\n",
    "s_equity_value = s_share_price * s_number_of_shares_outstanding\n",
    "\n",
    "s_Total_Debt= 37227000000.0\n",
    "s_Net_Debt = 571000000.0\n",
    "s_interest_expense = -1523000000.0"
   ]
  },
  {
   "cell_type": "markdown",
   "metadata": {},
   "source": [
    "Prova calcolo Re:"
   ]
  },
  {
   "cell_type": "code",
   "execution_count": 12,
   "metadata": {},
   "outputs": [
    {
     "name": "stdout",
     "output_type": "stream",
     "text": [
      "0.6732082074521727\n",
      "0.07107866963746257\n"
     ]
    }
   ],
   "source": [
    "Rf = 0.0424\n",
    "Rm = 0.085\n",
    "beta = beta_walmart\n",
    "Rpremium = Rm - Rf\n",
    "\n",
    "print(beta)\n",
    "\n",
    "Re = Rf + beta * Rpremium\n",
    "print(Re)"
   ]
  },
  {
   "cell_type": "code",
   "execution_count": 13,
   "metadata": {},
   "outputs": [
    {
     "name": "stdout",
     "output_type": "stream",
     "text": [
      "Walmart WACC: 6.72%\n",
      "Stellantis WACC: 6.96%\n"
     ]
    }
   ],
   "source": [
    "walmart = {\n",
    "    'equity_value': w_equity_value,  \n",
    "    'debt_value': w_Net_Debt,    \n",
    "    'cost_of_equity': 0.0771,  \n",
    "    'cost_of_debt': w_interest_expense/w_Total_Debt,   \n",
    "    'tax_rate': 0.2209           \n",
    "}\n",
    "\n",
    "stellantis = {\n",
    "    'equity_value': s_equity_value,    \n",
    "    'debt_value': s_Net_Debt,\n",
    "    'cost_of_equity': 0.07,  \n",
    "    'cost_of_debt': s_interest_expense/s_Total_Debt,    \n",
    "    'tax_rate': 0.258           \n",
    "}\n",
    "\n",
    "def calculate_wacc(company):\n",
    "    E = company['equity_value']\n",
    "    D = company['debt_value']\n",
    "    V = E + D\n",
    "    #Re = company['cost_of_equity']\n",
    "    Rd = company['cost_of_debt']\n",
    "    Tc = company['tax_rate']\n",
    "    \n",
    "    wacc = ((E/V) * Re) + ((D/V) * Rd * (1 - Tc))\n",
    "    return wacc\n",
    "\n",
    "walmart_wacc = calculate_wacc(walmart)\n",
    "stellantis_wacc = calculate_wacc(stellantis)\n",
    "\n",
    "print(f\"Walmart WACC: {walmart_wacc:.2%}\")\n",
    "print(f\"Stellantis WACC: {stellantis_wacc:.2%}\")\n"
   ]
  },
  {
   "cell_type": "markdown",
   "metadata": {},
   "source": [
    "## Walmart by comparables\n",
    "https://www.macrotrends.net/stocks/charts/ROST/ross-stores/total-liabilities"
   ]
  },
  {
   "cell_type": "code",
   "execution_count": 14,
   "metadata": {},
   "outputs": [
    {
     "name": "stdout",
     "output_type": "stream",
     "text": [
      "walmart price to earning 40.71036427248405\n",
      "walmart price to book value 3.2364102505370522\n"
     ]
    }
   ],
   "source": [
    "walmart_fy_earnings = 19436000000\n",
    "walmart_eps = walmart_fy_earnings / w_number_of_shares_outstanding\n",
    "\n",
    "walmart_bv = (260823000000.0 - 16340200000.0) / w_number_of_shares_outstanding\n",
    "\n",
    "\n",
    "\n",
    "walmart_pe = w_share_price / walmart_eps \n",
    "walmart_pb = w_share_price / walmart_bv \n",
    "\n",
    "print(\"walmart price to earning\", walmart_pe) \n",
    "print(\"walmart price to book value\", walmart_pb) "
   ]
  },
  {
   "cell_type": "code",
   "execution_count": 15,
   "metadata": {},
   "outputs": [
    {
     "name": "stdout",
     "output_type": "stream",
     "text": [
      "Costco price to book: 16.40\n",
      "Costco price to earning: 55.68\n",
      "Target price to book: 4.66\n",
      "Target price to earning: 15.29\n",
      "Kroger price to book: 3.69\n",
      "Kroger price to earning: 20.79\n",
      "Ross price to earning: 23.75\n",
      "Ross price to book: 9.44\n",
      "Average price to book: 9.84\n",
      "Average price to earnings: 33.40\n"
     ]
    }
   ],
   "source": [
    "costco_stock_price = 923.65\n",
    "target_stock_price = 135.50\n",
    "kroger_co_stock_price = 61.53\n",
    "ross_stock_price = 150.07\n",
    "\n",
    "\n",
    "costco_eps = 16.59\n",
    "target_eps = 8.86\n",
    "kroger_eps = 2.96\n",
    "ross_eps = 6.32\n",
    "\n",
    "kroger_shares_outstanding = 696000000\n",
    "costco_shares_outstanding = 445000000\n",
    "target_shares_outstanding = 462000000\n",
    "ross_shares_outstanding = 331000000\n",
    "\n",
    "\n",
    "\n",
    "kroger_bv = (50505000000 - 38904000000) / kroger_shares_outstanding\n",
    "costco_bv = (68994000000 - 43936000000) / costco_shares_outstanding\n",
    "target_bv = (55356000000 - 41924000000) / target_shares_outstanding\n",
    "ross_bv = (14905000000 - 9642000000) / ross_shares_outstanding\n",
    "\n",
    "\n",
    "costco_pe = costco_stock_price/costco_eps\n",
    "target_pe = target_stock_price/target_eps\n",
    "kroger_pe = kroger_co_stock_price/kroger_eps\n",
    "ross_pe = ross_stock_price/ross_eps\n",
    "\n",
    "costco_pb = costco_stock_price/costco_bv\n",
    "target_pb = target_stock_price/target_bv\n",
    "kroger_pb = kroger_co_stock_price/kroger_bv\n",
    "ross_pb = ross_stock_price/ross_bv\n",
    "\n",
    "print(f\"Costco price to book: {costco_pb:.2f}\")\n",
    "print(f\"Costco price to earning: {costco_pe:.2f}\")\n",
    "print(f\"Target price to book: {target_pb:.2f}\")\n",
    "print(f\"Target price to earning: {target_pe:.2f}\")\n",
    "print(f\"Kroger price to book: {kroger_pb:.2f}\")\n",
    "print(f\"Kroger price to earning: {kroger_pe:.2f}\")\n",
    "print(f\"Ross price to earning: {ross_pe:.2f}\")\n",
    "print(f\"Ross price to book: {ross_pb:.2f}\")\n",
    "\n",
    "avg_pb = (costco_pb + ross_pb + kroger_pb ) / 3 # find best way not to fuckup  (probably add TJX)\n",
    "avg_pe = (costco_pe + ross_pe + kroger_pe ) / 3\n",
    "print(f\"Average price to book: {avg_pb:.2f}\")\n",
    "print(f\"Average price to earnings: {avg_pe:.2f}\")"
   ]
  },
  {
   "cell_type": "markdown",
   "metadata": {},
   "source": [
    "### Stellantis By Comparables"
   ]
  },
  {
   "cell_type": "code",
   "execution_count": 16,
   "metadata": {},
   "outputs": [
    {
     "name": "stdout",
     "output_type": "stream",
     "text": [
      "\n",
      "--- Stellantis Ratios based on 2024 Data ---\n",
      "EPS (USD, 2024): 2.04\n",
      "P/E Ratio: 6.39\n",
      "P/B Ratio: 0.43\n"
     ]
    }
   ],
   "source": [
    "eur_to_usd_rate = 1.08\n",
    "\n",
    "\n",
    "s_number_of_shares_outstanding = 2896073567.0\n",
    "s_Total_Debt_eur = 37227000000.0              \n",
    "s_Net_Debt_eur = 571000000.0                   \n",
    "s_total_equity_eur = 81692000000.0             \n",
    "\n",
    "# Income Statement (2024-12-31 column)\n",
    "s_interest_expense_eur = 1523000000.0          \n",
    "s_tax_rate = 0.258                             \n",
    "s_net_income_eur = 5473000000.0   \n",
    "\n",
    "s_equity_value_usd = s_share_price * s_number_of_shares_outstanding \n",
    "\n",
    "\n",
    "s_Total_Debt_usd = s_Total_Debt_eur * eur_to_usd_rate\n",
    "s_Net_Debt_usd = s_Net_Debt_eur * eur_to_usd_rate\n",
    "\n",
    "\n",
    "\n",
    "\n",
    "\n",
    "s_net_income_usd_2024 = s_net_income_eur * eur_to_usd_rate\n",
    "s_total_equity_usd_2024 = s_total_equity_eur * eur_to_usd_rate\n",
    "\n",
    "\n",
    "s_eps_usd_2024 = s_net_income_usd_2024 / s_number_of_shares_outstanding\n",
    "s_bvps_usd_2024 = s_total_equity_usd_2024 / s_number_of_shares_outstanding\n",
    "\n",
    "\n",
    "stellantis_pe_updated = s_share_price / s_eps_usd_2024 if s_eps_usd_2024 != 0 else float('inf')\n",
    "stellantis_pb_updated = s_share_price / s_bvps_usd_2024 if s_bvps_usd_2024 != 0 else float('inf')\n",
    "\n",
    "print(f\"\\n--- Stellantis Ratios based on 2024 Data ---\")\n",
    "print(f\"EPS (USD, 2024): {s_eps_usd_2024:.2f}\")\n",
    "print(f\"P/E Ratio: {stellantis_pe_updated:.2f}\")\n",
    "print(f\"P/B Ratio: {stellantis_pb_updated:.2f}\")\n",
    "\n",
    "\n"
   ]
  },
  {
   "cell_type": "markdown",
   "metadata": {},
   "source": [
    "**sources yahoo finance,macrotrends**"
   ]
  },
  {
   "cell_type": "code",
   "execution_count": 17,
   "metadata": {},
   "outputs": [
    {
     "name": "stdout",
     "output_type": "stream",
     "text": [
      "\n",
      "Average Comparable P/E: 7.37\n",
      "Average Comparable P/B: 0.92\n"
     ]
    }
   ],
   "source": [
    "# General Motors (GM)\n",
    "gm_stock_price = 53.27\n",
    "gm_eps = 7.00\n",
    "gm_bvps = 65.59 \n",
    "\n",
    "# Ford (F)\n",
    "ford_stock_price = 9.90\n",
    "ford_eps = 1.46 \n",
    "ford_bvps = 11.32\n",
    "\n",
    "# Toyota (TM)\n",
    "toyota_stock_price = 194.61\n",
    "toyota_eps = 25.25 \n",
    "toyota_bvps = 180.46 \n",
    "\n",
    "\n",
    "gm_pe = gm_stock_price / gm_eps\n",
    "gm_pb = gm_stock_price / gm_bvps\n",
    "\n",
    "ford_pe = ford_stock_price / ford_eps\n",
    "ford_pb = ford_stock_price / ford_bvps\n",
    "\n",
    "toyota_pe = toyota_stock_price / toyota_eps\n",
    "toyota_pb = toyota_stock_price / toyota_bvps\n",
    "\n",
    "\n",
    "\n",
    "\n",
    "comp_pe_list = [gm_pe, ford_pe, toyota_pe]\n",
    "comp_pb_list = [gm_pb, ford_pb, toyota_pb]\n",
    "\n",
    "avg_comp_pe = sum(comp_pe_list) / len(comp_pe_list)\n",
    "avg_comp_pb = sum(comp_pb_list) / len(comp_pb_list)\n",
    "\n",
    "print(f\"\\nAverage Comparable P/E: {avg_comp_pe:.2f}\")\n",
    "print(f\"Average Comparable P/B: {avg_comp_pb:.2f}\")"
   ]
  },
  {
   "cell_type": "code",
   "execution_count": 18,
   "metadata": {},
   "outputs": [
    {
     "name": "stdout",
     "output_type": "stream",
     "text": [
      "\n",
      "--- CAPM Cost of Equity (Re) ---\n",
      "Used Rf: 0.0424, Used Rm: 0.085\n",
      "Walmart Beta: 0.6732, Calculated Re_walmart: 0.0711 (7.11%)\n",
      "Stellantis Beta: 1.5136, Calculated Re_stellantis: 0.1069 (10.69%)\n"
     ]
    }
   ],
   "source": [
    "# Standardize Assumptions (Using values from previous cells)\n",
    "Rf = 0.0424  # As used in Cell 136 for CAPM Re calculation\n",
    "Rm = 0.085   # As used in Cell 136\n",
    "Rpremium = Rm - Rf\n",
    "\n",
    "# Calculate Re using CAPM (Using betas calculated in Cell 128)\n",
    "# beta_walmart and beta_stellantis should be defined from Cell 128\n",
    "Re_walmart = Rf + beta_walmart * Rpremium\n",
    "Re_stellantis = Rf + beta_stellantis * Rpremium\n",
    "\n",
    "print(f\"\\n--- CAPM Cost of Equity (Re) ---\")\n",
    "print(f\"Used Rf: {Rf:.4f}, Used Rm: {Rm:.3f}\")\n",
    "print(f\"Walmart Beta: {beta_walmart:.4f}, Calculated Re_walmart: {Re_walmart:.4f} ({Re_walmart:.2%})\")\n",
    "print(f\"Stellantis Beta: {beta_stellantis:.4f}, Calculated Re_stellantis: {Re_stellantis:.4f} ({Re_stellantis:.2%})\")"
   ]
  },
  {
   "cell_type": "code",
   "execution_count": 19,
   "metadata": {},
   "outputs": [
    {
     "name": "stdout",
     "output_type": "stream",
     "text": [
      "\n",
      "DataFrames prepared with DatetimeIndex for DDM calculations.\n"
     ]
    }
   ],
   "source": [
    "def clean_dataframe_for_ddm(df):\n",
    "    \"\"\" Cleans df and sets Date index for DDM \"\"\"\n",
    "    df_copy = df.copy() # Work on a copy\n",
    "    df_copy['Close'] = df_copy['Close'].astype(str).str.replace(',', '', regex=False)\n",
    "    df_copy['Close'] = pd.to_numeric(df_copy['Close'], errors='coerce')\n",
    "    df_copy.dropna(subset=['Close'], inplace=True)\n",
    "    df_copy['Date'] = pd.to_datetime(df_copy['Date'].str[:-6], errors='coerce')\n",
    "    df_copy.dropna(subset=['Date'], inplace=True)\n",
    "    df_copy.sort_values('Date', inplace=True)\n",
    "    # Set index for DDM\n",
    "    df_copy.set_index('Date', inplace=True)\n",
    "    # Ensure 'Dividends' column exists and is numeric\n",
    "    if 'Dividends' in df_copy.columns:\n",
    "         df_copy['Dividends'] = pd.to_numeric(df_copy['Dividends'], errors='coerce').fillna(0)\n",
    "    else:\n",
    "         print(\"Warning: Dividends column missing\")\n",
    "         df_copy['Dividends'] = 0\n",
    "    return df_copy\n",
    "\n",
    "# Re-load original dfs or ensure they are still available\n",
    "# Assuming walmart_df and stellantis_df still hold the original loaded data:\n",
    "walmart_df_ddm = clean_dataframe_for_ddm(walmart_df)\n",
    "stellantis_df_ddm = clean_dataframe_for_ddm(stellantis_df)\n",
    "\n",
    "print(\"\\nDataFrames prepared with DatetimeIndex for DDM calculations.\")"
   ]
  },
  {
   "cell_type": "code",
   "execution_count": 20,
   "metadata": {},
   "outputs": [
    {
     "name": "stdout",
     "output_type": "stream",
     "text": [
      "--- Walmart Average Dividend Growth Rate ---\n",
      "Average Growth Rate: 5.58%\n",
      "--- Stellantis Average Dividend Growth Rate ---\n",
      "Average Growth Rate: 74.35%\n",
      "To see again\n"
     ]
    }
   ],
   "source": [
    "# Calculate the dividends for Walmart\n",
    "\n",
    "# Filter out non-positive dividends and drop duplicates\n",
    "walmart_dividends = walmart_df_ddm.loc[walmart_df_ddm['Dividends'] > 0, 'Dividends']\n",
    "walmart_dividends = walmart_dividends.drop_duplicates()\n",
    "\n",
    "# Annualize\n",
    "walmart_dividends = walmart_dividends * 4\n",
    "\n",
    "# Compute percentage change\n",
    "walmart_dividends_pct_change = walmart_dividends.pct_change() * 100\n",
    "\n",
    "# Store the results in a DataFrame for better visualization\n",
    "walmart_dividends_df = pd.DataFrame({\n",
    "    \"Dividends\": walmart_dividends,\n",
    "    \"pct_change\": walmart_dividends_pct_change\n",
    "})\n",
    "\n",
    "# Compute average growth rate\n",
    "avg_growth_rate = walmart_dividends_pct_change.mean()\n",
    "print(f\"--- Walmart Average Dividend Growth Rate ---\")\n",
    "print(f\"Average Growth Rate: {avg_growth_rate:.2f}%\")\n",
    "\n",
    "\n",
    "# Calculate the dividends for Stellantis\n",
    "\n",
    "# Filter out non-positive dividends and drop duplicates\n",
    "stellantis_dividends = stellantis_df_ddm.loc[stellantis_df_ddm['Dividends'] > 0, 'Dividends']\n",
    "stellantis_dividends = stellantis_dividends.drop_duplicates()\n",
    "\n",
    "# Annualize\n",
    "stellantis_dividends = stellantis_dividends * 4\n",
    "\n",
    "# Compute percentage change\n",
    "stellantis_dividends_pct_change = stellantis_dividends.pct_change() * 100\n",
    "\n",
    "# Store the results in a DataFrame for better visualization\n",
    "stellantis_dividends_df = pd.DataFrame({\n",
    "    \"Dividends\": stellantis_dividends,\n",
    "    \"pct_change\": stellantis_dividends_pct_change\n",
    "})\n",
    "\n",
    "# Compute average growth rate\n",
    "avg_growth_rate_stellantis = stellantis_dividends_pct_change.mean()\n",
    "print(f\"--- Stellantis Average Dividend Growth Rate ---\")\n",
    "print(f\"Average Growth Rate: {avg_growth_rate_stellantis:.2f}%\")\n",
    "print(\"To see again\")\n",
    "\n"
   ]
  },
  {
   "cell_type": "code",
   "execution_count": 21,
   "metadata": {},
   "outputs": [
    {
     "name": "stdout",
     "output_type": "stream",
     "text": [
      "\n",
      "--- DDM Calculation for Walmart (Approximate - Gordon Growth) ---\n",
      "Using Annual Dividend (D0): $0.940\n",
      "Cost of Equity (Re):        7.11%\n",
      "Assumed Constant Div Growth (g): 5.5%\n",
      "----------------------------------------\n",
      "Expected Next Dividend (D1): $0.992\n",
      "Intrinsic Value per Share:   $61.68\n",
      "Current Market Price:        $98.61\n",
      "--> DDM suggests stock may be OVERVALUED (using approximate assumptions)\n",
      "\n",
      "DDM Commentary for Walmart:\n",
      "The calculated DDM value ($61.68) is significantly lower than the market price ($98.61).\n",
      "This is primarily driven by the low assumed constant growth rate (g = {g_ddm_wmt:.1%}).\n",
      "A higher, potentially more realistic long-term growth rate (e.g., g = 4.0%) would yield a value of $31.46, still below market.\n",
      "This suggests the simple Gordon Growth DDM may not fully capture market expectations or other value drivers for Walmart, or the market applies a lower discount rate/higher growth.\n",
      "Consider comparing with DCF and Comparables, or using a multi-stage DDM.\n"
     ]
    }
   ],
   "source": [
    "# CELL: Code - Walmart DDM Calculation (Revised with Commentary)\n",
    "\n",
    "# --- Inputs & Assumptions for Walmart DDM ---\n",
    "\n",
    "# 1. Calculate D0 (Last Annual Dividend per Share)\n",
    "try:\n",
    "    # ... (Keep the D0 calculation logic as before) ...\n",
    "    last_date_wmt = walmart_df_ddm.index.max()\n",
    "    start_date_wmt = last_date_wmt - pd.DateOffset(months=11)\n",
    "    wmt_dividends_last_year = walmart_df_ddm.loc[start_date_wmt:last_date_wmt, 'Dividends'].sum()\n",
    "    wmt_last_quarterly_dividend = walmart_df_ddm['Dividends'].iloc[-1] if walmart_df_ddm['Dividends'].iloc[-1] > 0 else 0.235\n",
    "    wmt_D0_alternative = wmt_last_quarterly_dividend * 4\n",
    "    # print(f\"(Info: D0 based on last 12m sum: {wmt_dividends_last_year:.3f}, D0 based on quarterly*4: {wmt_D0_alternative:.3f})\")\n",
    "    wmt_D0 = wmt_D0_alternative # Using quarterly based\n",
    "except Exception as e:\n",
    "    print(f\"Error calculating Walmart D0: {e}\")\n",
    "    wmt_D0 = 0\n",
    "\n",
    "# 2. Cost of Equity (Re) - Use the CAPM calculated value\n",
    "try:\n",
    "    Re_ddm_wmt = Re_walmart\n",
    "except NameError:\n",
    "    print(\"Warning: Re_walmart not found from CAPM calculation. Using placeholder 0.0711\")\n",
    "    Re_ddm_wmt = 0.0711\n",
    "\n",
    "# 3. Dividend Growth Rate (g) - Placeholder Assumption\n",
    "g_ddm_wmt = 0.055 # Approximate: Assume 3.5% constant dividend growth\n",
    "\n",
    "print(f\"\\n--- DDM Calculation for Walmart (Approximate - Gordon Growth) ---\")\n",
    "print(f\"Using Annual Dividend (D0): ${wmt_D0:.3f}\")\n",
    "print(f\"Cost of Equity (Re):        {Re_ddm_wmt:.2%}\")\n",
    "print(f\"Assumed Constant Div Growth (g): {g_ddm_wmt:.1%}\")\n",
    "print(\"-\" * 40)\n",
    "\n",
    "# --- Perform DDM Calculation ---\n",
    "intrinsic_value_ps_ddm_wmt = float('nan') # Initialize\n",
    "if wmt_D0 <= 0:\n",
    "    print(\"Cannot calculate DDM because D0 is zero or negative.\")\n",
    "elif g_ddm_wmt >= Re_ddm_wmt:\n",
    "    print(\"Error: Dividend growth rate (g) cannot be >= Cost of Equity (Re) for Gordon Growth Model.\")\n",
    "else:\n",
    "    wmt_D1 = wmt_D0 * (1 + g_ddm_wmt)\n",
    "    print(f\"Expected Next Dividend (D1): ${wmt_D1:.3f}\")\n",
    "    intrinsic_value_ps_ddm_wmt = wmt_D1 / (Re_ddm_wmt - g_ddm_wmt)\n",
    "    print(f\"Intrinsic Value per Share:   ${intrinsic_value_ps_ddm_wmt:.2f}\")\n",
    "    print(f\"Current Market Price:        ${w_share_price:.2f}\")\n",
    "\n",
    "    if intrinsic_value_ps_ddm_wmt > w_share_price:\n",
    "        print(\"--> DDM suggests stock may be UNDERVALUED (using approximate assumptions)\")\n",
    "    elif intrinsic_value_ps_ddm_wmt < w_share_price:\n",
    "         print(\"--> DDM suggests stock may be OVERVALUED (using approximate assumptions)\")\n",
    "    else:\n",
    "         print(\"--> DDM suggests stock may be FAIRLY VALUED (using approximate assumptions)\")\n",
    "\n",
    "# --- Commentary on Walmart DDM Result ---\n",
    "print(\"\\nDDM Commentary for Walmart:\")\n",
    "if not np.isnan(intrinsic_value_ps_ddm_wmt) and intrinsic_value_ps_ddm_wmt < w_share_price:\n",
    "    print(f\"The calculated DDM value (${intrinsic_value_ps_ddm_wmt:.2f}) is significantly lower than the market price (${w_share_price:.2f}).\")\n",
    "    print(\"This is primarily driven by the low assumed constant growth rate (g = {g_ddm_wmt:.1%}).\")\n",
    "    # Sensitivity Example\n",
    "    g_test = 0.04\n",
    "    if g_test < Re_ddm_wmt:\n",
    "        val_test = (wmt_D0 * (1 + g_test)) / (Re_ddm_wmt - g_test)\n",
    "        print(f\"A higher, potentially more realistic long-term growth rate (e.g., g = {g_test:.1%}) would yield a value of ${val_test:.2f}, still below market.\")\n",
    "    print(\"This suggests the simple Gordon Growth DDM may not fully capture market expectations or other value drivers for Walmart, or the market applies a lower discount rate/higher growth.\")\n",
    "    print(\"Consider comparing with DCF and Comparables, or using a multi-stage DDM.\")"
   ]
  },
  {
   "cell_type": "code",
   "execution_count": 22,
   "metadata": {},
   "outputs": [
    {
     "name": "stdout",
     "output_type": "stream",
     "text": [
      "(Info: Using manually set D0 = 1.652 EUR based on last known annual payment)\n",
      "\n",
      "--- DDM Calculation for Stellantis (Approximate) ---\n",
      "Using Annual Dividend (D0, EUR): €1.652\n",
      "Cost of Equity (Re):            10.69%\n",
      "Assumed Div Growth (g):         2.0%\n",
      "Assumed EUR/USD Rate:           1.0800\n",
      "----------------------------------------\n",
      "Expected Next Dividend (D1, EUR): €1.685\n",
      "Expected Next Dividend (D1, USD): $1.820\n",
      "Intrinsic Value per Share (USD): $20.95\n",
      "Current Market Price (USD):      $13.05\n",
      "--> DDM suggests stock may be UNDERVALUED (using approximate assumptions)\n"
     ]
    }
   ],
   "source": [
    "# CELL: Code - Stellantis DDM Calculation\n",
    "\n",
    "# --- Inputs & Assumptions for Stellantis DDM ---\n",
    "\n",
    "\n",
    "# 1. Calculate D0 (Last Annual Dividend per Share in EUR)\n",
    "\n",
    "\n",
    "stla_D0_eur = 1.652\n",
    "print(f\"(Info: Using manually set D0 = {stla_D0_eur:.3f} EUR based on last known annual payment)\")\n",
    "\n",
    "try:\n",
    "    Re_ddm_stla = Re_stellantis\n",
    "except NameError:\n",
    "    print(\"Warning: Re_stellantis not found from CAPM calculation. Using placeholder 0.1078\")\n",
    "    Re_ddm_stla = 0.1078 # Placeholder if needed\n",
    "\n",
    "# 3. Dividend Growth Rate (g) - Placeholder Assumption (ADJUST BASED ON RESEARCH)\n",
    "g_ddm_stla = 0.020 # Approximate: Assume 2.0% constant dividend growth\n",
    "\n",
    "# 4. Exchange Rate (Use the same as before - ADJUST)\n",
    "try:\n",
    "    eur_to_usd_rate # Check if it exists from Cell 140\n",
    "except NameError:\n",
    "    eur_to_usd_rate = 1.08 # Define if not already set\n",
    "    print(f\"Using default EUR/USD rate: {eur_to_usd_rate}\")\n",
    "\n",
    "\n",
    "print(f\"\\n--- DDM Calculation for Stellantis (Approximate) ---\")\n",
    "print(f\"Using Annual Dividend (D0, EUR): €{stla_D0_eur:.3f}\")\n",
    "print(f\"Cost of Equity (Re):            {Re_ddm_stla:.2%}\")\n",
    "print(f\"Assumed Div Growth (g):         {g_ddm_stla:.1%}\")\n",
    "print(f\"Assumed EUR/USD Rate:           {eur_to_usd_rate:.4f}\")\n",
    "print(\"-\" * 40)\n",
    "\n",
    "# --- Perform DDM Calculation (in USD) ---\n",
    "if stla_D0_eur <= 0: # Check if D0 is valid\n",
    "     print(\"Cannot calculate DDM because D0 is zero or negative.\")\n",
    "elif g_ddm_stla >= Re_ddm_stla:\n",
    "    print(\"Error: Dividend growth rate (g) cannot be >= Cost of Equity (Re) for Gordon Growth Model.\")\n",
    "    intrinsic_value_ps_ddm_stla = float('nan')\n",
    "else:\n",
    "    # Calculate D1 in EUR\n",
    "    stla_D1_eur = stla_D0_eur * (1 + g_ddm_stla)\n",
    "    # Convert D1 to USD\n",
    "    stla_D1_usd = stla_D1_eur * eur_to_usd_rate\n",
    "    print(f\"Expected Next Dividend (D1, EUR): €{stla_D1_eur:.3f}\")\n",
    "    print(f\"Expected Next Dividend (D1, USD): ${stla_D1_usd:.3f}\")\n",
    "\n",
    "    # Calculate Intrinsic Value in USD\n",
    "    intrinsic_value_ps_ddm_stla = stla_D1_usd / (Re_ddm_stla - g_ddm_stla)\n",
    "\n",
    "    print(f\"Intrinsic Value per Share (USD): ${intrinsic_value_ps_ddm_stla:.2f}\")\n",
    "    print(f\"Current Market Price (USD):      ${s_share_price:.2f}\") # s_share_price from Cell 135\n",
    "\n",
    "    if intrinsic_value_ps_ddm_stla > s_share_price:\n",
    "        print(\"--> DDM suggests stock may be UNDERVALUED (using approximate assumptions)\")\n",
    "    elif intrinsic_value_ps_ddm_stla < s_share_price:\n",
    "         print(\"--> DDM suggests stock may be OVERVALUED (using approximate assumptions)\")\n",
    "    else:\n",
    "         print(\"--> DDM suggests stock may be FAIRLY VALUED (using approximate assumptions)\")\n",
    "\n"
   ]
  }
 ],
 "metadata": {
  "kernelspec": {
   "display_name": "Python 3",
   "language": "python",
   "name": "python3"
  },
  "language_info": {
   "codemirror_mode": {
    "name": "ipython",
    "version": 3
   },
   "file_extension": ".py",
   "mimetype": "text/x-python",
   "name": "python",
   "nbconvert_exporter": "python",
   "pygments_lexer": "ipython3",
   "version": "3.13.2"
  }
 },
 "nbformat": 4,
 "nbformat_minor": 2
}
