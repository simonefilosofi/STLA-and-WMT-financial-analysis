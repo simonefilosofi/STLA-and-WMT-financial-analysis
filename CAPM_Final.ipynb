{
 "cells": [
  {
   "cell_type": "markdown",
   "metadata": {},
   "source": [
    "## Capital Asset Pricing Model (CAPM)\n",
    "\n",
    "The Capital Asset Pricing Model (CAPM) is a financial model that describes the relationship between the expected return of an asset and its risk, as measured by beta. The CAPM formula is given by:\n",
    "\n",
    "$$ E(R_i) = R_f + \\beta_i (E(R_m) - R_f) $$\n",
    "\n",
    "Where:\n",
    "- $E(R_i)$ is the expected return of the asset\n",
    "- $R_f$ is the risk-free rate\n",
    "- $\\beta_i$ is the beta of the asset, which measures its sensitivity to market movements\n",
    "- $E(R_m)$ is the expected return of the market\n",
    "- $E(R_m) - R_f$ is the market risk premium, which is the additional return expected from investing in the market over the risk-free rate\n",
    "\n"
   ]
  },
  {
   "cell_type": "code",
   "execution_count": 62,
   "metadata": {},
   "outputs": [
    {
     "name": "stdout",
     "output_type": "stream",
     "text": [
      "Beta for Walmart is: 0.6932705680967155\n",
      "Beta for Stellantis is: 1.5000000000000002\n",
      "\n",
      "CAPM Formula: E(Ri) = Rf + βi(E(Rm) - Rf)\n",
      "Risk-free rate (Rf): 0.0427\n",
      "Market risk premium (E(Rm) - Rf): 0.0550\n",
      "\n",
      "Walmart CAPM Calculation:\n",
      "E(Ri) = 0.0427 + 0.6933 × 0.0550\n",
      "E(Ri) = 0.0427 + 0.0381\n",
      "E(Ri) = 0.0808 or 8.08%\n",
      "\n",
      "Stellantis CAPM Calculation:\n",
      "E(Ri) = 0.0427 + 1.5000 × 0.0550\n",
      "E(Ri) = 0.0427 + 0.0825\n",
      "E(Ri) = 0.1252 or 12.52%\n"
     ]
    }
   ],
   "source": [
    "import pandas as pd\n",
    "# Define the parameters\n",
    "risk_free_rate = 0.0427  # 4.27%\n",
    "market_risk_premium = 0.055  # 5.5%\n",
    " \n",
    "\n",
    "# Beta values\n",
    "betaResults = pd.read_csv('Outputs\\\\beta_results.csv')\n",
    "walmart_beta = betaResults['Beta'][0]\n",
    "print(f\"Beta for Walmart is: {walmart_beta}\")\n",
    "stellantis_beta = betaResults['Beta'][1]\n",
    "print(f\"Beta for Stellantis is: {stellantis_beta}\")\n",
    "\n",
    "# Calculate expected returns using CAPM formula: E(Ri) = Rf + βi(E(Rm) - Rf)\n",
    "walmart_expected_return = risk_free_rate + walmart_beta * market_risk_premium\n",
    "stellantis_expected_return = risk_free_rate + stellantis_beta * market_risk_premium\n",
    "\n",
    "# Print the calculation steps\n",
    "print(\"\\nCAPM Formula: E(Ri) = Rf + βi(E(Rm) - Rf)\")\n",
    "print(f\"Risk-free rate (Rf): {risk_free_rate:.4f}\")\n",
    "print(f\"Market risk premium (E(Rm) - Rf): {market_risk_premium:.4f}\")\n",
    "print(\"\\nWalmart CAPM Calculation:\")\n",
    "print(f\"E(Ri) = {risk_free_rate:.4f} + {walmart_beta:.4f} × {market_risk_premium:.4f}\")\n",
    "print(f\"E(Ri) = {risk_free_rate:.4f} + {walmart_beta * market_risk_premium:.4f}\")\n",
    "print(f\"E(Ri) = {walmart_expected_return:.4f} or {walmart_expected_return * 100:.2f}%\")\n",
    "\n",
    "print(\"\\nStellantis CAPM Calculation:\")\n",
    "print(f\"E(Ri) = {risk_free_rate:.4f} + {stellantis_beta:.4f} × {market_risk_premium:.4f}\")\n",
    "print(f\"E(Ri) = {risk_free_rate:.4f} + {stellantis_beta * market_risk_premium:.4f}\")\n",
    "print(f\"E(Ri) = {stellantis_expected_return:.4f} or {stellantis_expected_return * 100:.2f}%\")"
   ]
  },
  {
   "cell_type": "code",
   "execution_count": 63,
   "metadata": {},
   "outputs": [
    {
     "name": "stdout",
     "output_type": "stream",
     "text": [
      "Downloading data...\n"
     ]
    },
    {
     "name": "stderr",
     "output_type": "stream",
     "text": [
      "[*********************100%***********************]  1 of 1 completed\n",
      "[*********************100%***********************]  1 of 1 completed\n",
      "[*********************100%***********************]  1 of 1 completed"
     ]
    },
    {
     "name": "stdout",
     "output_type": "stream",
     "text": [
      "MultiIndex detected, using the first level\n"
     ]
    },
    {
     "name": "stderr",
     "output_type": "stream",
     "text": [
      "\n"
     ]
    }
   ],
   "source": [
    "import numpy as np\n",
    "import pandas as pd\n",
    "import yfinance as yf\n",
    "import matplotlib.pyplot as plt\n",
    "from datetime import datetime, timedelta\n",
    "\n",
    "# Set the time period (5 years of data)\n",
    "end_date = datetime.now()\n",
    "start_date = end_date - timedelta(days=5*365)  # Approximately 5 years\n",
    "\n",
    "# Define the ticker symbols\n",
    "walmart_ticker = \"WMT\"\n",
    "stellantis_ticker = \"STLA\"\n",
    "market_ticker = \"^GSPC\"  # S&P 500 index\n",
    "\n",
    "# Download the historical data\n",
    "print(\"Downloading data...\")\n",
    "walmart_data = yf.download(walmart_ticker, start=start_date, end=end_date)\n",
    "stellantis_data = yf.download(stellantis_ticker, start=start_date, end=end_date)\n",
    "market_data = yf.download(market_ticker, start=start_date, end=end_date)\n",
    "\n",
    "# Handle MultiIndex if present\n",
    "if isinstance(walmart_data.columns, pd.MultiIndex):\n",
    "    print(\"MultiIndex detected, using the first level\")\n",
    "    # For MultiIndex, we can access the 'Close' price like this\n",
    "    walmart_data = walmart_data.xs('Close', axis=1, level=0)\n",
    "    stellantis_data = stellantis_data.xs('Close', axis=1, level=0)\n",
    "    market_data = market_data.xs('Close', axis=1, level=0)\n",
    "else:\n",
    "    # Use 'Close' if 'Adj Close' is not available\n",
    "    price_column = 'Adj Close' if 'Adj Close' in walmart_data.columns else 'Close'\n",
    "    print(f\"Using {price_column} column for calculations\")\n",
    "    walmart_data = walmart_data[price_column]\n",
    "    stellantis_data = stellantis_data[price_column]\n",
    "    market_data = market_data[price_column]\n"
   ]
  },
  {
   "cell_type": "code",
   "execution_count": 64,
   "metadata": {},
   "outputs": [
    {
     "name": "stdout",
     "output_type": "stream",
     "text": [
      "\n",
      "Sample returns:\n",
      "Walmart:\n",
      "Ticker           WMT\n",
      "Date                \n",
      "2020-05-31  0.025140\n",
      "2020-06-30 -0.034499\n",
      "2020-07-31  0.080314\n",
      "2020-08-31  0.077441\n",
      "2020-09-30  0.007634\n",
      "Stellantis:\n",
      "Ticker          STLA\n",
      "Date                \n",
      "2020-05-31  0.026713\n",
      "2020-06-30  0.158371\n",
      "2020-07-31 -0.008789\n",
      "2020-08-31  0.086699\n",
      "2020-09-30  0.107888\n",
      "Market:\n",
      "Ticker         ^GSPC\n",
      "Date                \n",
      "2020-05-31  0.045282\n",
      "2020-06-30  0.018388\n",
      "2020-07-31  0.055101\n",
      "2020-08-31  0.070065\n",
      "2020-09-30 -0.039228\n",
      "\n",
      "Number of common dates: 60\n"
     ]
    },
    {
     "name": "stderr",
     "output_type": "stream",
     "text": [
      "C:\\Users\\allam\\AppData\\Local\\Temp\\ipykernel_8156\\1559853786.py:3: FutureWarning: 'M' is deprecated and will be removed in a future version, please use 'ME' instead.\n",
      "  walmart_monthly = walmart_data.resample('M').last()\n",
      "C:\\Users\\allam\\AppData\\Local\\Temp\\ipykernel_8156\\1559853786.py:4: FutureWarning: 'M' is deprecated and will be removed in a future version, please use 'ME' instead.\n",
      "  stellantis_monthly = stellantis_data.resample('M').last()\n",
      "C:\\Users\\allam\\AppData\\Local\\Temp\\ipykernel_8156\\1559853786.py:5: FutureWarning: 'M' is deprecated and will be removed in a future version, please use 'ME' instead.\n",
      "  market_monthly = market_data.resample('M').last()\n"
     ]
    }
   ],
   "source": [
    "\n",
    "# Calculate monthly returns\n",
    "# We'll resample to monthly data and calculate returns\n",
    "walmart_monthly = walmart_data.resample('M').last()\n",
    "stellantis_monthly = stellantis_data.resample('M').last()\n",
    "market_monthly = market_data.resample('M').last()\n",
    "\n",
    "walmart_returns = walmart_monthly.pct_change().dropna()\n",
    "stellantis_returns = stellantis_monthly.pct_change().dropna()\n",
    "market_returns = market_monthly.pct_change().dropna()\n",
    "\n",
    "# Display first few return values to verify\n",
    "print(\"\\nSample returns:\")\n",
    "print(\"Walmart:\")\n",
    "print(walmart_returns.head())\n",
    "print(\"Stellantis:\")\n",
    "print(stellantis_returns.head())\n",
    "print(\"Market:\")\n",
    "print(market_returns.head())\n",
    "\n",
    "# Create a DataFrame with a common index\n",
    "common_dates = walmart_returns.index.intersection(\n",
    "    stellantis_returns.index.intersection(market_returns.index)\n",
    ")\n",
    "print(f\"\\nNumber of common dates: {len(common_dates)}\")\n",
    "\n",
    "returns_df = pd.DataFrame(index=common_dates)\n",
    "returns_df['Walmart'] = walmart_returns.loc[common_dates]\n",
    "returns_df['Stellantis'] = stellantis_returns.loc[common_dates]\n",
    "returns_df['Market'] = market_returns.loc[common_dates]\n"
   ]
  },
  {
   "cell_type": "code",
   "execution_count": 65,
   "metadata": {},
   "outputs": [
    {
     "data": {
      "image/png": "[encoded data removed]",
      "text/plain": [
       "<Figure size 1200x600 with 2 Axes>"
      ]
     },
     "metadata": {},
     "output_type": "display_data"
    }
   ],
   "source": [
    "# Define risk-free rate (current 10-year Treasury yield as of April 2025)\n",
    "risk_free_rate = 0.0427\n",
    "\n",
    "# Calculate expected market return (historical average plus risk premium)\n",
    "\n",
    "market_risk_premium = 0.055  \n",
    "expected_market_return = risk_free_rate + market_risk_premium\n",
    "\n",
    "\n",
    "# Visualize the stock returns vs market returns to see the beta relationship\n",
    "plt.figure(figsize=(12, 6))\n",
    "\n",
    "plt.subplot(1, 2, 1)\n",
    "plt.scatter(returns_df['Market'], returns_df['Walmart'])\n",
    "plt.plot(np.unique(returns_df['Market']), \n",
    "         np.poly1d(np.polyfit(returns_df['Market'], returns_df['Walmart'], 1))(np.unique(returns_df['Market'])), \n",
    "         color='red')\n",
    "plt.xlabel('Market Returns')\n",
    "plt.ylabel('Walmart Returns')\n",
    "plt.title(f'Walmart Beta: {walmart_beta:.4f}')\n",
    "plt.grid(True)\n",
    "\n",
    "plt.subplot(1, 2, 2)\n",
    "plt.scatter(returns_df['Market'], returns_df['Stellantis'])\n",
    "plt.plot(np.unique(returns_df['Market']), \n",
    "         np.poly1d(np.polyfit(returns_df['Market'], returns_df['Stellantis'], 1))(np.unique(returns_df['Market'])), \n",
    "         color='red')\n",
    "plt.xlabel('Market Returns')\n",
    "plt.ylabel('Stellantis Returns')\n",
    "plt.title(f'Stellantis Beta: {stellantis_beta:.4f}')\n",
    "plt.grid(True)\n",
    "\n",
    "plt.tight_layout()\n",
    "plt.savefig('stock_betas.png')\n",
    "plt.show()\n",
    "\n"
   ]
  },
  {
   "cell_type": "markdown",
   "metadata": {},
   "source": [
    "## 📉 Visual Interpretation of Beta: Walmart vs. Stellantis\n",
    "\n",
    "The scatter plots above illustrate the **relationship between individual stock returns and market returns**, with the red line representing the **line of best fit** — essentially the **beta coefficient**.\n",
    "\n",
    "### Walmart (Left Plot):\n",
    "- The **beta is 0.6933**, as shown by the moderate slope of the trendline.\n",
    "- This indicates **less sensitivity to market movements** — Walmart’s returns move **less than the market’s returns**.\n",
    "- The data points are relatively clustered around the trendline, suggesting **stable and predictable performance**, typical of a **defensive stock** in consumer staples.\n",
    "\n",
    "### Stellantis (Right Plot):\n",
    "- The **beta is 1.5000**, reflected by the steeper slope.\n",
    "- This shows **higher sensitivity to market changes** — when the market rises or falls, Stellantis tends to move **more aggressively in the same direction**.\n",
    "- The spread of data points around the line is wider, reflecting **greater volatility**, which aligns with Stellantis being in the **cyclical automotive industry**.\n",
    "\n",
    "### Summary:\n",
    "- The visual evidence reinforces the CAPM calculations: **Walmart** is lower-risk with more stable returns, while **Stellantis** offers higher expected returns but at the cost of increased risk and volatility.\n"
   ]
  },
  {
   "cell_type": "code",
   "execution_count": 66,
   "metadata": {},
   "outputs": [
    {
     "name": "stdout",
     "output_type": "stream",
     "text": [
      "\n",
      "Walmart R-squared: 0.2878\n",
      "Stellantis R-squared: 0.3698\n",
      "\n",
      "CAPM Results:\n",
      "   Company   Beta  Risk-Free Rate  Market Risk Premium  Cost of Equity (CAPM)\n",
      "   Walmart 0.6933          0.0427               0.0550                 0.0808\n",
      "Stellantis 1.5000          0.0427               0.0550                 0.1252\n"
     ]
    }
   ],
   "source": [
    "\n",
    "# Additionally, we can calculate R-squared to measure how well the market explains the stock variations\n",
    "from scipy import stats\n",
    "\n",
    "# For Walmart\n",
    "slope, intercept, r_value, p_value, std_err = stats.linregress(returns_df['Market'], returns_df['Walmart'])\n",
    "walmart_rsquared = r_value**2\n",
    "\n",
    "# For Stellantis\n",
    "slope, intercept, r_value, p_value, std_err = stats.linregress(returns_df['Market'], returns_df['Stellantis'])\n",
    "stellantis_rsquared = r_value**2\n",
    "\n",
    "print(f\"\\nWalmart R-squared: {walmart_rsquared:.4f}\")\n",
    "print(f\"Stellantis R-squared: {stellantis_rsquared:.4f}\")\n",
    "\n",
    "# Add a section to calculate the CAPM in tabular format\n",
    "capm_data = {\n",
    "    'Company': ['Walmart', 'Stellantis'],\n",
    "    'Beta': [walmart_beta, stellantis_beta],\n",
    "    'Risk-Free Rate': [risk_free_rate, risk_free_rate],\n",
    "    'Market Risk Premium': [market_risk_premium, market_risk_premium],\n",
    "    'Cost of Equity (CAPM)': [walmart_expected_return, stellantis_expected_return]\n",
    "}\n",
    "\n",
    "capm_df = pd.DataFrame(capm_data)\n",
    "print(\"\\nCAPM Results:\")\n",
    "print(capm_df.to_string(index=False, float_format=lambda x: f\"{x:.4f}\"))"
   ]
  },
  {
   "cell_type": "markdown",
   "metadata": {},
   "source": [
    "## 📊 R-Squared Analysis: Walmart vs. Stellantis\n",
    "\n",
    "**R-squared (R²)**, also known as the **coefficient of determination**, measures how well the variability of a stock’s returns is explained by the market's returns in a linear regression. It ranges from **0 to 1**, where:\n",
    "\n",
    "- **0** = No explanatory power (the model explains none of the variability)\n",
    "- **1** = Perfect fit (the model explains all of the variability)\n",
    "\n",
    "---\n",
    "\n",
    "### Walmart R²: **0.2754**\n",
    "- Approximately **27.54%** of Walmart’s return variability is explained by market returns.\n",
    "- This relatively low R² is **typical for defensive stocks**, which are influenced more by **company-specific factors** (e.g., stable demand, internal operations) than market-wide movements.\n",
    "- Interpretation: While Walmart does respond to market trends, a significant portion of its performance is **independent of broader market fluctuations**.\n",
    "\n",
    "---\n",
    "\n",
    "### Stellantis R²: **0.3540**\n",
    "- About **35.40%** of Stellantis’s return variability is explained by the market.\n",
    "- This is a **moderately stronger relationship** compared to Walmart, which makes sense given Stellantis’s **higher beta** and exposure to **cyclical economic factors**.\n",
    "- Interpretation: Stellantis’s performance is **more tightly linked to overall market performance**, but there’s still **substantial influence from firm-specific and industry-specific events**.\n",
    "\n",
    "---\n",
    "\n",
    "### 🔍 Key Insight:\n",
    "- Neither stock has a very high R², which suggests **diversification value** — these companies may behave **differently from the market**, especially Walmart.\n",
    "- A **low to moderate R²** does **not invalidate the CAPM**, but highlights the **importance of non-market risks** (unsystematic risk) in driving returns.\n",
    "\n",
    "Use R² in tandem with **beta**:  \n",
    "- **Beta** measures **sensitivity** to market movements.  \n",
    "- **R²** tells you how well those movements **explain** the stock’s behavior.\n"
   ]
  },
  {
   "cell_type": "markdown",
   "metadata": {},
   "source": [
    "## CAPM Analysis: Walmart vs. Stellantis\n",
    "\n",
    "### 📊 Input Summary\n",
    "- **Risk-Free Rate (Rf)**: 4.27%\n",
    "- **Market Risk Premium=**: 5.50%\n",
    "- **Expected Market Return (E(Rm))**: 9.77%\n",
    "- **Beta (Walmart)**: 0.6933\n",
    "- **Beta (Stellantis)**: 1.5000\n",
    "\n",
    "---\n",
    "\n",
    "### 📈 Expected Returns (CAPM Results)\n",
    "\n",
    "#### Walmart:\n",
    "We use the CAPM formula:\n",
    "$$ E(R_i) = R_f + \\beta_i (E(R_m) - R_f) $$\n",
    "\n",
    "Walmart CAPM Calculation:\n",
    "$$ E(R_{\\text{Walmart}}) = 0.0427 + 0.6933 \\cdot 0.0550 $$\n",
    "$$ E(R_{\\text{Walmart}}) = 0.0427 + 0.0381 = 0.0808 \\Rightarrow \\textbf{8.08\\%} $$\n",
    "\n",
    "\n",
    "---\n",
    "\n",
    "#### Stellantis:\n",
    "Applying the same CAPM formula:\n",
    "Stellantis CAPM Calculation:\n",
    "$$ E(R_{\\text{Stellantis}}) = 0.0427 + 1.5000 \\cdot 0.0550 $$\n",
    "$$ E(R_{\\text{Stellantis}}) = 0.0427 + 0.0825 = 0.1252 \\Rightarrow \\textbf{12.52\\%} $$\n",
    "\n",
    "---\n",
    "\n",
    "### 🧠 Interpretation of Results\n",
    "\n",
    "- **Walmart's Beta** is **below 1 (0.6933)**, which implies it is **less volatile** than the market. This suggests it is a **defensive stock**, offering relatively **stable and lower-risk returns**. Consequently, its expected return (8.08%) is **lower**.\n",
    "\n",
    "- **Stellantis's Beta** is **above 1 (1.5000)**, indicating it is **more volatile** than the market. It is a **cyclical stock**, expected to **outperform in bull markets but underperform in bear markets**. The higher risk translates into a **higher expected return** (12.52%).\n",
    "\n",
    "- **Risk vs. Return Trade-off**: CAPM quantifies the trade-off between risk and return. Higher beta stocks like Stellantis offer **higher potential returns** to compensate for their **higher risk**, while lower beta stocks like Walmart are **safer investments** with **moderate returns**.\n",
    "\n",
    "---\n",
    "\n",
    "### ✅ Key Takeaways\n",
    "\n",
    "- **Walmart** is suitable for **risk-averse investors** seeking **steady returns** with low market sensitivity.\n",
    "- **Stellantis** may attract **risk-tolerant investors** aiming for **higher gains** in exchange for greater volatility.\n",
    "- CAPM provides a clear, quantitative way to compare investment opportunities based on their **systematic risk exposure**.\n",
    "\n",
    "---\n",
    "\n",
    "### 💡 Strategic Insight\n",
    "In portfolio construction:\n",
    "- Including **Walmart** could provide **stability** during downturns.\n",
    "- Adding **Stellantis** could enhance **returns** during economic expansions — but it requires active **risk management**.\n",
    "\n",
    "Use CAPM as a **baseline tool**, and always combine it with **qualitative factors**, such as industry trends, management quality, and macroeconomic indicators, for holistic decision-making.\n"
   ]
  }
 ],
 "metadata": {
  "kernelspec": {
   "display_name": ".venv",
   "language": "python",
   "name": "python3"
  },
  "language_info": {
   "codemirror_mode": {
    "name": "ipython",
    "version": 3
   },
   "file_extension": ".py",
   "mimetype": "text/x-python",
   "name": "python",
   "nbconvert_exporter": "python",
   "pygments_lexer": "ipython3",
   "version": "3.13.2"
  }
 },
 "nbformat": 4,
 "nbformat_minor": 2
}
