{
 "cells": [
  {
   "cell_type": "code",
   "execution_count": 1,
   "metadata": {},
   "outputs": [
    {
     "data": {
      "text/html": [
       "<div>\n",
       "<style scoped>\n",
       "    .dataframe tbody tr th:only-of-type {\n",
       "        vertical-align: middle;\n",
       "    }\n",
       "\n",
       "    .dataframe tbody tr th {\n",
       "        vertical-align: top;\n",
       "    }\n",
       "\n",
       "    .dataframe thead th {\n",
       "        text-align: right;\n",
       "    }\n",
       "</style>\n",
       "<table border=\"1\" class=\"dataframe\">\n",
       "  <thead>\n",
       "    <tr style=\"text-align: right;\">\n",
       "      <th></th>\n",
       "      <th>Date</th>\n",
       "      <th>Price</th>\n",
       "      <th>Open</th>\n",
       "      <th>High</th>\n",
       "      <th>Low</th>\n",
       "      <th>Vol.</th>\n",
       "      <th>Change %</th>\n",
       "      <th>Change_Int</th>\n",
       "    </tr>\n",
       "  </thead>\n",
       "  <tbody>\n",
       "    <tr>\n",
       "      <th>0</th>\n",
       "      <td>03/01/2025</td>\n",
       "      <td>12.40</td>\n",
       "      <td>13.05</td>\n",
       "      <td>13.14</td>\n",
       "      <td>11.40</td>\n",
       "      <td>326.13M</td>\n",
       "      <td>-2.52%</td>\n",
       "      <td>-2.52</td>\n",
       "    </tr>\n",
       "    <tr>\n",
       "      <th>1</th>\n",
       "      <td>02/01/2025</td>\n",
       "      <td>12.72</td>\n",
       "      <td>12.52</td>\n",
       "      <td>14.28</td>\n",
       "      <td>12.39</td>\n",
       "      <td>248.13M</td>\n",
       "      <td>-3.12%</td>\n",
       "      <td>-3.12</td>\n",
       "    </tr>\n",
       "    <tr>\n",
       "      <th>2</th>\n",
       "      <td>01/01/2025</td>\n",
       "      <td>13.13</td>\n",
       "      <td>12.96</td>\n",
       "      <td>13.71</td>\n",
       "      <td>12.22</td>\n",
       "      <td>182.67M</td>\n",
       "      <td>0.61%</td>\n",
       "      <td>0.61</td>\n",
       "    </tr>\n",
       "    <tr>\n",
       "      <th>3</th>\n",
       "      <td>12/01/2024</td>\n",
       "      <td>13.05</td>\n",
       "      <td>12.27</td>\n",
       "      <td>14.08</td>\n",
       "      <td>12.12</td>\n",
       "      <td>197.81M</td>\n",
       "      <td>-1.14%</td>\n",
       "      <td>-1.14</td>\n",
       "    </tr>\n",
       "    <tr>\n",
       "      <th>4</th>\n",
       "      <td>11/01/2024</td>\n",
       "      <td>13.20</td>\n",
       "      <td>13.77</td>\n",
       "      <td>14.23</td>\n",
       "      <td>12.57</td>\n",
       "      <td>169.47M</td>\n",
       "      <td>-3.08%</td>\n",
       "      <td>-3.08</td>\n",
       "    </tr>\n",
       "  </tbody>\n",
       "</table>\n",
       "</div>"
      ],
      "text/plain": [
       "         Date  Price   Open   High    Low     Vol. Change %  Change_Int\n",
       "0  03/01/2025  12.40  13.05  13.14  11.40  326.13M   -2.52%       -2.52\n",
       "1  02/01/2025  12.72  12.52  14.28  12.39  248.13M   -3.12%       -3.12\n",
       "2  01/01/2025  13.13  12.96  13.71  12.22  182.67M    0.61%        0.61\n",
       "3  12/01/2024  13.05  12.27  14.08  12.12  197.81M   -1.14%       -1.14\n",
       "4  11/01/2024  13.20  13.77  14.23  12.57  169.47M   -3.08%       -3.08"
      ]
     },
     "execution_count": 1,
     "metadata": {},
     "output_type": "execute_result"
    }
   ],
   "source": [
    "import pandas as pd\n",
    "\n",
    "walmart_df = pd.read_csv(r\"Dataset\\Stellantis NV Stock Price History.csv\")\n",
    "walmart_df['Change_Int'] = walmart_df['Change %'].str.replace('%', '').astype(float)\n",
    "walmart_df.head()"
   ]
  },
  {
   "cell_type": "code",
   "execution_count": 2,
   "metadata": {},
   "outputs": [
    {
     "data": {
      "image/png": "[encoded data removed]",
      "text/plain": [
       "<Figure size 640x480 with 1 Axes>"
      ]
     },
     "metadata": {},
     "output_type": "display_data"
    }
   ],
   "source": [
    "import matplotlib.pyplot as plt\n",
    "\n",
    "# Plot histogram for Change_Int\n",
    "plt.hist(walmart_df['Change_Int'], bins=20, edgecolor='black')\n",
    "plt.title('Histogram of Returns')\n",
    "plt.xlabel('Returns (%)')\n",
    "plt.ylabel('Occurrences')\n",
    "plt.grid(axis='y', linestyle='--', alpha=0.7)\n",
    "plt.show()"
   ]
  }
 ],
 "metadata": {
  "kernelspec": {
   "display_name": "Python 3",
   "language": "python",
   "name": "python3"
  },
  "language_info": {
   "codemirror_mode": {
    "name": "ipython",
    "version": 3
   },
   "file_extension": ".py",
   "mimetype": "text/x-python",
   "name": "python",
   "nbconvert_exporter": "python",
   "pygments_lexer": "ipython3",
   "version": "3.13.2"
  }
 },
 "nbformat": 4,
 "nbformat_minor": 2
}
