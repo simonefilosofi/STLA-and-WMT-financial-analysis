{
 "cells": [
  {
   "cell_type": "code",
   "execution_count": 1,
   "metadata": {},
   "outputs": [
    {
     "data": {
      "text/html": [
       "<div>\n",
       "<style scoped>\n",
       "    .dataframe tbody tr th:only-of-type {\n",
       "        vertical-align: middle;\n",
       "    }\n",
       "\n",
       "    .dataframe tbody tr th {\n",
       "        vertical-align: top;\n",
       "    }\n",
       "\n",
       "    .dataframe thead th {\n",
       "        text-align: right;\n",
       "    }\n",
       "</style>\n",
       "<table border=\"1\" class=\"dataframe\">\n",
       "  <thead>\n",
       "    <tr style=\"text-align: right;\">\n",
       "      <th></th>\n",
       "      <th>Date</th>\n",
       "      <th>Price</th>\n",
       "      <th>Open</th>\n",
       "      <th>High</th>\n",
       "      <th>Low</th>\n",
       "      <th>Vol.</th>\n",
       "      <th>Change %</th>\n",
       "      <th>Change_Int</th>\n",
       "    </tr>\n",
       "  </thead>\n",
       "  <tbody>\n",
       "    <tr>\n",
       "      <th>0</th>\n",
       "      <td>03/01/2025</td>\n",
       "      <td>84.76</td>\n",
       "      <td>97.98</td>\n",
       "      <td>99.49</td>\n",
       "      <td>83.87</td>\n",
       "      <td>440.75M</td>\n",
       "      <td>-14.05%</td>\n",
       "      <td>-14.05</td>\n",
       "    </tr>\n",
       "    <tr>\n",
       "      <th>1</th>\n",
       "      <td>02/01/2025</td>\n",
       "      <td>98.61</td>\n",
       "      <td>96.77</td>\n",
       "      <td>105.30</td>\n",
       "      <td>92.12</td>\n",
       "      <td>393.52M</td>\n",
       "      <td>0.46%</td>\n",
       "      <td>0.46</td>\n",
       "    </tr>\n",
       "    <tr>\n",
       "      <th>2</th>\n",
       "      <td>01/01/2025</td>\n",
       "      <td>98.16</td>\n",
       "      <td>89.98</td>\n",
       "      <td>99.00</td>\n",
       "      <td>89.52</td>\n",
       "      <td>301.85M</td>\n",
       "      <td>8.64%</td>\n",
       "      <td>8.64</td>\n",
       "    </tr>\n",
       "    <tr>\n",
       "      <th>3</th>\n",
       "      <td>12/01/2024</td>\n",
       "      <td>90.35</td>\n",
       "      <td>92.82</td>\n",
       "      <td>96.18</td>\n",
       "      <td>88.91</td>\n",
       "      <td>382.13M</td>\n",
       "      <td>-2.32%</td>\n",
       "      <td>-2.32</td>\n",
       "    </tr>\n",
       "    <tr>\n",
       "      <th>4</th>\n",
       "      <td>11/01/2024</td>\n",
       "      <td>92.50</td>\n",
       "      <td>82.53</td>\n",
       "      <td>92.64</td>\n",
       "      <td>81.54</td>\n",
       "      <td>340.43M</td>\n",
       "      <td>12.87%</td>\n",
       "      <td>12.87</td>\n",
       "    </tr>\n",
       "  </tbody>\n",
       "</table>\n",
       "</div>"
      ],
      "text/plain": [
       "         Date  Price   Open    High    Low     Vol. Change %  Change_Int\n",
       "0  03/01/2025  84.76  97.98   99.49  83.87  440.75M  -14.05%      -14.05\n",
       "1  02/01/2025  98.61  96.77  105.30  92.12  393.52M    0.46%        0.46\n",
       "2  01/01/2025  98.16  89.98   99.00  89.52  301.85M    8.64%        8.64\n",
       "3  12/01/2024  90.35  92.82   96.18  88.91  382.13M   -2.32%       -2.32\n",
       "4  11/01/2024  92.50  82.53   92.64  81.54  340.43M   12.87%       12.87"
      ]
     },
     "execution_count": 1,
     "metadata": {},
     "output_type": "execute_result"
    }
   ],
   "source": [
    "import pandas as pd\n",
    "\n",
    "walmart_df = pd.read_csv(r\"Dataset/Walmart Stock Price History.csv\")\n",
    "walmart_df['Change_Int'] = walmart_df['Change %'].str.replace('%', '').astype(float)\n",
    "walmart_df.head()"
   ]
  },
  {
   "cell_type": "code",
   "execution_count": 2,
   "metadata": {},
   "outputs": [
    {
     "data": {
      "image/png": "[encoded data removed]",
      "text/plain": [
       "<Figure size 640x480 with 1 Axes>"
      ]
     },
     "metadata": {},
     "output_type": "display_data"
    }
   ],
   "source": [
    "import matplotlib.pyplot as plt\n",
    "\n",
    "# Plot histogram for Change_Int\n",
    "plt.hist(walmart_df['Change_Int'], bins=20, edgecolor='black')\n",
    "plt.title('Histogram of Returns')\n",
    "plt.xlabel('Returns (%)')\n",
    "plt.ylabel('Occurrences')\n",
    "plt.grid(axis='y', linestyle='--', alpha=0.7)\n",
    "plt.show()"
   ]
  },
  {
   "cell_type": "code",
   "execution_count": 7,
   "metadata": {},
   "outputs": [],
   "source": [
    "import yfinance as yf\n",
    "\n",
    "# Get Walmart ticker\n",
    "wmt = yf.Ticker(\"WMT\")\n",
    "\n",
    "# Get dividend data for last 5 years\n",
    "dividends = wmt.dividends\n",
    "\n",
    "# Get data from 2019 onwards\n",
    "dividends_5y = dividends['2019':]\n",
    "\n",
    "walmart_dividends = dividends_5y.to_csv(\"Walmart_dividends.csv\")"
   ]
  }
 ],
 "metadata": {
  "kernelspec": {
   "display_name": ".venv",
   "language": "python",
   "name": "python3"
  },
  "language_info": {
   "codemirror_mode": {
    "name": "ipython",
    "version": 3
   },
   "file_extension": ".py",
   "mimetype": "text/x-python",
   "name": "python",
   "nbconvert_exporter": "python",
   "pygments_lexer": "ipython3",
   "version": "3.12.0"
  }
 },
 "nbformat": 4,
 "nbformat_minor": 2
}
