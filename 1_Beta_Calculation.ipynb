{
 "cells": [
  {
   "cell_type": "markdown",
   "metadata": {},
   "source": [
    "# Computing the betas"
   ]
  },
  {
   "cell_type": "markdown",
   "metadata": {},
   "source": [
    "In order to compute the beta for both Stellantis and Walmart we took S&P 500 as benchmark."
   ]
  },
  {
   "cell_type": "markdown",
   "metadata": {},
   "source": [
    "To compute the beta for each company over the past 5 years, we will:\n",
    "\n",
    "- Sort the data by date (in ascending order).\n",
    "\n",
    "- Convert prices to monthly returns.\n",
    "\n",
    "- Align returns by date across the 3 datasets.\n",
    "\n",
    "- Perform linear regression of company returns on S&P 500 returns to compute beta."
   ]
  },
  {
   "cell_type": "markdown",
   "metadata": {},
   "source": [
    "### **Run Linear Regressions**\n",
    "\n",
    "To estimate beta for each stock, we run an Ordinary Least Squares (OLS) regression of the stock's returns against the market returns (S&P 500). The regression equation is:\n",
    "\n",
    "$$ r_{stock} = \\alpha + \\Beta \\times r_{market} + \\epsilon $$\n",
    "\n",
    "\n",
    "Where:\n",
    "- $r_{stock}$ is the return of the stock (e.g., Walmart or Stellantis)  \n",
    "- $r_{market}$ is the return of the market (S&P 500)  \n",
    "- $\\beta$ represents the stock’s **systematic risk** (sensitivity to the market)  \n",
    "- $\\alpha$ is the intercept (often interpreted as abnormal return or \"alpha\")  \n",
    "- $\\epsilon$ is the error term  \n",
    "\n",
    "The **slope coefficient (β)** from this regression is the **beta of the stock**. It tells us how much the stock’s return changes in response to changes in the market return.\n",
    "\n"
   ]
  },
  {
   "cell_type": "markdown",
   "metadata": {},
   "source": []
  },
  {
   "cell_type": "code",
   "execution_count": 108,
   "metadata": {},
   "outputs": [],
   "source": [
    "# Import necessary libraries\n",
    "import pandas as pd\n",
    "import numpy as np\n",
    "from sklearn.linear_model import LinearRegression\n",
    "from matplotlib import pyplot as plt\n",
    "\n",
    "# Load the datasets\n",
    "walmart_df = pd.read_csv('Dataset/wmt_historical_data.csv')\n",
    "stellantis_df = pd.read_csv('Dataset/stla_historical_data.csv')\n",
    "sp500_df = pd.read_csv('Dataset/sp500_historical_data.csv')\n"
   ]
  },
  {
   "cell_type": "code",
   "execution_count": 109,
   "metadata": {},
   "outputs": [
    {
     "name": "stdout",
     "output_type": "stream",
     "text": [
      "Initial DataFrame shape: (60, 8)\n",
      "Initial DataFrame shape: (60, 8)\n",
      "Initial DataFrame shape: (60, 8)\n"
     ]
    }
   ],
   "source": [
    "def clean_dataframe(df):\n",
    "    \"\"\"\n",
    "    Cleans the input DataFrame by performing the following operations:\n",
    "    - Converts the 'Close' column to a float after removing commas.\n",
    "    - Converts the 'Date' column to datetime format.\n",
    "    - Sorts the DataFrame by the 'Date' column in ascending order.\n",
    "    - Calculates the percentage change in the 'Close' column and adds it as a new column named 'Return'.\n",
    "    \"\"\"\n",
    "\n",
    "    print(f\"Initial DataFrame shape: {df.shape}\")  \n",
    "    # Ensure 'Close' is treated as a string and handle missing values\n",
    "    df['Close'] = df['Close'].astype(str).str.replace(',', '', regex=False)\n",
    "    df['Close'] = pd.to_numeric(df['Close'], errors='coerce')  # Convert to float, coercing errors to NaN\n",
    "    df.dropna(subset=['Close'], inplace=True)  # Drop rows where 'Close' is NaN\n",
    "\n",
    "    # Process the 'Date' column\n",
    "    df['Date'] = pd.to_datetime(df['Date'].str[:-6], errors='coerce')  # Handle invalid dates\n",
    "    df.dropna(subset=['Date'], inplace=True)  # Drop rows where 'Date' is NaT\n",
    "\n",
    "    # Sort by date and calculate returns\n",
    "    df.sort_values('Date', inplace=True)\n",
    "    df['Return'] = df['Close'].pct_change()\n",
    "    return df\n",
    "\n",
    "walmart_df = clean_dataframe(walmart_df)\n",
    "stellantis_df = clean_dataframe(stellantis_df)\n",
    "sp500_df = clean_dataframe(sp500_df)"
   ]
  },
  {
   "cell_type": "code",
   "execution_count": 110,
   "metadata": {},
   "outputs": [
    {
     "name": "stdout",
     "output_type": "stream",
     "text": [
      "Walmart Beta: 0.6732082074521727\n",
      "Stellantis Beta: 1.5136297331477988\n"
     ]
    }
   ],
   "source": [
    "# Align the returns data by date\n",
    "returns_df = pd.merge(walmart_df[['Date', 'Return']], \n",
    "                      stellantis_df[['Date', 'Return']], \n",
    "                      on='Date', suffixes=('_Walmart', '_Stellantis'))\n",
    "returns_df = pd.merge(returns_df, \n",
    "                      sp500_df[['Date', 'Return']], \n",
    "                      on='Date')\n",
    "returns_df.rename(columns={'Return': 'Return_SP500'}, inplace=True)\n",
    "returns_df.dropna(inplace=True)\n",
    "\n",
    "X = returns_df[['Return_SP500']].values\n",
    "\n",
    "y_walmart = returns_df['Return_Walmart'].values\n",
    "beta_walmart = LinearRegression().fit(X, y_walmart).coef_[0]\n",
    "\n",
    "y_stellantis = returns_df['Return_Stellantis'].values\n",
    "beta_stellantis = LinearRegression().fit(X, y_stellantis).coef_[0]\n",
    "\n",
    "# Print the results\n",
    "print(\"Walmart Beta:\", beta_walmart)\n",
    "print(\"Stellantis Beta:\", beta_stellantis)\n",
    "\n",
    "# Store the results in a CSV file\n",
    "pd.DataFrame(\n",
    "    [[\"Company\", \"Beta\"], ['Walmart', beta_walmart],\n",
    "    ['Stellantis', beta_stellantis]]\n",
    ").to_csv('Outputs/beta_results.csv', header=False, index=False)\n"
   ]
  },
  {
   "cell_type": "markdown",
   "metadata": {},
   "source": [
    "## Risk Interpretation:\n",
    "### Walmart (β ≈ 0.72):\n",
    "\n",
    "- Less volatile than the market.\n",
    "\n",
    "- Considered a defensive stock. It tends to fluctuate less than the S&P 500.\n",
    "\n",
    "- Suitable for risk-averse investors.\n",
    "\n",
    "### Stellantis (β ≈ 1.42):\n",
    "\n",
    "- More volatile than the market.\n",
    "\n",
    "- Considered a cyclical stock. It tends to amplify market movements.\n",
    "\n",
    "- May offer higher returns, but also higher risk."
   ]
  },
  {
   "cell_type": "markdown",
   "metadata": {},
   "source": [
    "# Risk-return on different portfolios"
   ]
  },
  {
   "cell_type": "markdown",
   "metadata": {},
   "source": [
    "It is possible to analyze the risk-return profile of different portfolios by combining stocks with different betas. \n",
    "\n",
    "In partiulare, the average return of a portfolio composed by two stocks can be computed as:\n",
    "$$ E(R_p) = w_1 \\cdot E(R_1) + w_2 \\cdot E(R_2) $$\n",
    "\n",
    "Where:\n",
    "\n",
    "- $E(R_p)$ is the expected return of the portfolio\n",
    "- $w_1$ and $w_2$ are the weights of the two stocks in the portfolio (with $w_1 + w_2 = 1$)\n",
    "- $E(R_1)$ and $E(R_2)$ are the expected returns of the two stocks\n",
    "- $R_1$ and $R_2$ are the returns of the two stocks\n",
    "\n",
    "The risk (standard deviation) of the portfolio can be computed as:\n",
    "$$ \\sigma_p = \\sqrt{w_1^2 \\cdot \\sigma_1^2 + w_2^2 \\cdot \\sigma_2^2 + 2 \\cdot w_1 \\cdot w_2 \\cdot Cov(R_1, R_2)} $$\n",
    "\n",
    "Where:\n",
    "- $\\sigma_p$ is the standard deviation of the portfolio\n",
    "- $\\sigma_1$ and $\\sigma_2$ are the standard deviations of the two stocks\n",
    "- $Cov(R_1, R_2)$ is the covariance between the returns of the two stocks\n",
    "- $w_1$ and $w_2$ are the weights of the two stocks in the portfolio (with $w_1 + w_2 = 1$)\n"
   ]
  },
  {
   "cell_type": "code",
   "execution_count": 111,
   "metadata": {},
   "outputs": [
    {
     "name": "stdout",
     "output_type": "stream",
     "text": [
      "Average Return Walmart: 0.0172\n",
      "Average Return Stellantis: 0.0149\n",
      "Standard Deviation Walmart: 0.0584\n",
      "Standard Deviation Stellantis: 0.1211\n",
      "Covariance Matrix:\n",
      "[[0.00341275 0.00043487]\n",
      " [0.00043487 0.01467215]]\n"
     ]
    }
   ],
   "source": [
    "# Calculate the average returns of the two stocks\n",
    "avg_return_walmart = returns_df['Return_Walmart'].mean()\n",
    "avg_return_stellantis = returns_df['Return_Stellantis'].mean()\n",
    "# Calculate the standard deviation of returns of the two stocks\n",
    "std_walmart = returns_df['Return_Walmart'].std()\n",
    "std_stellantis = returns_df['Return_Stellantis'].std()\n",
    "# Calculate the covariance matrix of the returns of the two stocks\n",
    "cov_matrix = returns_df[['Return_Walmart', 'Return_Stellantis']].cov().values\n",
    "\n",
    "# Display the results\n",
    "print(f\"Average Return Walmart: {avg_return_walmart:.4f}\")\n",
    "print(f\"Average Return Stellantis: {avg_return_stellantis:.4f}\")\n",
    "print(f\"Standard Deviation Walmart: {std_walmart:.4f}\")\n",
    "print(f\"Standard Deviation Stellantis: {std_stellantis:.4f}\")\n",
    "print(f\"Covariance Matrix:\\n{cov_matrix}\")"
   ]
  },
  {
   "cell_type": "code",
   "execution_count": 112,
   "metadata": {},
   "outputs": [],
   "source": [
    "# Consider a range of portfolio weights for Walmart and Stellantis (in increments of 0.01).\n",
    "weights = np.linspace(0, 1, 101)\n",
    "portfolio_returns = [] # List to store portfolio returns\n",
    "portfolio_stds = [] # List to store portfolio standard deviations\n",
    "\n",
    "# Iterate through the weights to calculate portfolio returns and standard deviations\n",
    "for w in weights:\n",
    "    w_walmart = 1 - w # Weight for Walmart\n",
    "    w_stellantis = w # Weight for Stellantis\n",
    "    \n",
    "    port_return = w_walmart * avg_return_walmart + w_stellantis * avg_return_stellantis # Portfolio return\n",
    "    port_variance = (\n",
    "        w_walmart**2 * std_walmart**2 +\n",
    "        w_stellantis**2 * std_stellantis**2 +\n",
    "        2 * w_walmart * w_stellantis * cov_matrix[0, 1] # We take from the covariance matrix the covariance between the two stocks\n",
    "    )\n",
    "    port_std = np.sqrt(port_variance) # Portfolio standard deviation\n",
    "    \n",
    "    # Append the results to the lists\n",
    "    portfolio_returns.append(port_return)\n",
    "    portfolio_stds.append(port_std)\n",
    "\n",
    "\n",
    "\n"
   ]
  },
  {
   "cell_type": "code",
   "execution_count": 113,
   "metadata": {},
   "outputs": [
    {
     "data": {
      "image/png": "[encoded data removed]",
      "text/plain": [
       "<Figure size 1000x600 with 1 Axes>"
      ]
     },
     "metadata": {},
     "output_type": "display_data"
    }
   ],
   "source": [
    "# Display the results with a plot \n",
    "plt.figure(figsize=(10, 6))\n",
    "plt.plot(portfolio_stds, portfolio_returns, label='Portfolio Curve')\n",
    "plt.scatter(std_walmart, avg_return_walmart, color='red', label='Walmart', zorder=5)\n",
    "plt.scatter(std_stellantis, avg_return_stellantis, color='blue', label='Stellantis', zorder=5)\n",
    "plt.title('Risk-Return Profile: Walmart, Stellantis, and Portfolios')\n",
    "plt.xlabel('Standard Deviation (Risk)')\n",
    "plt.ylabel('Expected Return')\n",
    "plt.legend()\n",
    "plt.grid(True)\n",
    "plt.show()"
   ]
  },
  {
   "cell_type": "markdown",
   "metadata": {},
   "source": [
    "## S: the best efficient portfolio"
   ]
  },
  {
   "cell_type": "code",
   "execution_count": 114,
   "metadata": {},
   "outputs": [],
   "source": [
    "risk_free_rate = 0.0427/12  \n",
    "\n",
    "portfolio_returns = np.array(portfolio_returns)\n",
    "portfolio_stds = np.array(portfolio_stds)\n",
    "\n",
    "sharpe_ratios = (portfolio_returns - risk_free_rate) / portfolio_stds\n",
    "\n",
    "max_sharpe_idx = sharpe_ratios.argmax()\n",
    "optimal_risky_portfolio_return = portfolio_returns[max_sharpe_idx]\n",
    "optimal_risky_portfolio_std = portfolio_stds[max_sharpe_idx]\n",
    "\n",
    "cml_x = np.linspace(0, max(portfolio_stds), 100)\n",
    "cml_y = risk_free_rate + (optimal_risky_portfolio_return - risk_free_rate) / optimal_risky_portfolio_std * cml_x\n"
   ]
  },
  {
   "cell_type": "code",
   "execution_count": 115,
   "metadata": {},
   "outputs": [
    {
     "data": {
      "image/png": "[encoded data removed]",
      "text/plain": [
       "<Figure size 1000x600 with 1 Axes>"
      ]
     },
     "metadata": {},
     "output_type": "display_data"
    }
   ],
   "source": [
    "plt.figure(figsize=(10, 6))\n",
    "plt.plot(portfolio_stds, portfolio_returns, label='Efficient Frontier')\n",
    "plt.plot(cml_x, cml_y, label='Capital Market Line (CML)', linestyle='--', color='green')\n",
    "plt.scatter(std_walmart, avg_return_walmart, color='red', label='Walmart', zorder=5)\n",
    "plt.scatter(std_stellantis, avg_return_stellantis, color='blue', label='Stellantis', zorder=5)\n",
    "plt.scatter(optimal_risky_portfolio_std, optimal_risky_portfolio_return, color='purple', label='Optimal Risky Portfolio', zorder=5)\n",
    "plt.scatter(0, risk_free_rate, color='orange', label='Risk-Free Rate (4.27% per year)', zorder=5)\n",
    "plt.title('Risk-Return Profile with Capital Market Line')\n",
    "plt.xlabel('Standard Deviation (Risk)')\n",
    "plt.ylabel('Expected Return')\n",
    "plt.legend()\n",
    "plt.grid(True)\n",
    "plt.show()"
   ]
  },
  {
   "cell_type": "markdown",
   "metadata": {},
   "source": [
    "## But what are the specifics of S?"
   ]
  },
  {
   "cell_type": "markdown",
   "metadata": {},
   "source": [
    "Below we found again S but using the statistics that refer to annual returns and not monthly."
   ]
  },
  {
   "cell_type": "code",
   "execution_count": 116,
   "metadata": {},
   "outputs": [
    {
     "name": "stdout",
     "output_type": "stream",
     "text": [
      "Optimal Expected Return: 0.20300379894966228\n",
      "Optimal Standard Deviation: 0.18707300856430564\n",
      "Walmart Weight: 0.86\n",
      "Stellantis Weight: 0.14\n"
     ]
    }
   ],
   "source": [
    "annual_return_walmart = returns_df['Return_Walmart'].mean() * 12\n",
    "annual_return_stellantis = returns_df['Return_Stellantis'].mean() * 12\n",
    "annual_std_walmart = returns_df['Return_Walmart'].std() * np.sqrt(12)\n",
    "annual_std_stellantis = returns_df['Return_Stellantis'].std() * np.sqrt(12)\n",
    "\n",
    "cov_matrix_annual = returns_df[['Return_Walmart', 'Return_Stellantis']].cov() * 12\n",
    "\n",
    "weights = np.linspace(0, 1, 101)\n",
    "portfolio_returns = []\n",
    "portfolio_stds = []\n",
    "weight_combinations = []\n",
    "\n",
    "for w in weights:\n",
    "    w_walmart = w\n",
    "    w_stellantis = 1 - w\n",
    "    port_return = w_walmart * annual_return_walmart + w_stellantis * annual_return_stellantis\n",
    "    port_variance = (\n",
    "        w_walmart**2 * annual_std_walmart**2 +\n",
    "        w_stellantis**2 * annual_std_stellantis**2 +\n",
    "        2 * w_walmart * w_stellantis * cov_matrix_annual.iloc[0, 1]\n",
    "    )\n",
    "    port_std = np.sqrt(port_variance)\n",
    "\n",
    "    portfolio_returns.append(port_return)\n",
    "    portfolio_stds.append(port_std)\n",
    "    weight_combinations.append((w_walmart, w_stellantis))\n",
    "\n",
    "risk_free_rate = 0.0427\n",
    "\n",
    "sharpe_ratios = (np.array(portfolio_returns) - risk_free_rate) / np.array(portfolio_stds)\n",
    "max_sharpe_idx = sharpe_ratios.argmax()\n",
    "\n",
    "optimal_return = portfolio_returns[max_sharpe_idx]\n",
    "optimal_std = portfolio_stds[max_sharpe_idx]\n",
    "optimal_weights = weight_combinations[max_sharpe_idx]\n",
    "\n",
    "print(\"Optimal Expected Return:\", optimal_return)\n",
    "print(\"Optimal Standard Deviation:\", optimal_std)\n",
    "print(\"Walmart Weight:\", optimal_weights[0])\n",
    "print(\"Stellantis Weight:\", optimal_weights[1])\n"
   ]
  },
  {
   "cell_type": "code",
   "execution_count": 117,
   "metadata": {},
   "outputs": [],
   "source": [
    "w_share_price = 98.61\n",
    "w_number_of_shares_outstanding = 8024000000.0\n",
    "w_equity_value = w_share_price * w_number_of_shares_outstanding\n",
    "\n",
    "w_total_liab_net_minority_int = 163131000000.00\n",
    "w_Total_Debt= 60114000000.0\n",
    "w_Net_Debt = 30030000000.0\n",
    "w_interest_expense = -2728000000.0\n",
    "\n",
    "s_share_price = 13.05\n",
    "s_number_of_shares_outstanding = 2896073567.0\n",
    "s_equity_value = s_share_price * s_number_of_shares_outstanding\n",
    "\n",
    "s_Total_Debt= 37227000000.0\n",
    "s_Net_Debt = 571000000.0\n",
    "s_interest_expense = -1523000000.0"
   ]
  },
  {
   "cell_type": "markdown",
   "metadata": {},
   "source": [
    "Prova calcolo Re:"
   ]
  },
  {
   "cell_type": "code",
   "execution_count": 118,
   "metadata": {},
   "outputs": [
    {
     "name": "stdout",
     "output_type": "stream",
     "text": [
      "0.07107866963746257\n"
     ]
    }
   ],
   "source": [
    "Rf = 0.0424\n",
    "Rm = 0.085\n",
    "beta = beta_walmart\n",
    "Rpremium = Rm - Rf\n",
    "\n",
    "Re = Rf + beta * Rpremium\n",
    "print(Re)"
   ]
  },
  {
   "cell_type": "code",
   "execution_count": 119,
   "metadata": {},
   "outputs": [
    {
     "name": "stdout",
     "output_type": "stream",
     "text": [
      "Walmart WACC: 6.72%\n",
      "Stellantis WACC: 6.96%\n"
     ]
    }
   ],
   "source": [
    "walmart = {\n",
    "    'equity_value': w_equity_value,  \n",
    "    'debt_value': w_Net_Debt,    \n",
    "    'cost_of_equity': 0.0771,  \n",
    "    'cost_of_debt': w_interest_expense/w_Total_Debt,   \n",
    "    'tax_rate': 0.2209           \n",
    "}\n",
    "\n",
    "stellantis = {\n",
    "    'equity_value': s_equity_value,    \n",
    "    'debt_value': s_Net_Debt,\n",
    "    'cost_of_equity': 0.07,  \n",
    "    'cost_of_debt': s_interest_expense/s_Total_Debt,    \n",
    "    'tax_rate': 0.258           \n",
    "}\n",
    "\n",
    "def calculate_wacc(company):\n",
    "    E = company['equity_value']\n",
    "    D = company['debt_value']\n",
    "    V = E + D\n",
    "    #Re = company['cost_of_equity']\n",
    "    Rd = company['cost_of_debt']\n",
    "    Tc = company['tax_rate']\n",
    "    \n",
    "    wacc = ((E/V) * Re) + ((D/V) * Rd * (1 - Tc))\n",
    "    return wacc\n",
    "\n",
    "walmart_wacc = calculate_wacc(walmart)\n",
    "stellantis_wacc = calculate_wacc(stellantis)\n",
    "\n",
    "print(f\"Walmart WACC: {walmart_wacc:.2%}\")\n",
    "print(f\"Stellantis WACC: {stellantis_wacc:.2%}\")\n"
   ]
  },
  {
   "cell_type": "markdown",
   "metadata": {},
   "source": [
    "## Walmart by comparables\n",
    "https://www.macrotrends.net/stocks/charts/ROST/ross-stores/total-liabilities"
   ]
  },
  {
   "cell_type": "code",
   "execution_count": 120,
   "metadata": {},
   "outputs": [
    {
     "name": "stdout",
     "output_type": "stream",
     "text": [
      "walmart price to earning 40.71036427248405\n",
      "walmart price to book value 3.2364102505370522\n"
     ]
    }
   ],
   "source": [
    "walmart_fy_earnings = 19436000000\n",
    "walmart_eps = walmart_fy_earnings / w_number_of_shares_outstanding\n",
    "\n",
    "walmart_bv = (260823000000.0 - 16340200000.0) / w_number_of_shares_outstanding\n",
    "\n",
    "\n",
    "\n",
    "walmart_pe = w_share_price / walmart_eps \n",
    "walmart_pb = w_share_price / walmart_bv \n",
    "\n",
    "print(\"walmart price to earning\", walmart_pe) \n",
    "print(\"walmart price to book value\", walmart_pb) "
   ]
  },
  {
   "cell_type": "code",
   "execution_count": 121,
   "metadata": {},
   "outputs": [
    {
     "name": "stdout",
     "output_type": "stream",
     "text": [
      "Costco price to book: 16.40\n",
      "Costco price to earning: 55.68\n",
      "Target price to book: 4.66\n",
      "Target price to earning: 15.29\n",
      "Kroger price to book: 3.69\n",
      "Kroger price to earning: 20.79\n",
      "Ross price to earning: 23.75\n",
      "Ross price to book: 9.44\n",
      "Average price to book: 9.84\n",
      "Average price to earnings: 33.40\n"
     ]
    }
   ],
   "source": [
    "costco_stock_price = 923.65\n",
    "target_stock_price = 135.50\n",
    "kroger_co_stock_price = 61.53\n",
    "ross_stock_price = 150.07\n",
    "\n",
    "\n",
    "costco_eps = 16.59\n",
    "target_eps = 8.86\n",
    "kroger_eps = 2.96\n",
    "ross_eps = 6.32\n",
    "\n",
    "kroger_shares_outstanding = 696000000\n",
    "costco_shares_outstanding = 445000000\n",
    "target_shares_outstanding = 462000000\n",
    "ross_shares_outstanding = 331000000\n",
    "\n",
    "\n",
    "\n",
    "kroger_bv = (50505000000 - 38904000000) / kroger_shares_outstanding\n",
    "costco_bv = (68994000000 - 43936000000) / costco_shares_outstanding\n",
    "target_bv = (55356000000 - 41924000000) / target_shares_outstanding\n",
    "ross_bv = (14905000000 - 9642000000) / ross_shares_outstanding\n",
    "\n",
    "\n",
    "costco_pe = costco_stock_price/costco_eps\n",
    "target_pe = target_stock_price/target_eps\n",
    "kroger_pe = kroger_co_stock_price/kroger_eps\n",
    "ross_pe = ross_stock_price/ross_eps\n",
    "\n",
    "costco_pb = costco_stock_price/costco_bv\n",
    "target_pb = target_stock_price/target_bv\n",
    "kroger_pb = kroger_co_stock_price/kroger_bv\n",
    "ross_pb = ross_stock_price/ross_bv\n",
    "\n",
    "print(f\"Costco price to book: {costco_pb:.2f}\")\n",
    "print(f\"Costco price to earning: {costco_pe:.2f}\")\n",
    "print(f\"Target price to book: {target_pb:.2f}\")\n",
    "print(f\"Target price to earning: {target_pe:.2f}\")\n",
    "print(f\"Kroger price to book: {kroger_pb:.2f}\")\n",
    "print(f\"Kroger price to earning: {kroger_pe:.2f}\")\n",
    "print(f\"Ross price to earning: {ross_pe:.2f}\")\n",
    "print(f\"Ross price to book: {ross_pb:.2f}\")\n",
    "\n",
    "avg_pb = (costco_pb + ross_pb + kroger_pb ) / 3 # find best way not to fuckup  (probably add TJX)\n",
    "avg_pe = (costco_pe + ross_pe + kroger_pe ) / 3\n",
    "print(f\"Average price to book: {avg_pb:.2f}\")\n",
    "print(f\"Average price to earnings: {avg_pe:.2f}\")"
   ]
  },
  {
   "cell_type": "markdown",
   "metadata": {},
   "source": [
    "### DCF for Walmart"
   ]
  },
  {
   "cell_type": "code",
   "execution_count": null,
   "metadata": {},
   "outputs": [],
   "source": []
  },
  {
   "cell_type": "markdown",
   "metadata": {},
   "source": [
    "### Bond for Walmart\n"
   ]
  },
  {
   "cell_type": "markdown",
   "metadata": {},
   "source": [
    "### Stellantis By Comparables"
   ]
  },
  {
   "cell_type": "code",
   "execution_count": 122,
   "metadata": {},
   "outputs": [
    {
     "name": "stdout",
     "output_type": "stream",
     "text": [
      "\n",
      "--- Stellantis Ratios based on 2024 Data ---\n",
      "EPS (USD, 2024): 2.04\n",
      "P/E Ratio: 6.39\n",
      "P/B Ratio: 0.43\n"
     ]
    }
   ],
   "source": [
    "eur_to_usd_rate = 1.08\n",
    "\n",
    "\n",
    "s_number_of_shares_outstanding = 2896073567.0\n",
    "s_Total_Debt_eur = 37227000000.0              \n",
    "s_Net_Debt_eur = 571000000.0                   \n",
    "s_total_equity_eur = 81692000000.0             \n",
    "\n",
    "# Income Statement (2024-12-31 column)\n",
    "s_interest_expense_eur = 1523000000.0          \n",
    "s_tax_rate = 0.258                             \n",
    "s_net_income_eur = 5473000000.0   \n",
    "\n",
    "s_equity_value_usd = s_share_price * s_number_of_shares_outstanding \n",
    "\n",
    "\n",
    "s_Total_Debt_usd = s_Total_Debt_eur * eur_to_usd_rate\n",
    "s_Net_Debt_usd = s_Net_Debt_eur * eur_to_usd_rate\n",
    "\n",
    "\n",
    "\n",
    "\n",
    "\n",
    "s_net_income_usd_2024 = s_net_income_eur * eur_to_usd_rate\n",
    "s_total_equity_usd_2024 = s_total_equity_eur * eur_to_usd_rate\n",
    "\n",
    "\n",
    "s_eps_usd_2024 = s_net_income_usd_2024 / s_number_of_shares_outstanding\n",
    "s_bvps_usd_2024 = s_total_equity_usd_2024 / s_number_of_shares_outstanding\n",
    "\n",
    "\n",
    "stellantis_pe_updated = s_share_price / s_eps_usd_2024 if s_eps_usd_2024 != 0 else float('inf')\n",
    "stellantis_pb_updated = s_share_price / s_bvps_usd_2024 if s_bvps_usd_2024 != 0 else float('inf')\n",
    "\n",
    "print(f\"\\n--- Stellantis Ratios based on 2024 Data ---\")\n",
    "print(f\"EPS (USD, 2024): {s_eps_usd_2024:.2f}\")\n",
    "print(f\"P/E Ratio: {stellantis_pe_updated:.2f}\")\n",
    "print(f\"P/B Ratio: {stellantis_pb_updated:.2f}\")\n",
    "\n",
    "\n"
   ]
  },
  {
   "cell_type": "markdown",
   "metadata": {},
   "source": [
    "**sources yahoo finance,macrotrends**"
   ]
  },
  {
   "cell_type": "code",
   "execution_count": 125,
   "metadata": {},
   "outputs": [
    {
     "name": "stdout",
     "output_type": "stream",
     "text": [
      "General Motors (GM) P/E: 7.61\n",
      "General Motors (GM) P/B: 0.81\n",
      "Ford (F) P/E: 6.78\n",
      "Ford (F) P/B: 0.87\n",
      "Toyota (TM) P/E: 7.71\n",
      "Toyota (TM) P/B: 1.08\n",
      "\n",
      "Average Comparable P/E: 7.37\n",
      "Average Comparable P/B: 0.92\n"
     ]
    }
   ],
   "source": [
    "# General Motors (GM)\n",
    "gm_stock_price = 53.27\n",
    "gm_eps = 7.00\n",
    "gm_bvps = 65.59 \n",
    "\n",
    "# Ford (F)\n",
    "ford_stock_price = 9.90\n",
    "ford_eps = 1.46 \n",
    "ford_bvps = 11.32\n",
    "\n",
    "# Toyota (TM)\n",
    "toyota_stock_price = 194.61\n",
    "toyota_eps = 25.25 \n",
    "toyota_bvps = 180.46 \n",
    "\n",
    "\n",
    "gm_pe = gm_stock_price / gm_eps\n",
    "gm_pb = gm_stock_price / gm_bvps\n",
    "\n",
    "ford_pe = ford_stock_price / ford_eps\n",
    "ford_pb = ford_stock_price / ford_bvps\n",
    "\n",
    "toyota_pe = toyota_stock_price / toyota_eps\n",
    "toyota_pb = toyota_stock_price / toyota_bvps\n",
    "\n",
    "\n",
    "\n",
    "\n",
    "comp_pe_list = [gm_pe, ford_pe, toyota_pe]\n",
    "comp_pb_list = [gm_pb, ford_pb, toyota_pb]\n",
    "\n",
    "avg_comp_pe = sum(comp_pe_list) / len(comp_pe_list)\n",
    "avg_comp_pb = sum(comp_pb_list) / len(comp_pb_list)\n",
    "\n",
    "print(f\"\\nAverage Comparable P/E: {avg_comp_pe:.2f}\")\n",
    "print(f\"Average Comparable P/B: {avg_comp_pb:.2f}\")"
   ]
  }
 ],
 "metadata": {
  "kernelspec": {
   "display_name": "STLA-and_WMT-financial-analysis",
   "language": "python",
   "name": "stla-and_wmt-financial-analysis"
  },
  "language_info": {
   "codemirror_mode": {
    "name": "ipython",
    "version": 3
   },
   "file_extension": ".py",
   "mimetype": "text/x-python",
   "name": "python",
   "nbconvert_exporter": "python",
   "pygments_lexer": "ipython3",
   "version": "3.10.10"
  }
 },
 "nbformat": 4,
 "nbformat_minor": 2
}
