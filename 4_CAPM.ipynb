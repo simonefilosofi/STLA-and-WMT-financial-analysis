{
 "cells": [
  {
   "cell_type": "markdown",
   "metadata": {},
   "source": [
    "## Capital Asset Pricing Model (CAPM)\n",
    "\n",
    "The Capital Asset Pricing Model (CAPM) is a financial model that describes the relationship between the expected return of an asset and its risk, as measured by beta. The CAPM formula is given by:\n",
    "\n",
    "$$ E(R_i) = R_f + \\beta_i (E(R_m) - R_f) $$\n",
    "\n",
    "Where:\n",
    "- $E(R_i)$ is the expected return of the asset\n",
    "- $R_f$ is the risk-free rate\n",
    "- $\\beta_i$ is the beta of the asset, which measures its sensitivity to market movements\n",
    "- $E(R_m)$ is the expected return of the market\n",
    "- $E(R_m) - R_f$ is the market risk premium, which is the additional return expected from investing in the market over the risk-free rate\n",
    "\n"
   ]
  },
  {
   "cell_type": "code",
   "execution_count": 2,
   "metadata": {},
   "outputs": [
    {
     "name": "stdout",
     "output_type": "stream",
     "text": [
      "Beta for Walmart is: 0.6732082074521727\n",
      "Beta for Stellantis is: 1.5136297331477988\n",
      "\n",
      "CAPM Formula: E(Ri) = Rf + βi(E(Rm) - Rf)\n",
      "Risk-free rate (Rf): 0.0427\n",
      "Market risk premium (E(Rm) - Rf): 0.0550\n",
      "\n",
      "Walmart CAPM Calculation:\n",
      "E(Ri) = 0.0427 + 0.6732 × 0.0550\n",
      "E(Ri) = 0.0427 + 0.0370\n",
      "E(Ri) = 0.0797 or 7.97%\n",
      "\n",
      "Stellantis CAPM Calculation:\n",
      "E(Ri) = 0.0427 + 1.5136 × 0.0550\n",
      "E(Ri) = 0.0427 + 0.0832\n",
      "E(Ri) = 0.1259 or 12.59%\n"
     ]
    }
   ],
   "source": [
    "import pandas as pd\n",
    "# Define the parameters\n",
    "risk_free_rate = 0.0427  # 4.27%\n",
    "market_risk_premium = 0.055  # 5.5%\n",
    " \n",
    "# Beta values\n",
    "betaResults = pd.read_csv('Outputs\\\\beta_results.csv')\n",
    "walmart_beta = betaResults['Beta'][0]\n",
    "print(f\"Beta for Walmart is: {walmart_beta}\")\n",
    "stellantis_beta = betaResults['Beta'][1]\n",
    "print(f\"Beta for Stellantis is: {stellantis_beta}\")\n",
    "\n",
    "# Calculate expected returns using CAPM formula: E(Ri) = Rf + βi(E(Rm) - Rf)\n",
    "walmart_expected_return = risk_free_rate + walmart_beta * market_risk_premium\n",
    "stellantis_expected_return = risk_free_rate + stellantis_beta * market_risk_premium\n",
    "\n",
    "# Print the calculation steps\n",
    "print(\"\\nCAPM Formula: E(Ri) = Rf + βi(E(Rm) - Rf)\")\n",
    "print(f\"Risk-free rate (Rf): {risk_free_rate:.4f}\")\n",
    "print(f\"Market risk premium (E(Rm) - Rf): {market_risk_premium:.4f}\")\n",
    "print(\"\\nWalmart CAPM Calculation:\")\n",
    "print(f\"E(Ri) = {risk_free_rate:.4f} + {walmart_beta:.4f} × {market_risk_premium:.4f}\")\n",
    "print(f\"E(Ri) = {risk_free_rate:.4f} + {walmart_beta * market_risk_premium:.4f}\")\n",
    "print(f\"E(Ri) = {walmart_expected_return:.4f} or {walmart_expected_return * 100:.2f}%\")\n",
    "\n",
    "print(\"\\nStellantis CAPM Calculation:\")\n",
    "print(f\"E(Ri) = {risk_free_rate:.4f} + {stellantis_beta:.4f} × {market_risk_premium:.4f}\")\n",
    "print(f\"E(Ri) = {risk_free_rate:.4f} + {stellantis_beta * market_risk_premium:.4f}\")\n",
    "print(f\"E(Ri) = {stellantis_expected_return:.4f} or {stellantis_expected_return * 100:.2f}%\")\n",
    "\n",
    "# Save the results to a CSV file for portfolio analysis\n",
    "results = pd.DataFrame({\n",
    "    'Company': ['Walmart', 'Stellantis'],\n",
    "    'Expected Return': [walmart_expected_return, stellantis_expected_return]\n",
    "})\n",
    "\n",
    "results.to_csv('Outputs\\\\expected_returns.csv', index=False)\n",
    "\n"
   ]
  }
 ],
 "metadata": {
  "kernelspec": {
   "display_name": "Python 3",
   "language": "python",
   "name": "python3"
  },
  "language_info": {
   "codemirror_mode": {
    "name": "ipython",
    "version": 3
   },
   "file_extension": ".py",
   "mimetype": "text/x-python",
   "name": "python",
   "nbconvert_exporter": "python",
   "pygments_lexer": "ipython3",
   "version": "3.13.2"
  }
 },
 "nbformat": 4,
 "nbformat_minor": 2
}
