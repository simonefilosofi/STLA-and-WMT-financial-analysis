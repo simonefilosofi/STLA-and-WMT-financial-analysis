{
 "cells": [
  {
   "cell_type": "markdown",
   "metadata": {},
   "source": [
    "# Computing the betas"
   ]
  },
  {
   "cell_type": "markdown",
   "metadata": {},
   "source": [
    "In order to compute the beta for both Stellantis and Walmart we took S&P 500 as benchmark."
   ]
  },
  {
   "cell_type": "markdown",
   "metadata": {},
   "source": [
    "To compute the beta for each company over the past 5 years, we will:\n",
    "\n",
    "- Sort the data by date (in ascending order).\n",
    "\n",
    "- Convert prices to monthly returns.\n",
    "\n",
    "- Align returns by date across the 3 datasets.\n",
    "\n",
    "- Perform linear regression of company returns on S&P 500 returns to compute beta."
   ]
  },
  {
   "cell_type": "markdown",
   "metadata": {},
   "source": [
    "### **Run Linear Regressions**\n",
    "\n",
    "To estimate beta for each stock, we run an Ordinary Least Squares (OLS) regression of the stock's returns against the market returns (S&P 500). The regression equation is:\n",
    "\n",
    "$$ r_{stock} = \\alpha + \\Beta \\times r_{market} + \\epsilon $$\n",
    "\n",
    "\n",
    "Where:\n",
    "- $r_{stock}$ is the return of the stock (e.g., Walmart or Stellantis)  \n",
    "- $r_{market}$ is the return of the market (S&P 500)  \n",
    "- $\\beta$ represents the stock’s **systematic risk** (sensitivity to the market)  \n",
    "- $\\alpha$ is the intercept (often interpreted as abnormal return or \"alpha\")  \n",
    "- $\\epsilon$ is the error term  \n",
    "\n",
    "The **slope coefficient (β)** from this regression is the **beta of the stock**. It tells us how much the stock’s return changes in response to changes in the market return.\n",
    "\n"
   ]
  },
  {
   "cell_type": "code",
   "execution_count": 1,
   "metadata": {},
   "outputs": [],
   "source": [
    "# Import necessary libraries\n",
    "import pandas as pd\n",
    "import numpy as np\n",
    "from sklearn.linear_model import LinearRegression\n",
    "from matplotlib import pyplot as plt\n",
    "\n",
    "# Load the datasets\n",
    "walmart_df = pd.read_csv('Dataset/wmt_historical_data.csv')\n",
    "stellantis_df = pd.read_csv('Dataset/stla_historical_data.csv')\n",
    "sp500_df = pd.read_csv('Dataset/sp500_historical_data.csv')\n"
   ]
  },
  {
   "cell_type": "code",
   "execution_count": 2,
   "metadata": {},
   "outputs": [
    {
     "name": "stdout",
     "output_type": "stream",
     "text": [
      "Initial DataFrame shape: (60, 8)\n",
      "Initial DataFrame shape: (60, 8)\n",
      "Initial DataFrame shape: (60, 8)\n",
      "\n",
      "DataFrames cleaned for Beta calculation (Date is a column).\n"
     ]
    }
   ],
   "source": [
    "\n",
    "def clean_dataframe_for_beta(df):\n",
    "    \"\"\"\n",
    "    Cleans the input DataFrame for Beta calculation.\n",
    "    - Converts 'Close' to numeric, 'Date' to datetime.\n",
    "    - Sorts by date.\n",
    "    - Calculates monthly 'Return'.\n",
    "    - KEEPS 'Date' as a column.\n",
    "    \"\"\"\n",
    "    print(f\"Initial DataFrame shape: {df.shape}\")\n",
    "    df['Close'] = df['Close'].astype(str).str.replace(',', '', regex=False)\n",
    "    df['Close'] = pd.to_numeric(df['Close'], errors='coerce')\n",
    "    df.dropna(subset=['Close'], inplace=True)\n",
    "\n",
    "    df['Date'] = pd.to_datetime(df['Date'].str[:-6], errors='coerce')\n",
    "    df.dropna(subset=['Date'], inplace=True)\n",
    "\n",
    "    df.sort_values('Date', inplace=True)\n",
    "    df['Return'] = df['Close'].pct_change()\n",
    "    # DO NOT set index here\n",
    "    return df\n",
    "\n",
    "# Run the revised cleaning\n",
    "walmart_df_beta = clean_dataframe_for_beta(walmart_df.copy()) \n",
    "stellantis_df_beta = clean_dataframe_for_beta(stellantis_df.copy())\n",
    "sp500_df_beta = clean_dataframe_for_beta(sp500_df.copy())\n",
    "\n",
    "print(\"\\nDataFrames cleaned for Beta calculation (Date is a column).\")\n",
    "\n",
    "# CELL 128 (Keep as is - It will now work)\n",
    "# Align the returns data by date using the _beta dataframes\n"
   ]
  },
  {
   "cell_type": "code",
   "execution_count": 3,
   "metadata": {},
   "outputs": [
    {
     "name": "stdout",
     "output_type": "stream",
     "text": [
      "\n",
      "--- Beta Calculation Results ---\n",
      "Walmart Beta: 0.6732082074521727\n",
      "Stellantis Beta: 1.5136297331477988\n"
     ]
    }
   ],
   "source": [
    "returns_df = pd.merge(walmart_df_beta[['Date', 'Return']],\n",
    "                      stellantis_df_beta[['Date', 'Return']],\n",
    "                      on='Date', suffixes=('_Walmart', '_Stellantis'))\n",
    "returns_df = pd.merge(returns_df,\n",
    "                      sp500_df_beta[['Date', 'Return']],\n",
    "                      on='Date')\n",
    "returns_df.rename(columns={'Return': 'Return_SP500'}, inplace=True)\n",
    "returns_df.dropna(inplace=True)\n",
    "\n",
    "X = returns_df[['Return_SP500']].values\n",
    "\n",
    "y_walmart = returns_df['Return_Walmart'].values\n",
    "beta_walmart = LinearRegression().fit(X, y_walmart).coef_[0]\n",
    "\n",
    "y_stellantis = returns_df['Return_Stellantis'].values\n",
    "beta_stellantis = LinearRegression().fit(X, y_stellantis).coef_[0]\n",
    "\n",
    "# Print the results\n",
    "print(\"\\n--- Beta Calculation Results ---\")\n",
    "print(\"Walmart Beta:\", beta_walmart)\n",
    "print(\"Stellantis Beta:\", beta_stellantis)\n"
   ]
  },
  {
   "cell_type": "markdown",
   "metadata": {},
   "source": [
    "## Risk Interpretation:\n",
    "### Walmart (β ≈ 0.72):\n",
    "\n",
    "- Less volatile than the market.\n",
    "\n",
    "- Considered a defensive stock. It tends to fluctuate less than the S&P 500.\n",
    "\n",
    "- Suitable for risk-averse investors.\n",
    "\n",
    "### Stellantis (β ≈ 1.42):\n",
    "\n",
    "- More volatile than the market.\n",
    "\n",
    "- Considered a cyclical stock. It tends to amplify market movements.\n",
    "\n",
    "- May offer higher returns, but also higher risk."
   ]
  },
  {
   "cell_type": "markdown",
   "metadata": {},
   "source": [
    "# Risk-return on different portfolios"
   ]
  },
  {
   "cell_type": "markdown",
   "metadata": {},
   "source": [
    "It is possible to analyze the risk-return profile of different portfolios by combining stocks with different betas. \n",
    "\n",
    "In partiulare, the average return of a portfolio composed by two stocks can be computed as:\n",
    "$$ E(R_p) = w_1 \\cdot E(R_1) + w_2 \\cdot E(R_2) $$\n",
    "\n",
    "Where:\n",
    "\n",
    "- $E(R_p)$ is the expected return of the portfolio\n",
    "- $w_1$ and $w_2$ are the weights of the two stocks in the portfolio (with $w_1 + w_2 = 1$)\n",
    "- $E(R_1)$ and $E(R_2)$ are the expected returns of the two stocks\n",
    "- $R_1$ and $R_2$ are the returns of the two stocks\n",
    "\n",
    "The risk (standard deviation) of the portfolio can be computed as:\n",
    "$$ \\sigma_p = \\sqrt{w_1^2 \\cdot \\sigma_1^2 + w_2^2 \\cdot \\sigma_2^2 + 2 \\cdot w_1 \\cdot w_2 \\cdot Cov(R_1, R_2)} $$\n",
    "\n",
    "Where:\n",
    "- $\\sigma_p$ is the standard deviation of the portfolio\n",
    "- $\\sigma_1$ and $\\sigma_2$ are the standard deviations of the two stocks\n",
    "- $Cov(R_1, R_2)$ is the covariance between the returns of the two stocks\n",
    "- $w_1$ and $w_2$ are the weights of the two stocks in the portfolio (with $w_1 + w_2 = 1$)\n"
   ]
  },
  {
   "cell_type": "code",
   "execution_count": 4,
   "metadata": {},
   "outputs": [
    {
     "name": "stdout",
     "output_type": "stream",
     "text": [
      "Average Return Walmart: 0.0172\n",
      "Average Return Stellantis: 0.0149\n",
      "Standard Deviation Walmart: 0.0584\n",
      "Standard Deviation Stellantis: 0.1211\n",
      "Covariance Matrix:\n",
      "[[0.00341275 0.00043487]\n",
      " [0.00043487 0.01467215]]\n"
     ]
    }
   ],
   "source": [
    "# Calculate the average returns of the two stocks\n",
    "avg_return_walmart = returns_df['Return_Walmart'].mean()\n",
    "avg_return_stellantis = returns_df['Return_Stellantis'].mean()\n",
    "# Calculate the standard deviation of returns of the two stocks\n",
    "std_walmart = returns_df['Return_Walmart'].std()\n",
    "std_stellantis = returns_df['Return_Stellantis'].std()\n",
    "# Calculate the covariance matrix of the returns of the two stocks\n",
    "cov_matrix = returns_df[['Return_Walmart', 'Return_Stellantis']].cov().values\n",
    "\n",
    "# Display the results\n",
    "print(f\"Average Return Walmart: {avg_return_walmart:.4f}\")\n",
    "print(f\"Average Return Stellantis: {avg_return_stellantis:.4f}\")\n",
    "print(f\"Standard Deviation Walmart: {std_walmart:.4f}\")\n",
    "print(f\"Standard Deviation Stellantis: {std_stellantis:.4f}\")\n",
    "print(f\"Covariance Matrix:\\n{cov_matrix}\")"
   ]
  },
  {
   "cell_type": "code",
   "execution_count": 5,
   "metadata": {},
   "outputs": [],
   "source": [
    "# Consider a range of portfolio weights for Walmart and Stellantis (in increments of 0.01).\n",
    "weights = np.linspace(0, 1, 101)\n",
    "portfolio_returns = [] # List to store portfolio returns\n",
    "portfolio_stds = [] # List to store portfolio standard deviations\n",
    "\n",
    "# Iterate through the weights to calculate portfolio returns and standard deviations\n",
    "for w in weights:\n",
    "    w_walmart = 1 - w # Weight for Walmart\n",
    "    w_stellantis = w # Weight for Stellantis\n",
    "    \n",
    "    port_return = (w_walmart * avg_return_walmart + w_stellantis * avg_return_stellantis) * 100 # Portfolio return\n",
    "    port_variance = (\n",
    "        w_walmart**2 * std_walmart**2 +\n",
    "        w_stellantis**2 * std_stellantis**2 +\n",
    "        2 * w_walmart * w_stellantis * cov_matrix[0, 1] # We take from the covariance matrix the covariance between the two stocks\n",
    "    )\n",
    "    port_std = np.sqrt(port_variance) # Portfolio standard deviation\n",
    "    \n",
    "    # Append the results to the lists\n",
    "    portfolio_returns.append(port_return)\n",
    "    portfolio_stds.append(port_std)\n",
    "\n",
    "\n",
    "\n"
   ]
  },
  {
   "cell_type": "code",
   "execution_count": 6,
   "metadata": {},
   "outputs": [
    {
     "data": {
      "image/png": "[encoded data removed]",
      "text/plain": [
       "<Figure size 1000x600 with 1 Axes>"
      ]
     },
     "metadata": {},
     "output_type": "display_data"
    }
   ],
   "source": [
    "# Display the results with a plot \n",
    "plt.figure(figsize=(10, 6))\n",
    "plt.plot(portfolio_stds, portfolio_returns, label='Portfolio Curve')\n",
    "plt.scatter(std_walmart, avg_return_walmart*100, color='red', label='Walmart', zorder=5)\n",
    "plt.scatter(std_stellantis, avg_return_stellantis*100, color='blue', label='Stellantis', zorder=5)\n",
    "plt.title('Risk-Return Profile: Walmart, Stellantis, and Portfolios')\n",
    "plt.xlabel('Standard Deviation (Risk)')\n",
    "plt.ylabel('Expected Return (%)')\n",
    "plt.legend()\n",
    "plt.grid(True)\n",
    "plt.show()"
   ]
  },
  {
   "cell_type": "markdown",
   "metadata": {},
   "source": [
    "## S: the best efficient portfolio"
   ]
  },
  {
   "cell_type": "code",
   "execution_count": 8,
   "metadata": {},
   "outputs": [],
   "source": [
    "# Define the risk-free rate (monthly) for Sharpe Ratio calculation\n",
    "risk_free_rate = 0.0427/12  \n",
    "\n",
    "# Calculate the Sharpe Ratio for each portfolio combination by subtracting the risk-free rate from the portfolio returns and dividing by the portfolio standard deviations\n",
    "portfolio_returns = np.array(portfolio_returns)\n",
    "portfolio_stds = np.array(portfolio_stds)\n",
    "\n",
    "sharpe_ratios = (portfolio_returns - risk_free_rate) / portfolio_stds\n",
    "\n",
    "# Find the index of the portfolio with the maximum Sharpe Ratio\n",
    "max_sharpe_idx = sharpe_ratios.argmax()\n",
    "optimal_risky_portfolio_return = portfolio_returns[max_sharpe_idx]\n",
    "optimal_risky_portfolio_std = portfolio_stds[max_sharpe_idx]\n",
    "\n",
    "cml_x = np.linspace(0, max(portfolio_stds), 100)\n",
    "cml_y = risk_free_rate + (optimal_risky_portfolio_return - risk_free_rate) / optimal_risky_portfolio_std * cml_x\n"
   ]
  },
  {
   "cell_type": "code",
   "execution_count": 9,
   "metadata": {},
   "outputs": [
    {
     "data": {
      "image/png": "[encoded data removed]",
      "text/plain": [
       "<Figure size 1000x600 with 1 Axes>"
      ]
     },
     "metadata": {},
     "output_type": "display_data"
    }
   ],
   "source": [
    "# Plot the efficient frontier and the Capital Market Line (CML)\n",
    "\n",
    "plt.figure(figsize=(10, 6))\n",
    "plt.plot(portfolio_stds, portfolio_returns, label='Efficient Frontier')\n",
    "plt.plot(cml_x, cml_y, label='Capital Market Line (CML)', linestyle='--', color='green')\n",
    "plt.scatter(std_walmart, avg_return_walmart, color='red', label='Walmart', zorder=5)\n",
    "plt.scatter(std_stellantis, avg_return_stellantis, color='blue', label='Stellantis', zorder=5)\n",
    "plt.scatter(optimal_risky_portfolio_std, optimal_risky_portfolio_return, color='purple', label='Optimal Risky Portfolio', zorder=5)\n",
    "plt.scatter(0, risk_free_rate, color='orange', label='Risk-Free Rate (4.27% per year)', zorder=5)\n",
    "plt.title('Risk-Return Profile with Capital Market Line')\n",
    "plt.xlabel('Standard Deviation (Risk)')\n",
    "plt.ylabel('Expected Return')\n",
    "plt.legend()\n",
    "plt.grid(True)\n",
    "plt.show()"
   ]
  },
  {
   "cell_type": "markdown",
   "metadata": {},
   "source": [
    "## But what are the specifics of S?"
   ]
  },
  {
   "cell_type": "markdown",
   "metadata": {},
   "source": [
    "Below we found again S but using the statistics that refer to annual returns and not monthly."
   ]
  },
  {
   "cell_type": "code",
   "execution_count": 10,
   "metadata": {},
   "outputs": [
    {
     "name": "stdout",
     "output_type": "stream",
     "text": [
      "Optimal Expected Return: 0.20300379894966228\n",
      "Optimal Standard Deviation: 0.18707300856430564\n",
      "Walmart Weight: 0.86\n",
      "Stellantis Weight: 0.14\n"
     ]
    }
   ],
   "source": [
    "annual_return_walmart = returns_df['Return_Walmart'].mean() * 12\n",
    "annual_return_stellantis = returns_df['Return_Stellantis'].mean() * 12\n",
    "annual_std_walmart = returns_df['Return_Walmart'].std() * np.sqrt(12)\n",
    "annual_std_stellantis = returns_df['Return_Stellantis'].std() * np.sqrt(12)\n",
    "\n",
    "cov_matrix_annual = returns_df[['Return_Walmart', 'Return_Stellantis']].cov() * 12\n",
    "\n",
    "weights = np.linspace(0, 1, 101)\n",
    "portfolio_returns = []\n",
    "portfolio_stds = []\n",
    "weight_combinations = []\n",
    "\n",
    "for w in weights:\n",
    "    w_walmart = w\n",
    "    w_stellantis = 1 - w\n",
    "    port_return = w_walmart * annual_return_walmart + w_stellantis * annual_return_stellantis\n",
    "    port_variance = (\n",
    "        w_walmart**2 * annual_std_walmart**2 +\n",
    "        w_stellantis**2 * annual_std_stellantis**2 +\n",
    "        2 * w_walmart * w_stellantis * cov_matrix_annual.iloc[0, 1]\n",
    "    )\n",
    "    port_std = np.sqrt(port_variance)\n",
    "\n",
    "    portfolio_returns.append(port_return)\n",
    "    portfolio_stds.append(port_std)\n",
    "    weight_combinations.append((w_walmart, w_stellantis))\n",
    "\n",
    "risk_free_rate = 0.0427\n",
    "\n",
    "sharpe_ratios = (np.array(portfolio_returns) - risk_free_rate) / np.array(portfolio_stds)\n",
    "max_sharpe_idx = sharpe_ratios.argmax()\n",
    "\n",
    "optimal_return = portfolio_returns[max_sharpe_idx]\n",
    "optimal_std = portfolio_stds[max_sharpe_idx]\n",
    "optimal_weights = weight_combinations[max_sharpe_idx]\n",
    "\n",
    "print(\"Optimal Expected Return:\", optimal_return)\n",
    "print(\"Optimal Standard Deviation:\", optimal_std)\n",
    "print(\"Walmart Weight:\", optimal_weights[0])\n",
    "print(\"Stellantis Weight:\", optimal_weights[1])\n"
   ]
  },
  {
   "cell_type": "code",
   "execution_count": 19,
   "metadata": {},
   "outputs": [
    {
     "name": "stdout",
     "output_type": "stream",
     "text": [
      "\n",
      "DataFrames prepared with DatetimeIndex for DDM calculations.\n"
     ]
    }
   ],
   "source": [
    "def clean_dataframe_for_ddm(df):\n",
    "    \"\"\" Cleans df and sets Date index for DDM \"\"\"\n",
    "    df_copy = df.copy() # Work on a copy\n",
    "    df_copy['Close'] = df_copy['Close'].astype(str).str.replace(',', '', regex=False)\n",
    "    df_copy['Close'] = pd.to_numeric(df_copy['Close'], errors='coerce')\n",
    "    df_copy.dropna(subset=['Close'], inplace=True)\n",
    "    df_copy['Date'] = pd.to_datetime(df_copy['Date'].str[:-6], errors='coerce')\n",
    "    df_copy.dropna(subset=['Date'], inplace=True)\n",
    "    df_copy.sort_values('Date', inplace=True)\n",
    "    # Set index for DDM\n",
    "    df_copy.set_index('Date', inplace=True)\n",
    "    # Ensure 'Dividends' column exists and is numeric\n",
    "    if 'Dividends' in df_copy.columns:\n",
    "         df_copy['Dividends'] = pd.to_numeric(df_copy['Dividends'], errors='coerce').fillna(0)\n",
    "    else:\n",
    "         print(\"Warning: Dividends column missing\")\n",
    "         df_copy['Dividends'] = 0\n",
    "    return df_copy\n",
    "\n",
    "# Re-load original dfs or ensure they are still available\n",
    "# Assuming walmart_df and stellantis_df still hold the original loaded data:\n",
    "walmart_df_ddm = clean_dataframe_for_ddm(walmart_df)\n",
    "stellantis_df_ddm = clean_dataframe_for_ddm(stellantis_df)\n",
    "\n",
    "print(\"\\nDataFrames prepared with DatetimeIndex for DDM calculations.\")"
   ]
  },
  {
   "cell_type": "code",
   "execution_count": 20,
   "metadata": {},
   "outputs": [
    {
     "name": "stdout",
     "output_type": "stream",
     "text": [
      "--- Walmart Average Dividend Growth Rate ---\n",
      "Average Growth Rate: 5.58%\n",
      "--- Stellantis Average Dividend Growth Rate ---\n",
      "Average Growth Rate: 74.35%\n",
      "To see again\n"
     ]
    }
   ],
   "source": [
    "# Calculate the dividends for Walmart\n",
    "\n",
    "# Filter out non-positive dividends and drop duplicates\n",
    "walmart_dividends = walmart_df_ddm.loc[walmart_df_ddm['Dividends'] > 0, 'Dividends']\n",
    "walmart_dividends = walmart_dividends.drop_duplicates()\n",
    "\n",
    "# Annualize\n",
    "walmart_dividends = walmart_dividends * 4\n",
    "\n",
    "# Compute percentage change\n",
    "walmart_dividends_pct_change = walmart_dividends.pct_change() * 100\n",
    "\n",
    "# Store the results in a DataFrame for better visualization\n",
    "walmart_dividends_df = pd.DataFrame({\n",
    "    \"Dividends\": walmart_dividends,\n",
    "    \"pct_change\": walmart_dividends_pct_change\n",
    "})\n",
    "\n",
    "# Compute average growth rate\n",
    "avg_growth_rate = walmart_dividends_pct_change.mean()\n",
    "print(f\"--- Walmart Average Dividend Growth Rate ---\")\n",
    "print(f\"Average Growth Rate: {avg_growth_rate:.2f}%\")\n",
    "\n",
    "\n",
    "# Calculate the dividends for Stellantis\n",
    "\n",
    "# Filter out non-positive dividends and drop duplicates\n",
    "stellantis_dividends = stellantis_df_ddm.loc[stellantis_df_ddm['Dividends'] > 0, 'Dividends']\n",
    "stellantis_dividends = stellantis_dividends.drop_duplicates()\n",
    "\n",
    "# Annualize\n",
    "stellantis_dividends = stellantis_dividends * 4\n",
    "\n",
    "# Compute percentage change\n",
    "stellantis_dividends_pct_change = stellantis_dividends.pct_change() * 100\n",
    "\n",
    "# Store the results in a DataFrame for better visualization\n",
    "stellantis_dividends_df = pd.DataFrame({\n",
    "    \"Dividends\": stellantis_dividends,\n",
    "    \"pct_change\": stellantis_dividends_pct_change\n",
    "})\n",
    "\n",
    "# Compute average growth rate\n",
    "avg_growth_rate_stellantis = stellantis_dividends_pct_change.mean()\n",
    "print(f\"--- Stellantis Average Dividend Growth Rate ---\")\n",
    "print(f\"Average Growth Rate: {avg_growth_rate_stellantis:.2f}%\")\n",
    "print(\"To see again\")\n",
    "\n"
   ]
  },
  {
   "cell_type": "code",
   "execution_count": 21,
   "metadata": {},
   "outputs": [
    {
     "name": "stdout",
     "output_type": "stream",
     "text": [
      "\n",
      "--- DDM Calculation for Walmart (Approximate - Gordon Growth) ---\n",
      "Using Annual Dividend (D0): $0.940\n",
      "Cost of Equity (Re):        7.11%\n",
      "Assumed Constant Div Growth (g): 5.5%\n",
      "----------------------------------------\n",
      "Expected Next Dividend (D1): $0.992\n",
      "Intrinsic Value per Share:   $61.68\n",
      "Current Market Price:        $98.61\n",
      "--> DDM suggests stock may be OVERVALUED (using approximate assumptions)\n",
      "\n",
      "DDM Commentary for Walmart:\n",
      "The calculated DDM value ($61.68) is significantly lower than the market price ($98.61).\n",
      "This is primarily driven by the low assumed constant growth rate (g = {g_ddm_wmt:.1%}).\n",
      "A higher, potentially more realistic long-term growth rate (e.g., g = 4.0%) would yield a value of $31.46, still below market.\n",
      "This suggests the simple Gordon Growth DDM may not fully capture market expectations or other value drivers for Walmart, or the market applies a lower discount rate/higher growth.\n",
      "Consider comparing with DCF and Comparables, or using a multi-stage DDM.\n"
     ]
    }
   ],
   "source": [
    "# CELL: Code - Walmart DDM Calculation (Revised with Commentary)\n",
    "\n",
    "# --- Inputs & Assumptions for Walmart DDM ---\n",
    "\n",
    "# 1. Calculate D0 (Last Annual Dividend per Share)\n",
    "try:\n",
    "    # ... (Keep the D0 calculation logic as before) ...\n",
    "    last_date_wmt = walmart_df_ddm.index.max()\n",
    "    start_date_wmt = last_date_wmt - pd.DateOffset(months=11)\n",
    "    wmt_dividends_last_year = walmart_df_ddm.loc[start_date_wmt:last_date_wmt, 'Dividends'].sum()\n",
    "    wmt_last_quarterly_dividend = walmart_df_ddm['Dividends'].iloc[-1] if walmart_df_ddm['Dividends'].iloc[-1] > 0 else 0.235\n",
    "    wmt_D0_alternative = wmt_last_quarterly_dividend * 4\n",
    "    # print(f\"(Info: D0 based on last 12m sum: {wmt_dividends_last_year:.3f}, D0 based on quarterly*4: {wmt_D0_alternative:.3f})\")\n",
    "    wmt_D0 = wmt_D0_alternative # Using quarterly based\n",
    "except Exception as e:\n",
    "    print(f\"Error calculating Walmart D0: {e}\")\n",
    "    wmt_D0 = 0\n",
    "\n",
    "# 2. Cost of Equity (Re) - Use the CAPM calculated value\n",
    "try:\n",
    "    Re_ddm_wmt = Re_walmart\n",
    "except NameError:\n",
    "    print(\"Warning: Re_walmart not found from CAPM calculation. Using placeholder 0.0711\")\n",
    "    Re_ddm_wmt = 0.0711\n",
    "\n",
    "# 3. Dividend Growth Rate (g) - Placeholder Assumption\n",
    "g_ddm_wmt = 0.055 # Approximate: Assume 3.5% constant dividend growth\n",
    "\n",
    "print(f\"\\n--- DDM Calculation for Walmart (Approximate - Gordon Growth) ---\")\n",
    "print(f\"Using Annual Dividend (D0): ${wmt_D0:.3f}\")\n",
    "print(f\"Cost of Equity (Re):        {Re_ddm_wmt:.2%}\")\n",
    "print(f\"Assumed Constant Div Growth (g): {g_ddm_wmt:.1%}\")\n",
    "print(\"-\" * 40)\n",
    "\n",
    "# --- Perform DDM Calculation ---\n",
    "intrinsic_value_ps_ddm_wmt = float('nan') # Initialize\n",
    "if wmt_D0 <= 0:\n",
    "    print(\"Cannot calculate DDM because D0 is zero or negative.\")\n",
    "elif g_ddm_wmt >= Re_ddm_wmt:\n",
    "    print(\"Error: Dividend growth rate (g) cannot be >= Cost of Equity (Re) for Gordon Growth Model.\")\n",
    "else:\n",
    "    wmt_D1 = wmt_D0 * (1 + g_ddm_wmt)\n",
    "    print(f\"Expected Next Dividend (D1): ${wmt_D1:.3f}\")\n",
    "    intrinsic_value_ps_ddm_wmt = wmt_D1 / (Re_ddm_wmt - g_ddm_wmt)\n",
    "    print(f\"Intrinsic Value per Share:   ${intrinsic_value_ps_ddm_wmt:.2f}\")\n",
    "    print(f\"Current Market Price:        ${w_share_price:.2f}\")\n",
    "\n",
    "    if intrinsic_value_ps_ddm_wmt > w_share_price:\n",
    "        print(\"--> DDM suggests stock may be UNDERVALUED (using approximate assumptions)\")\n",
    "    elif intrinsic_value_ps_ddm_wmt < w_share_price:\n",
    "         print(\"--> DDM suggests stock may be OVERVALUED (using approximate assumptions)\")\n",
    "    else:\n",
    "         print(\"--> DDM suggests stock may be FAIRLY VALUED (using approximate assumptions)\")\n",
    "\n",
    "# --- Commentary on Walmart DDM Result ---\n",
    "print(\"\\nDDM Commentary for Walmart:\")\n",
    "if not np.isnan(intrinsic_value_ps_ddm_wmt) and intrinsic_value_ps_ddm_wmt < w_share_price:\n",
    "    print(f\"The calculated DDM value (${intrinsic_value_ps_ddm_wmt:.2f}) is significantly lower than the market price (${w_share_price:.2f}).\")\n",
    "    print(\"This is primarily driven by the low assumed constant growth rate (g = {g_ddm_wmt:.1%}).\")\n",
    "    # Sensitivity Example\n",
    "    g_test = 0.04\n",
    "    if g_test < Re_ddm_wmt:\n",
    "        val_test = (wmt_D0 * (1 + g_test)) / (Re_ddm_wmt - g_test)\n",
    "        print(f\"A higher, potentially more realistic long-term growth rate (e.g., g = {g_test:.1%}) would yield a value of ${val_test:.2f}, still below market.\")\n",
    "    print(\"This suggests the simple Gordon Growth DDM may not fully capture market expectations or other value drivers for Walmart, or the market applies a lower discount rate/higher growth.\")\n",
    "    print(\"Consider comparing with DCF and Comparables, or using a multi-stage DDM.\")"
   ]
  },
  {
   "cell_type": "code",
   "execution_count": 22,
   "metadata": {},
   "outputs": [
    {
     "name": "stdout",
     "output_type": "stream",
     "text": [
      "(Info: Using manually set D0 = 1.652 EUR based on last known annual payment)\n",
      "\n",
      "--- DDM Calculation for Stellantis (Approximate) ---\n",
      "Using Annual Dividend (D0, EUR): €1.652\n",
      "Cost of Equity (Re):            10.69%\n",
      "Assumed Div Growth (g):         2.0%\n",
      "Assumed EUR/USD Rate:           1.0800\n",
      "----------------------------------------\n",
      "Expected Next Dividend (D1, EUR): €1.685\n",
      "Expected Next Dividend (D1, USD): $1.820\n",
      "Intrinsic Value per Share (USD): $20.95\n",
      "Current Market Price (USD):      $13.05\n",
      "--> DDM suggests stock may be UNDERVALUED (using approximate assumptions)\n"
     ]
    }
   ],
   "source": [
    "# CELL: Code - Stellantis DDM Calculation\n",
    "\n",
    "# --- Inputs & Assumptions for Stellantis DDM ---\n",
    "\n",
    "\n",
    "# 1. Calculate D0 (Last Annual Dividend per Share in EUR)\n",
    "\n",
    "\n",
    "stla_D0_eur = 1.652\n",
    "print(f\"(Info: Using manually set D0 = {stla_D0_eur:.3f} EUR based on last known annual payment)\")\n",
    "\n",
    "try:\n",
    "    Re_ddm_stla = Re_stellantis\n",
    "except NameError:\n",
    "    print(\"Warning: Re_stellantis not found from CAPM calculation. Using placeholder 0.1078\")\n",
    "    Re_ddm_stla = 0.1078 # Placeholder if needed\n",
    "\n",
    "# 3. Dividend Growth Rate (g) - Placeholder Assumption (ADJUST BASED ON RESEARCH)\n",
    "g_ddm_stla = 0.020 # Approximate: Assume 2.0% constant dividend growth\n",
    "\n",
    "# 4. Exchange Rate (Use the same as before - ADJUST)\n",
    "try:\n",
    "    eur_to_usd_rate # Check if it exists from Cell 140\n",
    "except NameError:\n",
    "    eur_to_usd_rate = 1.08 # Define if not already set\n",
    "    print(f\"Using default EUR/USD rate: {eur_to_usd_rate}\")\n",
    "\n",
    "\n",
    "print(f\"\\n--- DDM Calculation for Stellantis (Approximate) ---\")\n",
    "print(f\"Using Annual Dividend (D0, EUR): €{stla_D0_eur:.3f}\")\n",
    "print(f\"Cost of Equity (Re):            {Re_ddm_stla:.2%}\")\n",
    "print(f\"Assumed Div Growth (g):         {g_ddm_stla:.1%}\")\n",
    "print(f\"Assumed EUR/USD Rate:           {eur_to_usd_rate:.4f}\")\n",
    "print(\"-\" * 40)\n",
    "\n",
    "# --- Perform DDM Calculation (in USD) ---\n",
    "if stla_D0_eur <= 0: # Check if D0 is valid\n",
    "     print(\"Cannot calculate DDM because D0 is zero or negative.\")\n",
    "elif g_ddm_stla >= Re_ddm_stla:\n",
    "    print(\"Error: Dividend growth rate (g) cannot be >= Cost of Equity (Re) for Gordon Growth Model.\")\n",
    "    intrinsic_value_ps_ddm_stla = float('nan')\n",
    "else:\n",
    "    # Calculate D1 in EUR\n",
    "    stla_D1_eur = stla_D0_eur * (1 + g_ddm_stla)\n",
    "    # Convert D1 to USD\n",
    "    stla_D1_usd = stla_D1_eur * eur_to_usd_rate\n",
    "    print(f\"Expected Next Dividend (D1, EUR): €{stla_D1_eur:.3f}\")\n",
    "    print(f\"Expected Next Dividend (D1, USD): ${stla_D1_usd:.3f}\")\n",
    "\n",
    "    # Calculate Intrinsic Value in USD\n",
    "    intrinsic_value_ps_ddm_stla = stla_D1_usd / (Re_ddm_stla - g_ddm_stla)\n",
    "\n",
    "    print(f\"Intrinsic Value per Share (USD): ${intrinsic_value_ps_ddm_stla:.2f}\")\n",
    "    print(f\"Current Market Price (USD):      ${s_share_price:.2f}\") # s_share_price from Cell 135\n",
    "\n",
    "    if intrinsic_value_ps_ddm_stla > s_share_price:\n",
    "        print(\"--> DDM suggests stock may be UNDERVALUED (using approximate assumptions)\")\n",
    "    elif intrinsic_value_ps_ddm_stla < s_share_price:\n",
    "         print(\"--> DDM suggests stock may be OVERVALUED (using approximate assumptions)\")\n",
    "    else:\n",
    "         print(\"--> DDM suggests stock may be FAIRLY VALUED (using approximate assumptions)\")\n",
    "\n"
   ]
  }
 ],
 "metadata": {
  "kernelspec": {
   "display_name": "Python 3",
   "language": "python",
   "name": "python3"
  },
  "language_info": {
   "codemirror_mode": {
    "name": "ipython",
    "version": 3
   },
   "file_extension": ".py",
   "mimetype": "text/x-python",
   "name": "python",
   "nbconvert_exporter": "python",
   "pygments_lexer": "ipython3",
   "version": "3.13.2"
  }
 },
 "nbformat": 4,
 "nbformat_minor": 2
}
