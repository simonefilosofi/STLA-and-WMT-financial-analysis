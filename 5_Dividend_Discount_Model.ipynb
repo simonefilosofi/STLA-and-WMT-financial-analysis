{
 "cells": [
  {
   "cell_type": "code",
   "execution_count": 1,
   "id": "e73d5ccb",
   "metadata": {},
   "outputs": [
    {
     "name": "stderr",
     "output_type": "stream",
     "text": [
      "/opt/anaconda3/lib/python3.9/site-packages/pandas/core/computation/expressions.py:21: UserWarning: Pandas requires version '2.8.4' or newer of 'numexpr' (version '2.8.1' currently installed).\n",
      "  from pandas.core.computation.check import NUMEXPR_INSTALLED\n",
      "/opt/anaconda3/lib/python3.9/site-packages/pandas/core/arrays/masked.py:60: UserWarning: Pandas requires version '1.3.6' or newer of 'bottleneck' (version '1.3.4' currently installed).\n",
      "  from pandas.core import (\n"
     ]
    },
    {
     "name": "stdout",
     "output_type": "stream",
     "text": [
      "\n",
      "DataFrames prepared with DatetimeIndex for DDM calculations.\n"
     ]
    }
   ],
   "source": [
    "# Import necessary libraries\n",
    "import pandas as pd\n",
    "import numpy as np\n",
    "from sklearn.linear_model import LinearRegression\n",
    "from matplotlib import pyplot as plt\n",
    "\n",
    "# Load the datasets\n",
    "walmart_df = pd.read_csv('Dataset/wmt_historical_data.csv')\n",
    "stellantis_df = pd.read_csv('Dataset/stla_historical_data.csv')\n",
    "\n",
    "\n",
    "def clean_dataframe_for_ddm(df):\n",
    "    \"\"\" Cleans df and sets Date index for DDM \"\"\"\n",
    "    df_copy = df.copy() # Work on a copy\n",
    "    df_copy['Close'] = df_copy['Close'].astype(str).str.replace(',', '', regex=False)\n",
    "    df_copy['Close'] = pd.to_numeric(df_copy['Close'], errors='coerce')\n",
    "    df_copy.dropna(subset=['Close'], inplace=True)\n",
    "    df_copy['Date'] = pd.to_datetime(df_copy['Date'].str[:-6], errors='coerce')\n",
    "    df_copy.dropna(subset=['Date'], inplace=True)\n",
    "    df_copy.sort_values('Date', inplace=True)\n",
    "    # Set index for DDM\n",
    "    df_copy.set_index('Date', inplace=True)\n",
    "    # Ensure 'Dividends' column exists and is numeric\n",
    "    if 'Dividends' in df_copy.columns:\n",
    "         df_copy['Dividends'] = pd.to_numeric(df_copy['Dividends'], errors='coerce').fillna(0)\n",
    "    else:\n",
    "         print(\"Warning: Dividends column missing\")\n",
    "         df_copy['Dividends'] = 0\n",
    "    return df_copy\n",
    "\n",
    "# Re-load original dfs or ensure they are still available\n",
    "# Assuming walmart_df and stellantis_df still hold the original loaded data:\n",
    "walmart_df_ddm = clean_dataframe_for_ddm(walmart_df)\n",
    "stellantis_df_ddm = clean_dataframe_for_ddm(stellantis_df)\n",
    "\n",
    "print(\"\\nDataFrames prepared with DatetimeIndex for DDM calculations.\")"
   ]
  },
  {
   "cell_type": "markdown",
   "id": "6d87b661",
   "metadata": {},
   "source": [
    "## Walmart and Stellantis dividends"
   ]
  },
  {
   "cell_type": "code",
   "execution_count": 2,
   "id": "137926e5",
   "metadata": {},
   "outputs": [
    {
     "name": "stdout",
     "output_type": "stream",
     "text": [
      "--- Walmart Dividends ---\n",
      "Walmart distributed 0.18 dividend on 2020-05-01\n",
      "Walmart distributed 0.18 dividend on 2020-08-01\n",
      "Walmart distributed 0.18 dividend on 2020-12-01\n",
      "Walmart distributed 0.183333 dividend on 2021-03-01\n",
      "Walmart distributed 0.183333 dividend on 2021-05-01\n",
      "Walmart distributed 0.183333 dividend on 2021-08-01\n",
      "Walmart distributed 0.183333 dividend on 2021-12-01\n",
      "Walmart distributed 0.186667 dividend on 2022-03-01\n",
      "Walmart distributed 0.186667 dividend on 2022-05-01\n",
      "Walmart distributed 0.186667 dividend on 2022-08-01\n",
      "Walmart distributed 0.186667 dividend on 2022-12-01\n",
      "Walmart distributed 0.19 dividend on 2023-03-01\n",
      "Walmart distributed 0.19 dividend on 2023-05-01\n",
      "Walmart distributed 0.19 dividend on 2023-08-01\n",
      "Walmart distributed 0.19 dividend on 2023-12-01\n",
      "Walmart distributed 0.208 dividend on 2024-03-01\n",
      "Walmart distributed 0.208 dividend on 2024-05-01\n",
      "Walmart distributed 0.208 dividend on 2024-08-01\n",
      "Walmart distributed 0.208 dividend on 2024-12-01\n",
      "Walmart distributed 0.235 dividend on 2025-03-01\n",
      "--- Stellantis Dividends ---\n",
      "Stellantis distributed 2.237 dividend on 2021-01-01\n",
      "Stellantis distributed 0.116 dividend on 2021-03-01\n",
      "Stellantis distributed 0.383 dividend on 2021-04-01\n",
      "Stellantis distributed 1.122 dividend on 2022-04-01\n",
      "Stellantis distributed 1.473 dividend on 2023-04-01\n",
      "Stellantis distributed 1.652 dividend on 2024-04-01\n"
     ]
    }
   ],
   "source": [
    "# Store the dividends in a new DataFrame and filter out non-positive dividends\n",
    "walmart_dividends = walmart_df_ddm.loc[walmart_df_ddm['Dividends'] > 0, 'Dividends']\n",
    "\n",
    "# Display the dividends for Walmart\n",
    "print(f\"--- Walmart Dividends ---\")\n",
    "for date, dividend in walmart_dividends.items():\n",
    "    date_only = str(date).split(' ')[0]  # Extract only the date part\n",
    "    print(f\"Walmart distributed {dividend} dividend on {date_only}\")\n",
    "\n",
    "\n",
    "# Store the dividends in a new DataFrame and filter out non-positive dividends\n",
    "stellantis_dividends = stellantis_df_ddm.loc[stellantis_df_ddm['Dividends'] > 0, 'Dividends']\n",
    "\n",
    "# Display the dividends for Stellantis\n",
    "print(f\"--- Stellantis Dividends ---\")\n",
    "for date, dividend in stellantis_dividends.items():\n",
    "    date_only = str(date).split(' ')[0]  # Extract only the date part\n",
    "    print(f\"Stellantis distributed {dividend} dividend on {date_only}\")\n"
   ]
  },
  {
   "cell_type": "markdown",
   "id": "8ded22a3",
   "metadata": {},
   "source": [
    "## Average growth rate"
   ]
  },
  {
   "cell_type": "code",
   "execution_count": 3,
   "id": "dc0767c2",
   "metadata": {},
   "outputs": [
    {
     "name": "stdout",
     "output_type": "stream",
     "text": [
      "--- Walmart Average Dividend Growth Rate ---\n",
      "Average Growth Rate: 5.58%\n"
     ]
    }
   ],
   "source": [
    "# Annualize the dividends to compute the annual rate of growth\n",
    "walmart_dividends = walmart_dividends.drop_duplicates()\n",
    "walmart_dividends = walmart_dividends * 4\n",
    "\n",
    "# Compute percentage change\n",
    "walmart_dividends_pct_change = walmart_dividends.pct_change() * 100\n",
    "\n",
    "# Store the results in a DataFrame for better visualization\n",
    "walmart_dividends_df = pd.DataFrame({\n",
    "    \"Dividends\": walmart_dividends,\n",
    "    \"pct_change\": walmart_dividends_pct_change\n",
    "})\n",
    "\n",
    "# Compute average growth rate\n",
    "avg_growth_rate = walmart_dividends_pct_change.mean()\n",
    "print(f\"--- Walmart Average Dividend Growth Rate ---\")\n",
    "print(f\"Average Growth Rate: {avg_growth_rate:.2f}%\")\n"
   ]
  },
  {
   "cell_type": "code",
   "execution_count": 4,
   "id": "23d48713",
   "metadata": {},
   "outputs": [
    {
     "name": "stdout",
     "output_type": "stream",
     "text": [
      "--- Stellantis Average Dividend Growth Rate ---\n",
      "Average Growth Rate: -5.19%\n"
     ]
    }
   ],
   "source": [
    "# Sum the dividens that were distributed in the same year\n",
    "stellantis_dividends_df = pd.DataFrame(stellantis_dividends)\n",
    "stellantis_dividends_df['Year'] = stellantis_dividends_df.index.year\n",
    "stellantis_dividends_df = stellantis_dividends_df.groupby('Year').sum()\n",
    "\n",
    "# Compute percentage change\n",
    "stellantis_dividends_pct_change = stellantis_dividends_df['Dividends'].pct_change() * 100\n",
    "\n",
    "# Store the results in a DataFrame for better visualization\n",
    "stellantis_dividends_df = pd.DataFrame({\n",
    "    \"Dividends\": stellantis_dividends_df['Dividends'],\n",
    "    \"pct_change\": stellantis_dividends_pct_change\n",
    "})\n",
    "\n",
    "# Compute average growth rate\n",
    "avg_growth_rate_stellantis = stellantis_dividends_pct_change.mean()\n",
    "print(f\"--- Stellantis Average Dividend Growth Rate ---\")\n",
    "print(f\"Average Growth Rate: {avg_growth_rate_stellantis:.2f}%\")\n"
   ]
  },
  {
   "cell_type": "code",
   "execution_count": 5,
   "id": "8657b375",
   "metadata": {},
   "outputs": [
    {
     "ename": "FileNotFoundError",
     "evalue": "[Errno 2] No such file or directory: 'Outputs\\\\expected_returns.csv'",
     "output_type": "error",
     "traceback": [
      "\u001b[0;31m---------------------------------------------------------------------------\u001b[0m",
      "\u001b[0;31mFileNotFoundError\u001b[0m                         Traceback (most recent call last)",
      "\u001b[1;32m/Users/simonefilosofi/Desktop/STLA-and-WMT-financial-analysis/5_Dividend_Discount_Model.ipynb Cella 7\u001b[0m line \u001b[0;36m<cell line: 16>\u001b[0;34m()\u001b[0m\n\u001b[1;32m     <a href='vscode-notebook-cell:/Users/simonefilosofi/Desktop/STLA-and-WMT-financial-analysis/5_Dividend_Discount_Model.ipynb#W4sZmlsZQ%3D%3D?line=14'>15</a>\u001b[0m \u001b[39m# 2. Cost of Equity (Re) - Use the CAPM calculated value\u001b[39;00m\n\u001b[1;32m     <a href='vscode-notebook-cell:/Users/simonefilosofi/Desktop/STLA-and-WMT-financial-analysis/5_Dividend_Discount_Model.ipynb#W4sZmlsZQ%3D%3D?line=15'>16</a>\u001b[0m \u001b[39mtry\u001b[39;00m:\n\u001b[0;32m---> <a href='vscode-notebook-cell:/Users/simonefilosofi/Desktop/STLA-and-WMT-financial-analysis/5_Dividend_Discount_Model.ipynb#W4sZmlsZQ%3D%3D?line=16'>17</a>\u001b[0m     Re_ddm_wmt \u001b[39m=\u001b[39m pd\u001b[39m.\u001b[39;49mread_csv(\u001b[39m'\u001b[39;49m\u001b[39mOutputs\u001b[39;49m\u001b[39m\\\u001b[39;49m\u001b[39mexpected_returns.csv\u001b[39;49m\u001b[39m'\u001b[39;49m)\u001b[39m.\u001b[39miloc[\u001b[39m0\u001b[39m, \u001b[39m1\u001b[39m] \u001b[39m# Assuming the CAPM value is stored in a CSV\u001b[39;00m\n\u001b[1;32m     <a href='vscode-notebook-cell:/Users/simonefilosofi/Desktop/STLA-and-WMT-financial-analysis/5_Dividend_Discount_Model.ipynb#W4sZmlsZQ%3D%3D?line=17'>18</a>\u001b[0m     \u001b[39mprint\u001b[39m(\u001b[39mf\u001b[39m\u001b[39m\"\u001b[39m\u001b[39mCAPM Cost of Equity (Re) for Walmart: \u001b[39m\u001b[39m{\u001b[39;00mRe_ddm_wmt\u001b[39m}\u001b[39;00m\u001b[39m\"\u001b[39m)\n\u001b[1;32m     <a href='vscode-notebook-cell:/Users/simonefilosofi/Desktop/STLA-and-WMT-financial-analysis/5_Dividend_Discount_Model.ipynb#W4sZmlsZQ%3D%3D?line=18'>19</a>\u001b[0m \u001b[39mexcept\u001b[39;00m \u001b[39mNameError\u001b[39;00m:\n",
      "File \u001b[0;32m/opt/anaconda3/lib/python3.9/site-packages/pandas/io/parsers/readers.py:1026\u001b[0m, in \u001b[0;36mread_csv\u001b[0;34m(filepath_or_buffer, sep, delimiter, header, names, index_col, usecols, dtype, engine, converters, true_values, false_values, skipinitialspace, skiprows, skipfooter, nrows, na_values, keep_default_na, na_filter, verbose, skip_blank_lines, parse_dates, infer_datetime_format, keep_date_col, date_parser, date_format, dayfirst, cache_dates, iterator, chunksize, compression, thousands, decimal, lineterminator, quotechar, quoting, doublequote, escapechar, comment, encoding, encoding_errors, dialect, on_bad_lines, delim_whitespace, low_memory, memory_map, float_precision, storage_options, dtype_backend)\u001b[0m\n\u001b[1;32m   1013\u001b[0m kwds_defaults \u001b[39m=\u001b[39m _refine_defaults_read(\n\u001b[1;32m   1014\u001b[0m     dialect,\n\u001b[1;32m   1015\u001b[0m     delimiter,\n\u001b[0;32m   (...)\u001b[0m\n\u001b[1;32m   1022\u001b[0m     dtype_backend\u001b[39m=\u001b[39mdtype_backend,\n\u001b[1;32m   1023\u001b[0m )\n\u001b[1;32m   1024\u001b[0m kwds\u001b[39m.\u001b[39mupdate(kwds_defaults)\n\u001b[0;32m-> 1026\u001b[0m \u001b[39mreturn\u001b[39;00m _read(filepath_or_buffer, kwds)\n",
      "File \u001b[0;32m/opt/anaconda3/lib/python3.9/site-packages/pandas/io/parsers/readers.py:620\u001b[0m, in \u001b[0;36m_read\u001b[0;34m(filepath_or_buffer, kwds)\u001b[0m\n\u001b[1;32m    617\u001b[0m _validate_names(kwds\u001b[39m.\u001b[39mget(\u001b[39m\"\u001b[39m\u001b[39mnames\u001b[39m\u001b[39m\"\u001b[39m, \u001b[39mNone\u001b[39;00m))\n\u001b[1;32m    619\u001b[0m \u001b[39m# Create the parser.\u001b[39;00m\n\u001b[0;32m--> 620\u001b[0m parser \u001b[39m=\u001b[39m TextFileReader(filepath_or_buffer, \u001b[39m*\u001b[39;49m\u001b[39m*\u001b[39;49mkwds)\n\u001b[1;32m    622\u001b[0m \u001b[39mif\u001b[39;00m chunksize \u001b[39mor\u001b[39;00m iterator:\n\u001b[1;32m    623\u001b[0m     \u001b[39mreturn\u001b[39;00m parser\n",
      "File \u001b[0;32m/opt/anaconda3/lib/python3.9/site-packages/pandas/io/parsers/readers.py:1620\u001b[0m, in \u001b[0;36mTextFileReader.__init__\u001b[0;34m(self, f, engine, **kwds)\u001b[0m\n\u001b[1;32m   1617\u001b[0m     \u001b[39mself\u001b[39m\u001b[39m.\u001b[39moptions[\u001b[39m\"\u001b[39m\u001b[39mhas_index_names\u001b[39m\u001b[39m\"\u001b[39m] \u001b[39m=\u001b[39m kwds[\u001b[39m\"\u001b[39m\u001b[39mhas_index_names\u001b[39m\u001b[39m\"\u001b[39m]\n\u001b[1;32m   1619\u001b[0m \u001b[39mself\u001b[39m\u001b[39m.\u001b[39mhandles: IOHandles \u001b[39m|\u001b[39m \u001b[39mNone\u001b[39;00m \u001b[39m=\u001b[39m \u001b[39mNone\u001b[39;00m\n\u001b[0;32m-> 1620\u001b[0m \u001b[39mself\u001b[39m\u001b[39m.\u001b[39m_engine \u001b[39m=\u001b[39m \u001b[39mself\u001b[39;49m\u001b[39m.\u001b[39;49m_make_engine(f, \u001b[39mself\u001b[39;49m\u001b[39m.\u001b[39;49mengine)\n",
      "File \u001b[0;32m/opt/anaconda3/lib/python3.9/site-packages/pandas/io/parsers/readers.py:1880\u001b[0m, in \u001b[0;36mTextFileReader._make_engine\u001b[0;34m(self, f, engine)\u001b[0m\n\u001b[1;32m   1878\u001b[0m     \u001b[39mif\u001b[39;00m \u001b[39m\"\u001b[39m\u001b[39mb\u001b[39m\u001b[39m\"\u001b[39m \u001b[39mnot\u001b[39;00m \u001b[39min\u001b[39;00m mode:\n\u001b[1;32m   1879\u001b[0m         mode \u001b[39m+\u001b[39m\u001b[39m=\u001b[39m \u001b[39m\"\u001b[39m\u001b[39mb\u001b[39m\u001b[39m\"\u001b[39m\n\u001b[0;32m-> 1880\u001b[0m \u001b[39mself\u001b[39m\u001b[39m.\u001b[39mhandles \u001b[39m=\u001b[39m get_handle(\n\u001b[1;32m   1881\u001b[0m     f,\n\u001b[1;32m   1882\u001b[0m     mode,\n\u001b[1;32m   1883\u001b[0m     encoding\u001b[39m=\u001b[39;49m\u001b[39mself\u001b[39;49m\u001b[39m.\u001b[39;49moptions\u001b[39m.\u001b[39;49mget(\u001b[39m\"\u001b[39;49m\u001b[39mencoding\u001b[39;49m\u001b[39m\"\u001b[39;49m, \u001b[39mNone\u001b[39;49;00m),\n\u001b[1;32m   1884\u001b[0m     compression\u001b[39m=\u001b[39;49m\u001b[39mself\u001b[39;49m\u001b[39m.\u001b[39;49moptions\u001b[39m.\u001b[39;49mget(\u001b[39m\"\u001b[39;49m\u001b[39mcompression\u001b[39;49m\u001b[39m\"\u001b[39;49m, \u001b[39mNone\u001b[39;49;00m),\n\u001b[1;32m   1885\u001b[0m     memory_map\u001b[39m=\u001b[39;49m\u001b[39mself\u001b[39;49m\u001b[39m.\u001b[39;49moptions\u001b[39m.\u001b[39;49mget(\u001b[39m\"\u001b[39;49m\u001b[39mmemory_map\u001b[39;49m\u001b[39m\"\u001b[39;49m, \u001b[39mFalse\u001b[39;49;00m),\n\u001b[1;32m   1886\u001b[0m     is_text\u001b[39m=\u001b[39;49mis_text,\n\u001b[1;32m   1887\u001b[0m     errors\u001b[39m=\u001b[39;49m\u001b[39mself\u001b[39;49m\u001b[39m.\u001b[39;49moptions\u001b[39m.\u001b[39;49mget(\u001b[39m\"\u001b[39;49m\u001b[39mencoding_errors\u001b[39;49m\u001b[39m\"\u001b[39;49m, \u001b[39m\"\u001b[39;49m\u001b[39mstrict\u001b[39;49m\u001b[39m\"\u001b[39;49m),\n\u001b[1;32m   1888\u001b[0m     storage_options\u001b[39m=\u001b[39;49m\u001b[39mself\u001b[39;49m\u001b[39m.\u001b[39;49moptions\u001b[39m.\u001b[39;49mget(\u001b[39m\"\u001b[39;49m\u001b[39mstorage_options\u001b[39;49m\u001b[39m\"\u001b[39;49m, \u001b[39mNone\u001b[39;49;00m),\n\u001b[1;32m   1889\u001b[0m )\n\u001b[1;32m   1890\u001b[0m \u001b[39massert\u001b[39;00m \u001b[39mself\u001b[39m\u001b[39m.\u001b[39mhandles \u001b[39mis\u001b[39;00m \u001b[39mnot\u001b[39;00m \u001b[39mNone\u001b[39;00m\n\u001b[1;32m   1891\u001b[0m f \u001b[39m=\u001b[39m \u001b[39mself\u001b[39m\u001b[39m.\u001b[39mhandles\u001b[39m.\u001b[39mhandle\n",
      "File \u001b[0;32m/opt/anaconda3/lib/python3.9/site-packages/pandas/io/common.py:873\u001b[0m, in \u001b[0;36mget_handle\u001b[0;34m(path_or_buf, mode, encoding, compression, memory_map, is_text, errors, storage_options)\u001b[0m\n\u001b[1;32m    868\u001b[0m \u001b[39melif\u001b[39;00m \u001b[39misinstance\u001b[39m(handle, \u001b[39mstr\u001b[39m):\n\u001b[1;32m    869\u001b[0m     \u001b[39m# Check whether the filename is to be opened in binary mode.\u001b[39;00m\n\u001b[1;32m    870\u001b[0m     \u001b[39m# Binary mode does not support 'encoding' and 'newline'.\u001b[39;00m\n\u001b[1;32m    871\u001b[0m     \u001b[39mif\u001b[39;00m ioargs\u001b[39m.\u001b[39mencoding \u001b[39mand\u001b[39;00m \u001b[39m\"\u001b[39m\u001b[39mb\u001b[39m\u001b[39m\"\u001b[39m \u001b[39mnot\u001b[39;00m \u001b[39min\u001b[39;00m ioargs\u001b[39m.\u001b[39mmode:\n\u001b[1;32m    872\u001b[0m         \u001b[39m# Encoding\u001b[39;00m\n\u001b[0;32m--> 873\u001b[0m         handle \u001b[39m=\u001b[39m \u001b[39mopen\u001b[39;49m(\n\u001b[1;32m    874\u001b[0m             handle,\n\u001b[1;32m    875\u001b[0m             ioargs\u001b[39m.\u001b[39;49mmode,\n\u001b[1;32m    876\u001b[0m             encoding\u001b[39m=\u001b[39;49mioargs\u001b[39m.\u001b[39;49mencoding,\n\u001b[1;32m    877\u001b[0m             errors\u001b[39m=\u001b[39;49merrors,\n\u001b[1;32m    878\u001b[0m             newline\u001b[39m=\u001b[39;49m\u001b[39m\"\u001b[39;49m\u001b[39m\"\u001b[39;49m,\n\u001b[1;32m    879\u001b[0m         )\n\u001b[1;32m    880\u001b[0m     \u001b[39melse\u001b[39;00m:\n\u001b[1;32m    881\u001b[0m         \u001b[39m# Binary mode\u001b[39;00m\n\u001b[1;32m    882\u001b[0m         handle \u001b[39m=\u001b[39m \u001b[39mopen\u001b[39m(handle, ioargs\u001b[39m.\u001b[39mmode)\n",
      "\u001b[0;31mFileNotFoundError\u001b[0m: [Errno 2] No such file or directory: 'Outputs\\\\expected_returns.csv'"
     ]
    }
   ],
   "source": [
    "# 1. Calculate D0 (Last Annual Dividend per Share)\n",
    "try:\n",
    "    # ... (Keep the D0 calculation logic as before) ...\n",
    "    last_date_wmt = walmart_df_ddm.index.max()\n",
    "    start_date_wmt = last_date_wmt - pd.DateOffset(months=11)\n",
    "    wmt_dividends_last_year = walmart_df_ddm.loc[start_date_wmt:last_date_wmt, 'Dividends'].sum()\n",
    "    wmt_last_quarterly_dividend = walmart_df_ddm['Dividends'].iloc[-1] if walmart_df_ddm['Dividends'].iloc[-1] > 0 else 0.235\n",
    "    wmt_D0_alternative = wmt_last_quarterly_dividend * 4\n",
    "    # print(f\"(Info: D0 based on last 12m sum: {wmt_dividends_last_year:.3f}, D0 based on quarterly*4: {wmt_D0_alternative:.3f})\")\n",
    "    wmt_D0 = wmt_D0_alternative # Using quarterly based\n",
    "except Exception as e:\n",
    "    print(f\"Error calculating Walmart D0: {e}\")\n",
    "    wmt_D0 = 0\n",
    "\n",
    "# 2. Cost of Equity (Re) - Use the CAPM calculated value\n",
    "try:\n",
    "    Re_ddm_wmt = pd.read_csv('Outputs\\expected_returns.csv').iloc[0, 1] # Assuming the CAPM value is stored in a CSV\n",
    "    print(f\"CAPM Cost of Equity (Re) for Walmart: {Re_ddm_wmt}\")\n",
    "except NameError:\n",
    "    print(\"Warning: Re_walmart not found from CAPM calculation. Using placeholder 0.0711\")\n",
    "    Re_ddm_wmt = 0.0711\n",
    "\n",
    "# 3. Dividend Growth Rate (g) - Placeholder Assumption\n",
    "g_ddm_wmt = 0.06 # Approximate: Assume 3.5% constant dividend growth\n",
    "\n",
    "print(f\"\\n--- DDM Calculation for Walmart (Approximate - Gordon Growth) ---\")\n",
    "print(f\"Using Annual Dividend (D0): ${wmt_D0:.3f}\")\n",
    "print(f\"Cost of Equity (Re):        {Re_ddm_wmt:.2%}\")\n",
    "print(f\"Assumed Constant Div Growth (g): {g_ddm_wmt:.1%}\")\n",
    "print(\"-\" * 40)\n",
    "\n",
    "walmart_share_price = 98.61\n",
    "\n",
    "# --- Perform DDM Calculation ---\n",
    "intrinsic_value_ps_ddm_wmt = float('nan') # Initialize\n",
    "if wmt_D0 <= 0:\n",
    "    print(\"Cannot calculate DDM because D0 is zero or negative.\")\n",
    "elif g_ddm_wmt >= Re_ddm_wmt:\n",
    "    print(\"Error: Dividend growth rate (g) cannot be >= Cost of Equity (Re) for Gordon Growth Model.\")\n",
    "else:\n",
    "    wmt_D1 = wmt_D0 * (1 + g_ddm_wmt)\n",
    "    print(f\"Expected Next Dividend (D1): ${wmt_D1:.3f}\")\n",
    "    intrinsic_value_ps_ddm_wmt = wmt_D1 / (Re_ddm_wmt - g_ddm_wmt)\n",
    "    print(f\"Intrinsic Value per Share:   ${intrinsic_value_ps_ddm_wmt:.2f}\")\n",
    "    print(f\"Current Market Price:        ${walmart_share_price:.2f}\")\n",
    "\n",
    "    if intrinsic_value_ps_ddm_wmt > walmart_share_price:\n",
    "        print(\"--> DDM suggests stock may be UNDERVALUED (using approximate assumptions)\")\n",
    "    elif intrinsic_value_ps_ddm_wmt < walmart_share_price:\n",
    "         print(\"--> DDM suggests stock may be OVERVALUED (using approximate assumptions)\")\n",
    "    else:\n",
    "         print(\"--> DDM suggests stock may be FAIRLY VALUED (using approximate assumptions)\")\n",
    "\n",
    "# --- Commentary on Walmart DDM Result ---\n",
    "print(\"\\nDDM Commentary for Walmart:\")\n",
    "if not np.isnan(intrinsic_value_ps_ddm_wmt) and intrinsic_value_ps_ddm_wmt < walmart_share_price:\n",
    "    print(f\"The calculated DDM value (${intrinsic_value_ps_ddm_wmt:.2f}) is significantly lower than the market price (${walmart_share_price:.2f}).\")\n",
    "    print(\"This is primarily driven by the low assumed constant growth rate (g = {g_ddm_wmt:.1%}).\")\n",
    "    # Sensitivity Example\n",
    "    g_test = 0.04\n",
    "    if g_test < Re_ddm_wmt:\n",
    "        val_test = (wmt_D0 * (1 + g_test)) / (Re_ddm_wmt - g_test)\n",
    "        print(f\"A higher, potentially more realistic long-term growth rate (e.g., g = {g_test:.1%}) would yield a value of ${val_test:.2f}, still below market.\")\n",
    "    print(\"This suggests the simple Gordon Growth DDM may not fully capture market expectations or other value drivers for Walmart, or the market applies a lower discount rate/higher growth.\")\n",
    "    print(\"Consider comparing with DCF and Comparables, or using a multi-stage DDM.\")"
   ]
  },
  {
   "cell_type": "code",
   "execution_count": null,
   "id": "b0de6df3",
   "metadata": {},
   "outputs": [],
   "source": [
    "# 1. Calculate D0 (Last Annual Dividend per Share in EUR)\n",
    "stla_D0_eur = 1.652\n",
    "print(f\"(Info: Using manually set D0 = {stla_D0_eur:.3f} EUR based on last known annual payment)\")\n",
    "\n",
    "try:\n",
    "    Re_ddm_stla = Re_stellantis\n",
    "except NameError:\n",
    "    print(\"Warning: Re_stellantis not found from CAPM calculation. Using placeholder 0.1078\")\n",
    "    Re_ddm_stla = 0.1078 # Placeholder if needed\n",
    "\n",
    "# 3. Dividend Growth Rate (g) - Placeholder Assumption (ADJUST BASED ON RESEARCH)\n",
    "g_ddm_stla = 0.020 # Approximate: Assume 2.0% constant dividend growth\n",
    "\n",
    "# 4. Exchange Rate (Use the same as before - ADJUST)\n",
    "try:\n",
    "    eur_to_usd_rate # Check if it exists from Cell 140\n",
    "except NameError:\n",
    "    eur_to_usd_rate = 1.08 # Define if not already set\n",
    "    print(f\"Using default EUR/USD rate: {eur_to_usd_rate}\")\n",
    "\n",
    "\n",
    "print(f\"\\n--- DDM Calculation for Stellantis (Approximate) ---\")\n",
    "print(f\"Using Annual Dividend (D0, EUR): €{stla_D0_eur:.3f}\")\n",
    "print(f\"Cost of Equity (Re):            {Re_ddm_stla:.2%}\")\n",
    "print(f\"Assumed Div Growth (g):         {g_ddm_stla:.1%}\")\n",
    "print(f\"Assumed EUR/USD Rate:           {eur_to_usd_rate:.4f}\")\n",
    "print(\"-\" * 40)\n",
    "\n",
    "# --- Perform DDM Calculation (in USD) ---\n",
    "if stla_D0_eur <= 0: # Check if D0 is valid\n",
    "     print(\"Cannot calculate DDM because D0 is zero or negative.\")\n",
    "elif g_ddm_stla >= Re_ddm_stla:\n",
    "    print(\"Error: Dividend growth rate (g) cannot be >= Cost of Equity (Re) for Gordon Growth Model.\")\n",
    "    intrinsic_value_ps_ddm_stla = float('nan')\n",
    "else:\n",
    "    # Calculate D1 in EUR\n",
    "    stla_D1_eur = stla_D0_eur * (1 + g_ddm_stla)\n",
    "    # Convert D1 to USD\n",
    "    stla_D1_usd = stla_D1_eur * eur_to_usd_rate\n",
    "    print(f\"Expected Next Dividend (D1, EUR): €{stla_D1_eur:.3f}\")\n",
    "    print(f\"Expected Next Dividend (D1, USD): ${stla_D1_usd:.3f}\")\n",
    "\n",
    "    # Calculate Intrinsic Value in USD\n",
    "    intrinsic_value_ps_ddm_stla = stla_D1_usd / (Re_ddm_stla - g_ddm_stla)\n",
    "\n",
    "    print(f\"Intrinsic Value per Share (USD): ${intrinsic_value_ps_ddm_stla:.2f}\")\n",
    "    print(f\"Current Market Price (USD):      ${s_share_price:.2f}\") # s_share_price from Cell 135\n",
    "\n",
    "    if intrinsic_value_ps_ddm_stla > s_share_price:\n",
    "        print(\"--> DDM suggests stock may be UNDERVALUED (using approximate assumptions)\")\n",
    "    elif intrinsic_value_ps_ddm_stla < s_share_price:\n",
    "         print(\"--> DDM suggests stock may be OVERVALUED (using approximate assumptions)\")\n",
    "    else:\n",
    "         print(\"--> DDM suggests stock may be FAIRLY VALUED (using approximate assumptions)\")\n",
    "\n"
   ]
  }
 ],
 "metadata": {
  "kernelspec": {
   "display_name": "Python 3",
   "language": "python",
   "name": "python3"
  },
  "language_info": {
   "codemirror_mode": {
    "name": "ipython",
    "version": 3
   },
   "file_extension": ".py",
   "mimetype": "text/x-python",
   "name": "python",
   "nbconvert_exporter": "python",
   "pygments_lexer": "ipython3",
   "version": "3.9.12"
  }
 },
 "nbformat": 4,
 "nbformat_minor": 5
}
