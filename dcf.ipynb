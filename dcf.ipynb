{
 "cells": [
  {
   "cell_type": "code",
   "execution_count": 22,
   "metadata": {},
   "outputs": [
    {
     "name": "stdout",
     "output_type": "stream",
     "text": [
      "['2019-03-14 00:00:00-04:00', 0.176667]\n",
      "['2019-12-05 00:00:00-05:00', 0.176667]\n",
      "['2020-12-10 00:00:00-05:00', 0.18]\n",
      "['2021-12-09 00:00:00-05:00', 0.183333]\n",
      "['2022-12-08 00:00:00-05:00', 0.186667]\n",
      "['2023-12-07 00:00:00-05:00', 0.19]\n",
      "['2024-12-13 00:00:00-05:00', 0.208]\n"
     ]
    }
   ],
   "source": [
    "import pandas as pd \n",
    "\n",
    "walmart_data = pd.read_csv('Walmart_dividends.csv')\n",
    "\n",
    "walmart_data_to_list = walmart_data.values.tolist()\n",
    "\n",
    "walmart_2019_div = walmart_data_to_list[0]\n",
    "\n",
    "walmart_2020_div = walmart_data_to_list[3]\n",
    "\n",
    "walmart_2021_div = walmart_data_to_list[7]\n",
    "\n",
    "walmart_2022_div = walmart_data_to_list[11]\n",
    "\n",
    "walmart_2023_div = walmart_data_to_list[15]\n",
    "\n",
    "walmart_2024_div = walmart_data_to_list[19]\n",
    "\n",
    "walmart_2025_div = walmart_data_to_list[23]\n",
    "\n",
    "print(walmart_2019_div)\n",
    "print(walmart_2020_div)\n",
    "print(walmart_2021_div)\n",
    "print(walmart_2022_div)\n",
    "print(walmart_2023_div)\n",
    "print(walmart_2024_div)\n",
    "print(walmart_2025_div)"
   ]
  },
  {
   "cell_type": "code",
   "execution_count": 23,
   "metadata": {},
   "outputs": [
    {
     "name": "stdout",
     "output_type": "stream",
     "text": [
      "[['2019-04-23 00:00:00-04:00', 0.732], ['2019-05-20 00:00:00-04:00', 1.451], ['2021-01-14 00:00:00-05:00', 2.237], ['2021-03-15 00:00:00-04:00', 0.116], ['2021-04-19 00:00:00-04:00', 0.383], ['2022-04-19 00:00:00-04:00', 1.122], ['2023-04-24 00:00:00-04:00', 1.473], ['2024-04-22 00:00:00-04:00', 1.652], ['2025-04-22 00:00:00-04:00', 0.736]]\n"
     ]
    }
   ],
   "source": [
    "stellantis_data = pd.read_csv('STLA_dividends.csv')\n",
    "\n",
    "stellantis_data_to_list = stellantis_data.values.tolist()\n",
    "print(stellantis_data_to_list)\n",
    "\n"
   ]
  },
  {
   "cell_type": "code",
   "execution_count": null,
   "metadata": {},
   "outputs": [],
   "source": []
  }
 ],
 "metadata": {
  "kernelspec": {
   "display_name": "base",
   "language": "python",
   "name": "python3"
  },
  "language_info": {
   "codemirror_mode": {
    "name": "ipython",
    "version": 3
   },
   "file_extension": ".py",
   "mimetype": "text/x-python",
   "name": "python",
   "nbconvert_exporter": "python",
   "pygments_lexer": "ipython3",
   "version": "3.9.12"
  }
 },
 "nbformat": 4,
 "nbformat_minor": 2
}
