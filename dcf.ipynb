{
 "cells": [
  {
   "cell_type": "code",
   "execution_count": 3,
   "metadata": {},
   "outputs": [
    {
     "name": "stdout",
     "output_type": "stream",
     "text": [
      "Walmart distributed 0.176667 dividend on 2019-03-14\n",
      "Walmart distributed 0.176667 dividend on 2019-05-09\n",
      "Walmart distributed 0.176667 dividend on 2019-08-08\n",
      "Walmart distributed 0.176667 dividend on 2019-12-05\n",
      "Walmart distributed 0.18 dividend on 2020-03-19\n",
      "Walmart distributed 0.18 dividend on 2020-05-07\n",
      "Walmart distributed 0.18 dividend on 2020-08-13\n",
      "Walmart distributed 0.18 dividend on 2020-12-10\n",
      "Walmart distributed 0.183333 dividend on 2021-03-18\n",
      "Walmart distributed 0.183333 dividend on 2021-05-06\n",
      "Walmart distributed 0.183333 dividend on 2021-08-12\n",
      "Walmart distributed 0.183333 dividend on 2021-12-09\n",
      "Walmart distributed 0.186667 dividend on 2022-03-17\n",
      "Walmart distributed 0.186667 dividend on 2022-05-05\n",
      "Walmart distributed 0.186667 dividend on 2022-08-11\n",
      "Walmart distributed 0.186667 dividend on 2022-12-08\n",
      "Walmart distributed 0.19 dividend on 2023-03-16\n",
      "Walmart distributed 0.19 dividend on 2023-05-04\n",
      "Walmart distributed 0.19 dividend on 2023-08-10\n",
      "Walmart distributed 0.19 dividend on 2023-12-07\n",
      "Walmart distributed 0.208 dividend on 2024-03-14\n",
      "Walmart distributed 0.208 dividend on 2024-05-09\n",
      "Walmart distributed 0.208 dividend on 2024-08-16\n",
      "Walmart distributed 0.208 dividend on 2024-12-13\n",
      "Walmart distributed 0.235 dividend on 2025-03-21\n"
     ]
    }
   ],
   "source": [
    "import pandas as pd \n",
    "\n",
    "walmart_data = pd.read_csv(r'Dataset\\Walmart_dividends.csv')\n",
    "walmart_data_to_list = walmart_data.values.tolist()\n",
    "\n",
    "for date, dividend in walmart_data_to_list:\n",
    "    date_only = date.split(' ')[0]  # Extract only the date part\n",
    "    print(f\"Walmart distributed {dividend} dividend on {date_only}\")"
   ]
  },
  {
   "cell_type": "code",
   "execution_count": 6,
   "metadata": {},
   "outputs": [
    {
     "name": "stdout",
     "output_type": "stream",
     "text": [
      "Walmart distributed 0.732 dividend on 2019-04-23\n",
      "Walmart distributed 1.451 dividend on 2019-05-20\n",
      "Walmart distributed 2.237 dividend on 2021-01-14\n",
      "Walmart distributed 0.116 dividend on 2021-03-15\n",
      "Walmart distributed 0.383 dividend on 2021-04-19\n",
      "Walmart distributed 1.122 dividend on 2022-04-19\n",
      "Walmart distributed 1.473 dividend on 2023-04-24\n",
      "Walmart distributed 1.652 dividend on 2024-04-22\n",
      "Walmart distributed 0.736 dividend on 2025-04-22\n"
     ]
    },
    {
     "name": "stderr",
     "output_type": "stream",
     "text": [
      "<>:1: SyntaxWarning: invalid escape sequence '\\S'\n",
      "<>:1: SyntaxWarning: invalid escape sequence '\\S'\n",
      "C:\\Users\\miche\\AppData\\Local\\Temp\\ipykernel_22484\\4067834488.py:1: SyntaxWarning: invalid escape sequence '\\S'\n",
      "  stellantis_data = pd.read_csv('Dataset\\STLA_dividends.csv')\n"
     ]
    }
   ],
   "source": [
    "stellantis_data = pd.read_csv('Dataset\\STLA_dividends.csv')\n",
    "stellantis_data_to_list = stellantis_data.values.tolist()\n",
    "\n",
    "for date, dividend in stellantis_data_to_list:\n",
    "    date_only = date.split(' ')[0]  # Extract only the date part\n",
    "    print(f\"Walmart distributed {dividend} dividend on {date_only}\")\n",
    "\n"
   ]
  }
 ],
 "metadata": {
  "kernelspec": {
   "display_name": "Python 3",
   "language": "python",
   "name": "python3"
  },
  "language_info": {
   "codemirror_mode": {
    "name": "ipython",
    "version": 3
   },
   "file_extension": ".py",
   "mimetype": "text/x-python",
   "name": "python",
   "nbconvert_exporter": "python",
   "pygments_lexer": "ipython3",
   "version": "3.12.5"
  }
 },
 "nbformat": 4,
 "nbformat_minor": 2
}
