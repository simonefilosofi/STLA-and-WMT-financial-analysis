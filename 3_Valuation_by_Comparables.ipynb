{
 "cells": [
  {
   "cell_type": "markdown",
   "id": "2dd2be5f",
   "metadata": {},
   "source": [
    "## Valuation by Comparables\n",
    "\n",
    "The valuation by comparables method is a relative valuation technique that involves comparing the target company to similar companies in the same industry or sector. This method is based on the principle that similar assets should have similar valuations.\n",
    "\n",
    "In particular, the valuation by comparables method typically involves the following steps:\n",
    "1. **Identify Comparable Companies**: The first step is to identify a group of comparable companies that operate in the same industry or sector as the target company. These companies should have similar business models, growth prospects, and risk profiles.\n",
    "2. **Select Valuation Multiples**: The next step is to select appropriate valuation multiples that can be used to compare the target company to the comparable companies. Common valuation multiples include price-to-earnings (P/E) ratio and price-to-book (P/B) ratio.\n",
    "\n",
    "We selected the share price as the close value of the stock on the 21/04/2025, which is the date of the last available data."
   ]
  },
  {
   "cell_type": "code",
   "execution_count": 34,
   "id": "fa5c0407",
   "metadata": {},
   "outputs": [
    {
     "name": "stdout",
     "output_type": "stream",
     "text": [
      "Walmart equity value:  753533840000.0\n"
     ]
    }
   ],
   "source": [
    "# Storing the share prices (closing price of 21/04/2025)\n",
    "walmart_share_price = 93.91\n",
    "stellantis_share_price = 9.26\n",
    "\n",
    "# Importing the required metrics\n",
    "import pandas as pd\n",
    "\n",
    "# Walmart (WMT) metrics, with firts row as header and first column as index\n",
    "walmart_metrics = pd.read_csv('Outputs/wmt_metrics.csv', index_col=0, header=0)\n",
    "\n",
    "\n",
    "walmart_number_of_shares_outstanding = walmart_metrics.loc['Share Issued', '2025-01-31']\n",
    "walmart_equity_value = walmart_share_price * walmart_number_of_shares_outstanding\n",
    "\n",
    "print(\"Walmart equity value: \", walmart_equity_value)\n",
    "\n",
    "walmart_total_liabilities_net_minority_interest = 163131000000.00\n",
    "walmart_total_debt = 60114000000.0\n",
    "walmart_net_debt = 30030000000.0\n",
    "walmart_interest_expense = -2728000000.0\n",
    "\n",
    "stellantis_number_of_shares_outstanding = 2896073567.0\n",
    "stellantis_equity_value = stellantis_share_price * stellantis_number_of_shares_outstanding\n",
    "\n",
    "stellantis_total_debt = 37227000000.0\n",
    "stellantis_net_debt = 571000000.0\n",
    "stellantis_interest_expense = -1523000000.0"
   ]
  },
  {
   "cell_type": "code",
   "execution_count": 19,
   "id": "fc0abd04",
   "metadata": {},
   "outputs": [
    {
     "name": "stdout",
     "output_type": "stream",
     "text": [
      "eps 2.422233300099701\n",
      "walmart price to earning 38.770006174109895\n",
      "walmart price to book value 3.082154818253063\n"
     ]
    }
   ],
   "source": [
    "walmart_fy_earnings = 19436000000\n",
    "walmart_eps = walmart_fy_earnings / walmart_number_of_shares_outstanding\n",
    "\n",
    "walmart_bv = (260823000000.0 - 16340200000.0) / walmart_number_of_shares_outstanding\n",
    "print(\"eps\", walmart_eps)\n",
    "\n",
    "\n",
    "walmart_pe = walmart_share_price / walmart_eps \n",
    "walmart_pb = walmart_share_price / walmart_bv \n",
    "\n",
    "print(\"walmart price to earning\", walmart_pe) \n",
    "print(\"walmart price to book value\", walmart_pb) "
   ]
  },
  {
   "cell_type": "code",
   "execution_count": 18,
   "id": "880d7a32",
   "metadata": {},
   "outputs": [
    {
     "name": "stdout",
     "output_type": "stream",
     "text": [
      "Walmart WACC: 6.70%\n",
      "Stellantis WACC: 6.90%\n"
     ]
    }
   ],
   "source": [
    "walmart = {\n",
    "    'equity_value': walmart_equity_value,  \n",
    "    'debt_value': walmart_net_debt,    \n",
    "    'cost_of_equity': 0.0771,  \n",
    "    'cost_of_debt': walmart_interest_expense / walmart_total_debt,   \n",
    "    'tax_rate': 0.2209           \n",
    "}\n",
    "\n",
    "stellantis = {\n",
    "    'equity_value': stellantis_equity_value,    \n",
    "    'debt_value': stellantis_net_debt,\n",
    "    'cost_of_equity': 0.07,  \n",
    "    'cost_of_debt': stellantis_interest_expense / stellantis_total_debt,    \n",
    "    'tax_rate': 0.258           \n",
    "}\n",
    "\n",
    "def calculate_wacc(company):\n",
    "    E = company['equity_value']\n",
    "    D = company['debt_value']\n",
    "    V = E + D\n",
    "    #Re = company['cost_of_equity']\n",
    "    Rd = company['cost_of_debt']\n",
    "    Tc = company['tax_rate']\n",
    "    \n",
    "    wacc = ((E/V) * Re) + ((D/V) * Rd * (1 - Tc))\n",
    "    return wacc\n",
    "\n",
    "walmart_wacc = calculate_wacc(walmart)\n",
    "stellantis_wacc = calculate_wacc(stellantis)\n",
    "\n",
    "print(f\"Walmart WACC: {walmart_wacc:.2%}\")\n",
    "print(f\"Stellantis WACC: {stellantis_wacc:.2%}\")"
   ]
  },
  {
   "cell_type": "code",
   "execution_count": null,
   "id": "cb455b2f",
   "metadata": {},
   "outputs": [
    {
     "name": "stdout",
     "output_type": "stream",
     "text": [
      "--- Costco ---: 923.65\n",
      "Costco price to book value: 16.40\n",
      "Costco price to earning: 55.68\n",
      "\n",
      "\n",
      "--- Target ---: 135.50\n",
      "Target price to book value: 4.66\n",
      "Target price to earning: 15.29\n",
      "\n",
      "\n",
      "--- Kroger ---: 61.53\n",
      "Kroger price to book value: 3.69\n",
      "Kroger price to earning: 20.79\n",
      "\n",
      "\n",
      "--- Ross ---: 150.07\n",
      "Ross price to book value: 9.44\n",
      "Ross price to earning: 23.75\n",
      "\n",
      "\n",
      "--- Average ---:\n",
      "Average price to book value: 9.84\n",
      "Average price to earning: 33.40\n"
     ]
    }
   ],
   "source": [
    "# Importing competitors share prices and metrics to compute their ratios and compare their prices with Walmart's\n",
    "\n",
    "\n",
    "# Closing price of 21/04/2025\n",
    "costco_stock_price = 923.65\n",
    "target_stock_price = 135.50\n",
    "kroger_co_stock_price = 61.53\n",
    "ross_stock_price = 150.07\n",
    "\n",
    "# Earnings per share (EPS) for the last fiscal year\n",
    "costco_eps = 16.59\n",
    "target_eps = 8.86\n",
    "kroger_eps = 2.96\n",
    "ross_eps = 6.32\n",
    "\n",
    "# Shares outstanding for each company\n",
    "kroger_shares_outstanding = 696000000\n",
    "costco_shares_outstanding = 445000000\n",
    "target_shares_outstanding = 462000000\n",
    "ross_shares_outstanding = 331000000\n",
    "\n",
    "# Book value per share (BVPS) for the last fiscal year\n",
    "kroger_bv = (50505000000 - 38904000000) / kroger_shares_outstanding\n",
    "costco_bv = (68994000000 - 43936000000) / costco_shares_outstanding\n",
    "target_bv = (55356000000 - 41924000000) / target_shares_outstanding\n",
    "ross_bv = (14905000000 - 9642000000) / ross_shares_outstanding\n",
    "\n",
    "# Calculating price-to-earnings (P/E) for each company\n",
    "costco_pe = costco_stock_price/costco_eps\n",
    "target_pe = target_stock_price/target_eps\n",
    "kroger_pe = kroger_co_stock_price/kroger_eps\n",
    "ross_pe = ross_stock_price/ross_eps\n",
    "\n",
    "# Calculating price-to-book (P/B) for each company\n",
    "costco_pb = costco_stock_price/costco_bv\n",
    "target_pb = target_stock_price/target_bv\n",
    "kroger_pb = kroger_co_stock_price/kroger_bv\n",
    "ross_pb = ross_stock_price/ross_bv\n",
    "\n",
    "print(f\"--- Costco ---: {costco_stock_price:.2f}\")\n",
    "print(f\"Costco price to book value: {costco_pb:.2f}\")\n",
    "print(f\"Costco price to earning: {costco_pe:.2f}\")\n",
    "print(\"\\n\")\n",
    "\n",
    "print(f\"--- Target ---: {target_stock_price:.2f}\")\n",
    "print(f\"Target price to book value: {target_pb:.2f}\")\n",
    "print(f\"Target price to earning: {target_pe:.2f}\")\n",
    "print(\"\\n\")\n",
    "\n",
    "print(f\"--- Kroger ---: {kroger_co_stock_price:.2f}\")\n",
    "print(f\"Kroger price to book value: {kroger_pb:.2f}\")\n",
    "print(f\"Kroger price to earning: {kroger_pe:.2f}\")\n",
    "print(\"\\n\")\n",
    "\n",
    "print(f\"--- Ross ---: {ross_stock_price:.2f}\")\n",
    "print(f\"Ross price to book value: {ross_pb:.2f}\")\n",
    "print(f\"Ross price to earning: {ross_pe:.2f}\")\n",
    "print(\"\\n\")\n",
    "\n",
    "\n",
    "avg_pb = (costco_pb + ross_pb + kroger_pb ) / 3 # find best way not to fuckup  (probably add TJX)\n",
    "avg_pe = (costco_pe + ross_pe + kroger_pe ) / 3\n",
    "\n",
    "print(f\"--- Average ---:\")\n",
    "print(f\"Average price to book value: {avg_pb:.2f}\")\n",
    "print(f\"Average price to earning: {avg_pe:.2f}\")\n"
   ]
  },
  {
   "cell_type": "code",
   "execution_count": 14,
   "id": "78e83356",
   "metadata": {},
   "outputs": [
    {
     "name": "stdout",
     "output_type": "stream",
     "text": [
      "\n",
      "--- Stellantis Ratios based on 2024 Data ---\n",
      "EPS (USD, 2024): 2.04\n",
      "P/E Ratio: 6.39\n",
      "P/B Ratio: 0.43\n"
     ]
    }
   ],
   "source": [
    "eur_to_usd_rate = 1.08\n",
    "\n",
    "\n",
    "s_number_of_shares_outstanding = 2896073567.0\n",
    "s_Total_Debt_eur = 37227000000.0              \n",
    "s_Net_Debt_eur = 571000000.0                   \n",
    "s_total_equity_eur = 81692000000.0             \n",
    "\n",
    "# Income Statement (2024-12-31 column)\n",
    "s_interest_expense_eur = 1523000000.0          \n",
    "s_tax_rate = 0.258                             \n",
    "s_net_income_eur = 5473000000.0   \n",
    "\n",
    "stellantis_equity_value_usd = stellantis_share_price * s_number_of_shares_outstanding \n",
    "\n",
    "\n",
    "s_Total_Debt_usd = s_Total_Debt_eur * eur_to_usd_rate\n",
    "s_Net_Debt_usd = s_Net_Debt_eur * eur_to_usd_rate\n",
    "\n",
    "\n",
    "\n",
    "\n",
    "\n",
    "s_net_income_usd_2024 = s_net_income_eur * eur_to_usd_rate\n",
    "s_total_equity_usd_2024 = s_total_equity_eur * eur_to_usd_rate\n",
    "\n",
    "\n",
    "s_eps_usd_2024 = s_net_income_usd_2024 / s_number_of_shares_outstanding\n",
    "s_bvps_usd_2024 = s_total_equity_usd_2024 / s_number_of_shares_outstanding\n",
    "\n",
    "\n",
    "stellantis_pe_updated = stellantis_share_price / s_eps_usd_2024 if s_eps_usd_2024 != 0 else float('inf')\n",
    "stellantis_pb_updated = stellantis_share_price / s_bvps_usd_2024 if s_bvps_usd_2024 != 0 else float('inf')\n",
    "\n",
    "print(f\"\\n--- Stellantis Ratios based on 2024 Data ---\")\n",
    "print(f\"EPS (USD, 2024): {s_eps_usd_2024:.2f}\")\n",
    "print(f\"P/E Ratio: {stellantis_pe_updated:.2f}\")\n",
    "print(f\"P/B Ratio: {stellantis_pb_updated:.2f}\")"
   ]
  },
  {
   "cell_type": "code",
   "execution_count": 15,
   "id": "1590267f",
   "metadata": {},
   "outputs": [
    {
     "name": "stdout",
     "output_type": "stream",
     "text": [
      "\n",
      "Average Comparable P/E: 7.37\n",
      "Average Comparable P/B: 0.92\n"
     ]
    }
   ],
   "source": [
    "# General Motors (GM)\n",
    "gm_stock_price = 53.27\n",
    "gm_eps = 7.00\n",
    "gm_bvps = 65.59 \n",
    "\n",
    "# Ford (F)\n",
    "ford_stock_price = 9.90\n",
    "ford_eps = 1.46 \n",
    "ford_bvps = 11.32\n",
    "\n",
    "# Toyota (TM)\n",
    "toyota_stock_price = 194.61\n",
    "toyota_eps = 25.25 \n",
    "toyota_bvps = 180.46 \n",
    "\n",
    "\n",
    "gm_pe = gm_stock_price / gm_eps\n",
    "gm_pb = gm_stock_price / gm_bvps\n",
    "\n",
    "ford_pe = ford_stock_price / ford_eps\n",
    "ford_pb = ford_stock_price / ford_bvps\n",
    "\n",
    "toyota_pe = toyota_stock_price / toyota_eps\n",
    "toyota_pb = toyota_stock_price / toyota_bvps\n",
    "\n",
    "\n",
    "\n",
    "\n",
    "comp_pe_list = [gm_pe, ford_pe, toyota_pe]\n",
    "comp_pb_list = [gm_pb, ford_pb, toyota_pb]\n",
    "\n",
    "avg_comp_pe = sum(comp_pe_list) / len(comp_pe_list)\n",
    "avg_comp_pb = sum(comp_pb_list) / len(comp_pb_list)\n",
    "\n",
    "print(f\"\\nAverage Comparable P/E: {avg_comp_pe:.2f}\")\n",
    "print(f\"Average Comparable P/B: {avg_comp_pb:.2f}\")"
   ]
  },
  {
   "cell_type": "code",
   "execution_count": 16,
   "id": "ebc68d47",
   "metadata": {},
   "outputs": [
    {
     "name": "stdout",
     "output_type": "stream",
     "text": [
      "\n",
      "--- CAPM Cost of Equity (Re) ---\n",
      "Used Rf: 0.0424, Used Rm: 0.085\n",
      "Walmart Beta: 0.6732, Calculated Re_walmart: 0.0711 (7.11%)\n",
      "Stellantis Beta: 1.5136, Calculated Re_stellantis: 0.1069 (10.69%)\n"
     ]
    }
   ],
   "source": [
    "# Standardize Assumptions (Using values from previous cells)\n",
    "Rf = 0.0424  # As used in Cell 136 for CAPM Re calculation\n",
    "Rm = 0.085   # As used in Cell 136\n",
    "Rpremium = Rm - Rf\n",
    "beta_walmart = pd.read_csv('Outputs/beta_results.csv').iloc[0, 1]\n",
    "beta_stellantis = pd.read_csv('Outputs/beta_results.csv').iloc[1, 1]\n",
    "\n",
    "# Calculate Re using CAPM (Using betas calculated in Cell 128)\n",
    "# beta_walmart and beta_stellantis should be defined from Cell 128\n",
    "Re_walmart = Rf + beta_walmart * Rpremium\n",
    "Re_stellantis = Rf + beta_stellantis * Rpremium\n",
    "\n",
    "print(f\"\\n--- CAPM Cost of Equity (Re) ---\")\n",
    "print(f\"Used Rf: {Rf:.4f}, Used Rm: {Rm:.3f}\")\n",
    "print(f\"Walmart Beta: {beta_walmart:.4f}, Calculated Re_walmart: {Re_walmart:.4f} ({Re_walmart:.2%})\")\n",
    "print(f\"Stellantis Beta: {beta_stellantis:.4f}, Calculated Re_stellantis: {Re_stellantis:.4f} ({Re_stellantis:.2%})\")"
   ]
  }
 ],
 "metadata": {
  "kernelspec": {
   "display_name": "Python 3",
   "language": "python",
   "name": "python3"
  },
  "language_info": {
   "codemirror_mode": {
    "name": "ipython",
    "version": 3
   },
   "file_extension": ".py",
   "mimetype": "text/x-python",
   "name": "python",
   "nbconvert_exporter": "python",
   "pygments_lexer": "ipython3",
   "version": "3.13.2"
  }
 },
 "nbformat": 4,
 "nbformat_minor": 5
}
